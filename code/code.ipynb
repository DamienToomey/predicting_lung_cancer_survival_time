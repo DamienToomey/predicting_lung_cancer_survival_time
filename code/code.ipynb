{
 "cells": [
  {
   "cell_type": "markdown",
   "metadata": {},
   "source": [
    "# Predicting lung cancer survival time by OWKIN"
   ]
  },
  {
   "cell_type": "markdown",
   "metadata": {},
   "source": [
    "### Problem\n",
    "\n",
    "- supervised survival prediction problem\n",
    "- predict the survival time of a patient (remaining days to live) from one three-dimensional CT scan (grayscale image) and a set of pre-extracted quantitative imaging features, as well as clinical data"
   ]
  },
  {
   "cell_type": "markdown",
   "metadata": {},
   "source": [
    "### Import"
   ]
  },
  {
   "cell_type": "code",
   "execution_count": 23,
   "metadata": {},
   "outputs": [],
   "source": [
    "import numpy as np\n",
    "import os\n",
    "import matplotlib.pyplot as plt\n",
    "import pandas as pd\n",
    "from sklearn.preprocessing import LabelEncoder\n",
    "import autosklearn.regression\n",
    "import time\n",
    "\n",
    "# concordance index (C-index)\n",
    "from metrics_t9gbvr2 import cindex"
   ]
  },
  {
   "cell_type": "markdown",
   "metadata": {},
   "source": [
    "### Data\n",
    "\n",
    "- x_train : data_Q0G7b5t\n",
    "- y_train : output_VSVxRFU.csv\n",
    "- x_test : data_9Cbe5hx"
   ]
  },
  {
   "cell_type": "code",
   "execution_count": 24,
   "metadata": {},
   "outputs": [
    {
     "name": "stdout",
     "output_type": "stream",
     "text": [
      "Number of training ct scans : 300\n",
      "Number of test ct scans : 125\n"
     ]
    }
   ],
   "source": [
    "data_folder_path = \"../data\"\n",
    "training_folder_path = os.path.join(data_folder_path, \"data_Q0G7b5t\")\n",
    "test_folder_path = os.path.join(data_folder_path, \"data_9Cbe5hx\")\n",
    "\n",
    "training_ct_scan_names = [os.path.join(root,file_name) for root,_,file_names in os.walk(training_folder_path) for file_name in file_names if file_name.endswith('.npz')]\n",
    "test_ct_scan_names = [os.path.join(root,file_name) for root,_,file_names in os.walk(test_folder_path) for file_name in file_names if file_name.endswith('.npz')]\n",
    "\n",
    "print(\"Number of training ct scans : {}\".format(len(training_ct_scan_names)))\n",
    "print(\"Number of test ct scans : {}\".format(len(test_ct_scan_names)))\n",
    "\n",
    "training_features_path = os.path.join(training_folder_path, \"features\")\n",
    "test_features_path = os.path.join(test_folder_path, \"features\")\n",
    "\n",
    "submission_file_path = \"../random_submission_example\""
   ]
  },
  {
   "cell_type": "code",
   "execution_count": 25,
   "metadata": {},
   "outputs": [],
   "source": [
    "archive = np.load(training_ct_scan_names[0])\n",
    "scan = archive['scan']\n",
    "mask = archive['mask']\n",
    "# scan.shape equals mask.shape"
   ]
  },
  {
   "cell_type": "code",
   "execution_count": 26,
   "metadata": {},
   "outputs": [
    {
     "name": "stdout",
     "output_type": "stream",
     "text": [
      "p0.Event 0\n",
      "p0.SurvivalTime 1378\n"
     ]
    }
   ],
   "source": [
    "df_train_output = pd.read_csv(os.path.join(data_folder_path, \"output_VSVxRFU.csv\"), index_col=0)\n",
    "p0 = df_train_output.loc[202]\n",
    "print(\"p0.Event\", p0.Event) # prints 1 or 0\n",
    "print(\"p0.SurvivalTime\", p0.SurvivalTime)\n",
    "# prints time to event (time to death or time to last known alive) in days"
   ]
  },
  {
   "cell_type": "code",
   "execution_count": 27,
   "metadata": {},
   "outputs": [
    {
     "data": {
      "text/html": [
       "<div>\n",
       "<style scoped>\n",
       "    .dataframe tbody tr th:only-of-type {\n",
       "        vertical-align: middle;\n",
       "    }\n",
       "\n",
       "    .dataframe tbody tr th {\n",
       "        vertical-align: top;\n",
       "    }\n",
       "\n",
       "    .dataframe thead th {\n",
       "        text-align: right;\n",
       "    }\n",
       "</style>\n",
       "<table border=\"1\" class=\"dataframe\">\n",
       "  <thead>\n",
       "    <tr style=\"text-align: right;\">\n",
       "      <th></th>\n",
       "      <th>SurvivalTime</th>\n",
       "      <th>Event</th>\n",
       "    </tr>\n",
       "    <tr>\n",
       "      <th>PatientID</th>\n",
       "      <th></th>\n",
       "      <th></th>\n",
       "    </tr>\n",
       "  </thead>\n",
       "  <tbody>\n",
       "    <tr>\n",
       "      <th>328</th>\n",
       "      <td>182</td>\n",
       "      <td>1</td>\n",
       "    </tr>\n",
       "    <tr>\n",
       "      <th>16</th>\n",
       "      <td>316</td>\n",
       "      <td>0</td>\n",
       "    </tr>\n",
       "    <tr>\n",
       "      <th>33</th>\n",
       "      <td>515</td>\n",
       "      <td>1</td>\n",
       "    </tr>\n",
       "    <tr>\n",
       "      <th>244</th>\n",
       "      <td>1369</td>\n",
       "      <td>1</td>\n",
       "    </tr>\n",
       "    <tr>\n",
       "      <th>336</th>\n",
       "      <td>524</td>\n",
       "      <td>0</td>\n",
       "    </tr>\n",
       "  </tbody>\n",
       "</table>\n",
       "</div>"
      ],
      "text/plain": [
       "           SurvivalTime  Event\n",
       "PatientID                     \n",
       "328                 182      1\n",
       "16                  316      0\n",
       "33                  515      1\n",
       "244                1369      1\n",
       "336                 524      0"
      ]
     },
     "execution_count": 27,
     "metadata": {},
     "output_type": "execute_result"
    }
   ],
   "source": [
    "df_train_output.sample(5)"
   ]
  },
  {
   "cell_type": "markdown",
   "metadata": {},
   "source": [
    "### Interpretation"
   ]
  },
  {
   "cell_type": "markdown",
   "metadata": {},
   "source": [
    "(`1=death observed`, `0=escaped from study`)"
   ]
  },
  {
   "cell_type": "markdown",
   "metadata": {},
   "source": [
    "### Load training data"
   ]
  },
  {
   "cell_type": "code",
   "execution_count": 28,
   "metadata": {},
   "outputs": [
    {
     "name": "stdout",
     "output_type": "stream",
     "text": [
      "Nb rows in df_training_clinical_data : 300\n",
      "Nb rows in df_training_radiomics : 300\n"
     ]
    }
   ],
   "source": [
    "file_name = os.path.join(training_features_path, \"clinical_data.csv\")\n",
    "df_training_clinical_data = pd.read_csv(file_name, delimiter=',')\n",
    "print(\"Nb rows in df_training_clinical_data : {}\".format(len(df_training_clinical_data)))\n",
    "\n",
    "file_name = os.path.join(training_features_path, \"radiomics.csv\")\n",
    "df_training_radiomics = pd.read_csv(file_name, delimiter=',', skiprows=[0,2], header=[0])\n",
    "df_training_radiomics.rename(columns={'Unnamed: 0': 'PatientID'}, inplace=True)\n",
    "print(\"Nb rows in df_training_radiomics : {}\".format(len(df_training_radiomics)))"
   ]
  },
  {
   "cell_type": "markdown",
   "metadata": {},
   "source": [
    "### Load test data"
   ]
  },
  {
   "cell_type": "code",
   "execution_count": 29,
   "metadata": {},
   "outputs": [
    {
     "name": "stdout",
     "output_type": "stream",
     "text": [
      "Nb rows in df_training_clinical_data : 125\n",
      "Nb rows in df_training_radiomics : 125\n"
     ]
    }
   ],
   "source": [
    "file_name = os.path.join(test_features_path, \"clinical_data.csv\")\n",
    "df_test_clinical_data = pd.read_csv(file_name, delimiter=',')\n",
    "print(\"Nb rows in df_training_clinical_data : {}\".format(len(df_test_clinical_data)))\n",
    "\n",
    "file_name = os.path.join(test_features_path, \"radiomics.csv\")\n",
    "df_test_radiomics = pd.read_csv(file_name, delimiter=',', skiprows=[0,2], header=[0])\n",
    "df_test_radiomics.rename(columns={'Unnamed: 0': 'PatientID'}, inplace=True)\n",
    "print(\"Nb rows in df_training_radiomics : {}\".format(len(df_test_clinical_data)))"
   ]
  },
  {
   "cell_type": "markdown",
   "metadata": {},
   "source": [
    "### clinical_data.csv"
   ]
  },
  {
   "cell_type": "code",
   "execution_count": 30,
   "metadata": {},
   "outputs": [
    {
     "data": {
      "text/html": [
       "<div>\n",
       "<style scoped>\n",
       "    .dataframe tbody tr th:only-of-type {\n",
       "        vertical-align: middle;\n",
       "    }\n",
       "\n",
       "    .dataframe tbody tr th {\n",
       "        vertical-align: top;\n",
       "    }\n",
       "\n",
       "    .dataframe thead th {\n",
       "        text-align: right;\n",
       "    }\n",
       "</style>\n",
       "<table border=\"1\" class=\"dataframe\">\n",
       "  <thead>\n",
       "    <tr style=\"text-align: right;\">\n",
       "      <th></th>\n",
       "      <th>PatientID</th>\n",
       "      <th>Histology</th>\n",
       "      <th>Mstage</th>\n",
       "      <th>Nstage</th>\n",
       "      <th>SourceDataset</th>\n",
       "      <th>Tstage</th>\n",
       "      <th>age</th>\n",
       "    </tr>\n",
       "  </thead>\n",
       "  <tbody>\n",
       "    <tr>\n",
       "      <th>183</th>\n",
       "      <td>26</td>\n",
       "      <td>squamous cell carcinoma</td>\n",
       "      <td>0</td>\n",
       "      <td>2</td>\n",
       "      <td>l1</td>\n",
       "      <td>4</td>\n",
       "      <td>62.4011</td>\n",
       "    </tr>\n",
       "    <tr>\n",
       "      <th>232</th>\n",
       "      <td>320</td>\n",
       "      <td>large cell</td>\n",
       "      <td>0</td>\n",
       "      <td>0</td>\n",
       "      <td>l1</td>\n",
       "      <td>4</td>\n",
       "      <td>79.1020</td>\n",
       "    </tr>\n",
       "    <tr>\n",
       "      <th>229</th>\n",
       "      <td>330</td>\n",
       "      <td>squamous cell carcinoma</td>\n",
       "      <td>0</td>\n",
       "      <td>0</td>\n",
       "      <td>l1</td>\n",
       "      <td>4</td>\n",
       "      <td>66.0534</td>\n",
       "    </tr>\n",
       "    <tr>\n",
       "      <th>155</th>\n",
       "      <td>196</td>\n",
       "      <td>large cell</td>\n",
       "      <td>0</td>\n",
       "      <td>0</td>\n",
       "      <td>l1</td>\n",
       "      <td>1</td>\n",
       "      <td>76.4846</td>\n",
       "    </tr>\n",
       "    <tr>\n",
       "      <th>127</th>\n",
       "      <td>51</td>\n",
       "      <td>squamous cell carcinoma</td>\n",
       "      <td>0</td>\n",
       "      <td>0</td>\n",
       "      <td>l1</td>\n",
       "      <td>4</td>\n",
       "      <td>78.6886</td>\n",
       "    </tr>\n",
       "  </tbody>\n",
       "</table>\n",
       "</div>"
      ],
      "text/plain": [
       "     PatientID                Histology  Mstage  Nstage SourceDataset  Tstage  \\\n",
       "183         26  squamous cell carcinoma       0       2            l1       4   \n",
       "232        320               large cell       0       0            l1       4   \n",
       "229        330  squamous cell carcinoma       0       0            l1       4   \n",
       "155        196               large cell       0       0            l1       1   \n",
       "127         51  squamous cell carcinoma       0       0            l1       4   \n",
       "\n",
       "         age  \n",
       "183  62.4011  \n",
       "232  79.1020  \n",
       "229  66.0534  \n",
       "155  76.4846  \n",
       "127  78.6886  "
      ]
     },
     "execution_count": 30,
     "metadata": {},
     "output_type": "execute_result"
    }
   ],
   "source": [
    "df_training_clinical_data.sample(5)"
   ]
  },
  {
   "cell_type": "markdown",
   "metadata": {},
   "source": [
    "#### Are there NaN values in df_training_clinical_data ?"
   ]
  },
  {
   "cell_type": "code",
   "execution_count": 31,
   "metadata": {},
   "outputs": [
    {
     "data": {
      "text/plain": [
       "PatientID         0\n",
       "Histology        20\n",
       "Mstage            0\n",
       "Nstage            0\n",
       "SourceDataset     0\n",
       "Tstage            0\n",
       "age              16\n",
       "dtype: int64"
      ]
     },
     "execution_count": 31,
     "metadata": {},
     "output_type": "execute_result"
    }
   ],
   "source": [
    "#df_training_clinical_data.info()\n",
    "df_training_clinical_data.isnull().sum()"
   ]
  },
  {
   "cell_type": "markdown",
   "metadata": {},
   "source": [
    "### Remark"
   ]
  },
  {
   "cell_type": "markdown",
   "metadata": {},
   "source": [
    "There are NaN values in columns Histology and age. We will not use these in our study so no problem."
   ]
  },
  {
   "cell_type": "markdown",
   "metadata": {},
   "source": [
    "### radiomics.csv"
   ]
  },
  {
   "cell_type": "code",
   "execution_count": 32,
   "metadata": {},
   "outputs": [
    {
     "data": {
      "text/html": [
       "<div>\n",
       "<style scoped>\n",
       "    .dataframe tbody tr th:only-of-type {\n",
       "        vertical-align: middle;\n",
       "    }\n",
       "\n",
       "    .dataframe tbody tr th {\n",
       "        vertical-align: top;\n",
       "    }\n",
       "\n",
       "    .dataframe thead th {\n",
       "        text-align: right;\n",
       "    }\n",
       "</style>\n",
       "<table border=\"1\" class=\"dataframe\">\n",
       "  <thead>\n",
       "    <tr style=\"text-align: right;\">\n",
       "      <th></th>\n",
       "      <th>PatientID</th>\n",
       "      <th>original_shape_Compactness1</th>\n",
       "      <th>original_shape_Compactness2</th>\n",
       "      <th>original_shape_Maximum3DDiameter</th>\n",
       "      <th>original_shape_SphericalDisproportion</th>\n",
       "      <th>original_shape_Sphericity</th>\n",
       "      <th>original_shape_SurfaceArea</th>\n",
       "      <th>original_shape_SurfaceVolumeRatio</th>\n",
       "      <th>original_shape_VoxelVolume</th>\n",
       "      <th>original_firstorder_Energy</th>\n",
       "      <th>...</th>\n",
       "      <th>original_glrlm_LongRunEmphasis</th>\n",
       "      <th>original_glrlm_GrayLevelNonUniformity</th>\n",
       "      <th>original_glrlm_RunLengthNonUniformity</th>\n",
       "      <th>original_glrlm_RunPercentage</th>\n",
       "      <th>original_glrlm_LowGrayLevelRunEmphasis</th>\n",
       "      <th>original_glrlm_HighGrayLevelRunEmphasis</th>\n",
       "      <th>original_glrlm_ShortRunLowGrayLevelEmphasis</th>\n",
       "      <th>original_glrlm_ShortRunHighGrayLevelEmphasis</th>\n",
       "      <th>original_glrlm_LongRunLowGrayLevelEmphasis</th>\n",
       "      <th>original_glrlm_LongRunHighGrayLevelEmphasis</th>\n",
       "    </tr>\n",
       "  </thead>\n",
       "  <tbody>\n",
       "    <tr>\n",
       "      <th>245</th>\n",
       "      <td>307</td>\n",
       "      <td>0.026776</td>\n",
       "      <td>0.254741</td>\n",
       "      <td>93.994681</td>\n",
       "      <td>1.577492</td>\n",
       "      <td>0.633917</td>\n",
       "      <td>18647.084490</td>\n",
       "      <td>0.154302</td>\n",
       "      <td>120941.0</td>\n",
       "      <td>3.850594e+09</td>\n",
       "      <td>...</td>\n",
       "      <td>5.560197</td>\n",
       "      <td>5669.377997</td>\n",
       "      <td>38830.605157</td>\n",
       "      <td>0.597109</td>\n",
       "      <td>0.000925</td>\n",
       "      <td>1527.758592</td>\n",
       "      <td>0.000776</td>\n",
       "      <td>1089.961536</td>\n",
       "      <td>0.003449</td>\n",
       "      <td>10044.747654</td>\n",
       "    </tr>\n",
       "    <tr>\n",
       "      <th>13</th>\n",
       "      <td>197</td>\n",
       "      <td>0.018018</td>\n",
       "      <td>0.115348</td>\n",
       "      <td>65.099923</td>\n",
       "      <td>2.054298</td>\n",
       "      <td>0.486784</td>\n",
       "      <td>11734.656758</td>\n",
       "      <td>0.289059</td>\n",
       "      <td>40708.0</td>\n",
       "      <td>1.427557e+10</td>\n",
       "      <td>...</td>\n",
       "      <td>1.277348</td>\n",
       "      <td>874.971523</td>\n",
       "      <td>32660.830673</td>\n",
       "      <td>0.924148</td>\n",
       "      <td>0.026780</td>\n",
       "      <td>685.685963</td>\n",
       "      <td>0.022674</td>\n",
       "      <td>643.348518</td>\n",
       "      <td>0.054633</td>\n",
       "      <td>907.110811</td>\n",
       "    </tr>\n",
       "    <tr>\n",
       "      <th>223</th>\n",
       "      <td>96</td>\n",
       "      <td>0.020302</td>\n",
       "      <td>0.146442</td>\n",
       "      <td>74.256313</td>\n",
       "      <td>1.897193</td>\n",
       "      <td>0.527094</td>\n",
       "      <td>12532.114455</td>\n",
       "      <td>0.248245</td>\n",
       "      <td>50570.0</td>\n",
       "      <td>3.235319e+09</td>\n",
       "      <td>...</td>\n",
       "      <td>3.152128</td>\n",
       "      <td>1902.356633</td>\n",
       "      <td>22556.852347</td>\n",
       "      <td>0.707983</td>\n",
       "      <td>0.001566</td>\n",
       "      <td>1837.974760</td>\n",
       "      <td>0.001393</td>\n",
       "      <td>1501.611959</td>\n",
       "      <td>0.003122</td>\n",
       "      <td>5793.888586</td>\n",
       "    </tr>\n",
       "    <tr>\n",
       "      <th>103</th>\n",
       "      <td>399</td>\n",
       "      <td>0.031677</td>\n",
       "      <td>0.356531</td>\n",
       "      <td>29.495762</td>\n",
       "      <td>1.410266</td>\n",
       "      <td>0.709086</td>\n",
       "      <td>1879.058324</td>\n",
       "      <td>0.410873</td>\n",
       "      <td>4602.0</td>\n",
       "      <td>6.052421e+08</td>\n",
       "      <td>...</td>\n",
       "      <td>1.674853</td>\n",
       "      <td>146.877110</td>\n",
       "      <td>3143.114116</td>\n",
       "      <td>0.859660</td>\n",
       "      <td>0.004496</td>\n",
       "      <td>833.350822</td>\n",
       "      <td>0.004327</td>\n",
       "      <td>722.615483</td>\n",
       "      <td>0.005436</td>\n",
       "      <td>1704.969828</td>\n",
       "    </tr>\n",
       "    <tr>\n",
       "      <th>133</th>\n",
       "      <td>121</td>\n",
       "      <td>0.025970</td>\n",
       "      <td>0.239640</td>\n",
       "      <td>19.949937</td>\n",
       "      <td>1.609954</td>\n",
       "      <td>0.621136</td>\n",
       "      <td>687.207690</td>\n",
       "      <td>0.828710</td>\n",
       "      <td>850.0</td>\n",
       "      <td>1.984541e+08</td>\n",
       "      <td>...</td>\n",
       "      <td>1.138374</td>\n",
       "      <td>20.662759</td>\n",
       "      <td>749.602624</td>\n",
       "      <td>0.957828</td>\n",
       "      <td>0.011637</td>\n",
       "      <td>938.502113</td>\n",
       "      <td>0.011345</td>\n",
       "      <td>899.407513</td>\n",
       "      <td>0.012811</td>\n",
       "      <td>1116.033447</td>\n",
       "    </tr>\n",
       "  </tbody>\n",
       "</table>\n",
       "<p>5 rows × 54 columns</p>\n",
       "</div>"
      ],
      "text/plain": [
       "     PatientID  original_shape_Compactness1  original_shape_Compactness2  \\\n",
       "245        307                     0.026776                     0.254741   \n",
       "13         197                     0.018018                     0.115348   \n",
       "223         96                     0.020302                     0.146442   \n",
       "103        399                     0.031677                     0.356531   \n",
       "133        121                     0.025970                     0.239640   \n",
       "\n",
       "     original_shape_Maximum3DDiameter  original_shape_SphericalDisproportion  \\\n",
       "245                         93.994681                               1.577492   \n",
       "13                          65.099923                               2.054298   \n",
       "223                         74.256313                               1.897193   \n",
       "103                         29.495762                               1.410266   \n",
       "133                         19.949937                               1.609954   \n",
       "\n",
       "     original_shape_Sphericity  original_shape_SurfaceArea  \\\n",
       "245                   0.633917                18647.084490   \n",
       "13                    0.486784                11734.656758   \n",
       "223                   0.527094                12532.114455   \n",
       "103                   0.709086                 1879.058324   \n",
       "133                   0.621136                  687.207690   \n",
       "\n",
       "     original_shape_SurfaceVolumeRatio  original_shape_VoxelVolume  \\\n",
       "245                           0.154302                    120941.0   \n",
       "13                            0.289059                     40708.0   \n",
       "223                           0.248245                     50570.0   \n",
       "103                           0.410873                      4602.0   \n",
       "133                           0.828710                       850.0   \n",
       "\n",
       "     original_firstorder_Energy  ...  original_glrlm_LongRunEmphasis  \\\n",
       "245                3.850594e+09  ...                        5.560197   \n",
       "13                 1.427557e+10  ...                        1.277348   \n",
       "223                3.235319e+09  ...                        3.152128   \n",
       "103                6.052421e+08  ...                        1.674853   \n",
       "133                1.984541e+08  ...                        1.138374   \n",
       "\n",
       "     original_glrlm_GrayLevelNonUniformity  \\\n",
       "245                            5669.377997   \n",
       "13                              874.971523   \n",
       "223                            1902.356633   \n",
       "103                             146.877110   \n",
       "133                              20.662759   \n",
       "\n",
       "     original_glrlm_RunLengthNonUniformity  original_glrlm_RunPercentage  \\\n",
       "245                           38830.605157                      0.597109   \n",
       "13                            32660.830673                      0.924148   \n",
       "223                           22556.852347                      0.707983   \n",
       "103                            3143.114116                      0.859660   \n",
       "133                             749.602624                      0.957828   \n",
       "\n",
       "     original_glrlm_LowGrayLevelRunEmphasis  \\\n",
       "245                                0.000925   \n",
       "13                                 0.026780   \n",
       "223                                0.001566   \n",
       "103                                0.004496   \n",
       "133                                0.011637   \n",
       "\n",
       "     original_glrlm_HighGrayLevelRunEmphasis  \\\n",
       "245                              1527.758592   \n",
       "13                                685.685963   \n",
       "223                              1837.974760   \n",
       "103                               833.350822   \n",
       "133                               938.502113   \n",
       "\n",
       "     original_glrlm_ShortRunLowGrayLevelEmphasis  \\\n",
       "245                                     0.000776   \n",
       "13                                      0.022674   \n",
       "223                                     0.001393   \n",
       "103                                     0.004327   \n",
       "133                                     0.011345   \n",
       "\n",
       "     original_glrlm_ShortRunHighGrayLevelEmphasis  \\\n",
       "245                                   1089.961536   \n",
       "13                                     643.348518   \n",
       "223                                   1501.611959   \n",
       "103                                    722.615483   \n",
       "133                                    899.407513   \n",
       "\n",
       "     original_glrlm_LongRunLowGrayLevelEmphasis  \\\n",
       "245                                    0.003449   \n",
       "13                                     0.054633   \n",
       "223                                    0.003122   \n",
       "103                                    0.005436   \n",
       "133                                    0.012811   \n",
       "\n",
       "     original_glrlm_LongRunHighGrayLevelEmphasis  \n",
       "245                                 10044.747654  \n",
       "13                                    907.110811  \n",
       "223                                  5793.888586  \n",
       "103                                  1704.969828  \n",
       "133                                  1116.033447  \n",
       "\n",
       "[5 rows x 54 columns]"
      ]
     },
     "execution_count": 32,
     "metadata": {},
     "output_type": "execute_result"
    }
   ],
   "source": [
    "df_training_radiomics.sample(5)"
   ]
  },
  {
   "cell_type": "markdown",
   "metadata": {},
   "source": [
    "#### Are there NaN values in df_training_radiomics ?"
   ]
  },
  {
   "cell_type": "code",
   "execution_count": 33,
   "metadata": {},
   "outputs": [
    {
     "data": {
      "text/plain": [
       "0"
      ]
     },
     "execution_count": 33,
     "metadata": {},
     "output_type": "execute_result"
    }
   ],
   "source": [
    "#df_training_radiomics.info()\n",
    "df_training_radiomics.isnull().sum().sum()"
   ]
  },
  {
   "cell_type": "markdown",
   "metadata": {},
   "source": [
    "### Remark"
   ]
  },
  {
   "cell_type": "markdown",
   "metadata": {},
   "source": [
    "There are no NaN values in df_training_radiomics."
   ]
  },
  {
   "cell_type": "markdown",
   "metadata": {},
   "source": [
    "### Make sure that PatientID are aligned in df_training_clinical_data and df_training_radiomics"
   ]
  },
  {
   "cell_type": "code",
   "execution_count": 34,
   "metadata": {},
   "outputs": [
    {
     "data": {
      "text/plain": [
       "300"
      ]
     },
     "execution_count": 34,
     "metadata": {},
     "output_type": "execute_result"
    }
   ],
   "source": [
    "(df_training_clinical_data[\"PatientID\"]==df_training_radiomics[\"PatientID\"]).sum()"
   ]
  },
  {
   "cell_type": "markdown",
   "metadata": {},
   "source": [
    "$300$ means that all PatientIDs are aligned in both training dataframes"
   ]
  },
  {
   "cell_type": "markdown",
   "metadata": {},
   "source": [
    "### Make sure that PatientID are aligned in df_test_clinical_data and df_test_radiomics"
   ]
  },
  {
   "cell_type": "code",
   "execution_count": 35,
   "metadata": {},
   "outputs": [
    {
     "data": {
      "text/plain": [
       "125"
      ]
     },
     "execution_count": 35,
     "metadata": {},
     "output_type": "execute_result"
    }
   ],
   "source": [
    "(df_test_clinical_data[\"PatientID\"]==df_test_radiomics[\"PatientID\"]).sum()"
   ]
  },
  {
   "cell_type": "markdown",
   "metadata": {},
   "source": [
    "$125$ means that all PatientIDs are aligned in both test dataframes"
   ]
  },
  {
   "cell_type": "markdown",
   "metadata": {},
   "source": [
    "### Baseline model for survival regression on NSCLC clinical data : Cox proportional hazard (Cox-PH) model"
   ]
  },
  {
   "cell_type": "markdown",
   "metadata": {},
   "source": [
    "This baseline is trained on a selection of features from both clinical data file and radiomics file. A Cox-PH model was fitted on\n",
    "\n",
    "- 1 - Tumor sphericity, a measure of the roundness of the shape of the tumor region relative to a sphere, regardless its dimensions (size).\n",
    "- 2 - The tumor's surface to volume ratio is a measure of the compactness of the tumor, related to its size.\n",
    "- 3 - The tumor's maximum 3d diameter The biggest diameter measurable from the tumor volume\n",
    "- 4 - The dataset of origin\n",
    "- 5 - The N-tumoral stage grading of the tumor describing nearby (regional) lymph nodes involved\n",
    "- 6 - The tumor's joint entropy, specifying the randomness in the image pixel values\n",
    "- 7 - The tumor's inverse different, a measure of the local homogeneity of the tumor\n",
    "- 8 - The tumor's inverse difference moment is another measurement of the local homogeneity of the tumor"
   ]
  },
  {
   "cell_type": "markdown",
   "metadata": {},
   "source": [
    "### Name of variables"
   ]
  },
  {
   "cell_type": "markdown",
   "metadata": {},
   "source": [
    "- 1 - original_shape_Sphericity\n",
    "- 2 - original_shape_SurfaceVolumeRatio\n",
    "- 3 - original_shape_Maximum3DDiameter\n",
    "- 4 - l1 (0) or l2 (1)\n",
    "- 5 - Nstage\n",
    "- 6 - original_firstorder_Entropy\n",
    "- 7 - inverse difference (original_glcm_Id)\n",
    "- 8 - inverse difference moment (original_glcm_Idm) (according to [here](https://static-content.springer.com/esm/art%3A10.1038%2Fncomms5006/MediaObjects/41467_2014_BFncomms5006_MOESM716_ESM.pdf), ctr+F IDMN and [here](https://github.com/cerr/CERR/wiki/GLCM_global_features))"
   ]
  },
  {
   "cell_type": "markdown",
   "metadata": {},
   "source": [
    "### Remark"
   ]
  },
  {
   "cell_type": "markdown",
   "metadata": {},
   "source": [
    "Variables used in the baseline use quantitve and qualitive variables. (dataset of origin (l1 or l2)) makes no sens "
   ]
  },
  {
   "cell_type": "code",
   "execution_count": 36,
   "metadata": {},
   "outputs": [
    {
     "data": {
      "text/html": [
       "<div>\n",
       "<style scoped>\n",
       "    .dataframe tbody tr th:only-of-type {\n",
       "        vertical-align: middle;\n",
       "    }\n",
       "\n",
       "    .dataframe tbody tr th {\n",
       "        vertical-align: top;\n",
       "    }\n",
       "\n",
       "    .dataframe thead th {\n",
       "        text-align: right;\n",
       "    }\n",
       "</style>\n",
       "<table border=\"1\" class=\"dataframe\">\n",
       "  <thead>\n",
       "    <tr style=\"text-align: right;\">\n",
       "      <th></th>\n",
       "      <th>PatientID</th>\n",
       "      <th>Histology</th>\n",
       "      <th>Mstage</th>\n",
       "      <th>Nstage</th>\n",
       "      <th>SourceDataset</th>\n",
       "      <th>Tstage</th>\n",
       "      <th>age</th>\n",
       "    </tr>\n",
       "  </thead>\n",
       "  <tbody>\n",
       "    <tr>\n",
       "      <th>0</th>\n",
       "      <td>202</td>\n",
       "      <td>Adenocarcinoma</td>\n",
       "      <td>0</td>\n",
       "      <td>0</td>\n",
       "      <td>l2</td>\n",
       "      <td>2</td>\n",
       "      <td>66.0000</td>\n",
       "    </tr>\n",
       "    <tr>\n",
       "      <th>1</th>\n",
       "      <td>371</td>\n",
       "      <td>large cell</td>\n",
       "      <td>0</td>\n",
       "      <td>2</td>\n",
       "      <td>l1</td>\n",
       "      <td>4</td>\n",
       "      <td>64.5722</td>\n",
       "    </tr>\n",
       "    <tr>\n",
       "      <th>2</th>\n",
       "      <td>246</td>\n",
       "      <td>squamous cell carcinoma</td>\n",
       "      <td>0</td>\n",
       "      <td>3</td>\n",
       "      <td>l1</td>\n",
       "      <td>2</td>\n",
       "      <td>66.0452</td>\n",
       "    </tr>\n",
       "    <tr>\n",
       "      <th>3</th>\n",
       "      <td>240</td>\n",
       "      <td>nos</td>\n",
       "      <td>0</td>\n",
       "      <td>2</td>\n",
       "      <td>l1</td>\n",
       "      <td>3</td>\n",
       "      <td>59.3566</td>\n",
       "    </tr>\n",
       "    <tr>\n",
       "      <th>4</th>\n",
       "      <td>284</td>\n",
       "      <td>squamous cell carcinoma</td>\n",
       "      <td>0</td>\n",
       "      <td>3</td>\n",
       "      <td>l1</td>\n",
       "      <td>4</td>\n",
       "      <td>71.0554</td>\n",
       "    </tr>\n",
       "  </tbody>\n",
       "</table>\n",
       "</div>"
      ],
      "text/plain": [
       "   PatientID                Histology  Mstage  Nstage SourceDataset  Tstage  \\\n",
       "0        202           Adenocarcinoma       0       0            l2       2   \n",
       "1        371               large cell       0       2            l1       4   \n",
       "2        246  squamous cell carcinoma       0       3            l1       2   \n",
       "3        240                      nos       0       2            l1       3   \n",
       "4        284  squamous cell carcinoma       0       3            l1       4   \n",
       "\n",
       "       age  \n",
       "0  66.0000  \n",
       "1  64.5722  \n",
       "2  66.0452  \n",
       "3  59.3566  \n",
       "4  71.0554  "
      ]
     },
     "execution_count": 36,
     "metadata": {},
     "output_type": "execute_result"
    }
   ],
   "source": [
    "df_training_clinical_data.head(5)"
   ]
  },
  {
   "cell_type": "markdown",
   "metadata": {},
   "source": [
    "### Encode SourceDataset (\"dataset of origin\") with value between 0 and n_datasets-1."
   ]
  },
  {
   "cell_type": "code",
   "execution_count": 37,
   "metadata": {},
   "outputs": [],
   "source": [
    "encoder = LabelEncoder()\n",
    "encoder.fit(df_training_clinical_data[\"SourceDataset\"])\n",
    "df_training_clinical_data[\"SourceDataset\"] = encoder.transform(df_training_clinical_data[\"SourceDataset\"])"
   ]
  },
  {
   "cell_type": "code",
   "execution_count": 38,
   "metadata": {},
   "outputs": [
    {
     "data": {
      "text/html": [
       "<div>\n",
       "<style scoped>\n",
       "    .dataframe tbody tr th:only-of-type {\n",
       "        vertical-align: middle;\n",
       "    }\n",
       "\n",
       "    .dataframe tbody tr th {\n",
       "        vertical-align: top;\n",
       "    }\n",
       "\n",
       "    .dataframe thead th {\n",
       "        text-align: right;\n",
       "    }\n",
       "</style>\n",
       "<table border=\"1\" class=\"dataframe\">\n",
       "  <thead>\n",
       "    <tr style=\"text-align: right;\">\n",
       "      <th></th>\n",
       "      <th>PatientID</th>\n",
       "      <th>Histology</th>\n",
       "      <th>Mstage</th>\n",
       "      <th>Nstage</th>\n",
       "      <th>SourceDataset</th>\n",
       "      <th>Tstage</th>\n",
       "      <th>age</th>\n",
       "    </tr>\n",
       "  </thead>\n",
       "  <tbody>\n",
       "    <tr>\n",
       "      <th>0</th>\n",
       "      <td>202</td>\n",
       "      <td>Adenocarcinoma</td>\n",
       "      <td>0</td>\n",
       "      <td>0</td>\n",
       "      <td>1</td>\n",
       "      <td>2</td>\n",
       "      <td>66.0000</td>\n",
       "    </tr>\n",
       "    <tr>\n",
       "      <th>1</th>\n",
       "      <td>371</td>\n",
       "      <td>large cell</td>\n",
       "      <td>0</td>\n",
       "      <td>2</td>\n",
       "      <td>0</td>\n",
       "      <td>4</td>\n",
       "      <td>64.5722</td>\n",
       "    </tr>\n",
       "    <tr>\n",
       "      <th>2</th>\n",
       "      <td>246</td>\n",
       "      <td>squamous cell carcinoma</td>\n",
       "      <td>0</td>\n",
       "      <td>3</td>\n",
       "      <td>0</td>\n",
       "      <td>2</td>\n",
       "      <td>66.0452</td>\n",
       "    </tr>\n",
       "    <tr>\n",
       "      <th>3</th>\n",
       "      <td>240</td>\n",
       "      <td>nos</td>\n",
       "      <td>0</td>\n",
       "      <td>2</td>\n",
       "      <td>0</td>\n",
       "      <td>3</td>\n",
       "      <td>59.3566</td>\n",
       "    </tr>\n",
       "    <tr>\n",
       "      <th>4</th>\n",
       "      <td>284</td>\n",
       "      <td>squamous cell carcinoma</td>\n",
       "      <td>0</td>\n",
       "      <td>3</td>\n",
       "      <td>0</td>\n",
       "      <td>4</td>\n",
       "      <td>71.0554</td>\n",
       "    </tr>\n",
       "  </tbody>\n",
       "</table>\n",
       "</div>"
      ],
      "text/plain": [
       "   PatientID                Histology  Mstage  Nstage  SourceDataset  Tstage  \\\n",
       "0        202           Adenocarcinoma       0       0              1       2   \n",
       "1        371               large cell       0       2              0       4   \n",
       "2        246  squamous cell carcinoma       0       3              0       2   \n",
       "3        240                      nos       0       2              0       3   \n",
       "4        284  squamous cell carcinoma       0       3              0       4   \n",
       "\n",
       "       age  \n",
       "0  66.0000  \n",
       "1  64.5722  \n",
       "2  66.0452  \n",
       "3  59.3566  \n",
       "4  71.0554  "
      ]
     },
     "execution_count": 38,
     "metadata": {},
     "output_type": "execute_result"
    }
   ],
   "source": [
    "df_training_clinical_data.head(5)"
   ]
  },
  {
   "cell_type": "code",
   "execution_count": 39,
   "metadata": {},
   "outputs": [],
   "source": [
    "df_X_train = pd.concat([df_training_radiomics[[\"original_shape_Sphericity\", \n",
    "                       \"original_shape_SurfaceVolumeRatio\", \n",
    "                       \"original_shape_Maximum3DDiameter\",\n",
    "                       \"original_firstorder_Entropy\",\n",
    "                       \"original_glcm_Id\",\n",
    "                       \"original_glcm_Idm\"]],\n",
    "                        df_training_clinical_data[[\"SourceDataset\",\n",
    "                                                  \"Nstage\"]]\n",
    "                       ], sort=False, axis=1)"
   ]
  },
  {
   "cell_type": "code",
   "execution_count": 40,
   "metadata": {},
   "outputs": [
    {
     "name": "stdout",
     "output_type": "stream",
     "text": [
      "<class 'pandas.core.frame.DataFrame'>\n",
      "RangeIndex: 300 entries, 0 to 299\n",
      "Data columns (total 8 columns):\n",
      "original_shape_Sphericity            300 non-null float64\n",
      "original_shape_SurfaceVolumeRatio    300 non-null float64\n",
      "original_shape_Maximum3DDiameter     300 non-null float64\n",
      "original_firstorder_Entropy          300 non-null float64\n",
      "original_glcm_Id                     300 non-null float64\n",
      "original_glcm_Idm                    300 non-null float64\n",
      "SourceDataset                        300 non-null float64\n",
      "Nstage                               300 non-null float64\n",
      "dtypes: float64(8)\n",
      "memory usage: 18.9 KB\n"
     ]
    }
   ],
   "source": [
    "df_X_train = df_X_train.astype(float)\n",
    "df_X_train.info()"
   ]
  },
  {
   "cell_type": "markdown",
   "metadata": {},
   "source": [
    "### AutoML sklearn"
   ]
  },
  {
   "cell_type": "code",
   "execution_count": 41,
   "metadata": {},
   "outputs": [
    {
     "name": "stderr",
     "output_type": "stream",
     "text": [
      "/home/damien/.local/lib/python3.6/site-packages/autosklearn/evaluation/train_evaluator.py:197: RuntimeWarning: Mean of empty slice\n",
      "  Y_train_pred = np.nanmean(Y_train_pred_full, axis=0)\n"
     ]
    },
    {
     "name": "stdout",
     "output_type": "stream",
     "text": [
      "Time limit for a single run is higher than total time limit. Capping the limit for a single run to the total time given to SMAC (59.630584)\n",
      "[WARNING] [2020-01-24 14:54:35,440:AutoMLSMBO(1)::7a74e5472a90e9aa7a8135bb4c77495c] Could not find meta-data directory /home/damien/.local/lib/python3.6/site-packages/autosklearn/metalearning/files/r2_regression_dense\n",
      "[WARNING] [2020-01-24 14:54:35,452:EnsembleBuilder(1):7a74e5472a90e9aa7a8135bb4c77495c] No models better than random - using Dummy Score!\n",
      "[WARNING] [2020-01-24 14:54:35,463:EnsembleBuilder(1):7a74e5472a90e9aa7a8135bb4c77495c] No models better than random - using Dummy Score!\n"
     ]
    },
    {
     "name": "stderr",
     "output_type": "stream",
     "text": [
      "/home/damien/.local/lib/python3.6/site-packages/autosklearn/evaluation/train_evaluator.py:197: RuntimeWarning: Mean of empty slice\n",
      "  Y_train_pred = np.nanmean(Y_train_pred_full, axis=0)\n",
      "/home/damien/.local/lib/python3.6/site-packages/autosklearn/evaluation/train_evaluator.py:197: RuntimeWarning: Mean of empty slice\n",
      "  Y_train_pred = np.nanmean(Y_train_pred_full, axis=0)\n",
      "/home/damien/.local/lib/python3.6/site-packages/autosklearn/evaluation/train_evaluator.py:197: RuntimeWarning: Mean of empty slice\n",
      "  Y_train_pred = np.nanmean(Y_train_pred_full, axis=0)\n",
      "/home/damien/.local/lib/python3.6/site-packages/autosklearn/evaluation/train_evaluator.py:197: RuntimeWarning: Mean of empty slice\n",
      "  Y_train_pred = np.nanmean(Y_train_pred_full, axis=0)\n",
      "/home/damien/.local/lib/python3.6/site-packages/autosklearn/evaluation/train_evaluator.py:197: RuntimeWarning: Mean of empty slice\n",
      "  Y_train_pred = np.nanmean(Y_train_pred_full, axis=0)\n",
      "/home/damien/.local/lib/python3.6/site-packages/autosklearn/evaluation/train_evaluator.py:197: RuntimeWarning: Mean of empty slice\n",
      "  Y_train_pred = np.nanmean(Y_train_pred_full, axis=0)\n",
      "/home/damien/.local/lib/python3.6/site-packages/autosklearn/evaluation/train_evaluator.py:197: RuntimeWarning: Mean of empty slice\n",
      "  Y_train_pred = np.nanmean(Y_train_pred_full, axis=0)\n",
      "/home/damien/.local/lib/python3.6/site-packages/autosklearn/evaluation/train_evaluator.py:197: RuntimeWarning: Mean of empty slice\n",
      "  Y_train_pred = np.nanmean(Y_train_pred_full, axis=0)\n",
      "/home/damien/.local/lib/python3.6/site-packages/autosklearn/evaluation/train_evaluator.py:197: RuntimeWarning: Mean of empty slice\n",
      "  Y_train_pred = np.nanmean(Y_train_pred_full, axis=0)\n",
      "/home/damien/.local/lib/python3.6/site-packages/autosklearn/evaluation/train_evaluator.py:197: RuntimeWarning: Mean of empty slice\n",
      "  Y_train_pred = np.nanmean(Y_train_pred_full, axis=0)\n",
      "/home/damien/.local/lib/python3.6/site-packages/autosklearn/evaluation/train_evaluator.py:197: RuntimeWarning: Mean of empty slice\n",
      "  Y_train_pred = np.nanmean(Y_train_pred_full, axis=0)\n",
      "/home/damien/.local/lib/python3.6/site-packages/autosklearn/evaluation/train_evaluator.py:197: RuntimeWarning: Mean of empty slice\n",
      "  Y_train_pred = np.nanmean(Y_train_pred_full, axis=0)\n",
      "/home/damien/.local/lib/python3.6/site-packages/autosklearn/evaluation/train_evaluator.py:197: RuntimeWarning: Mean of empty slice\n",
      "  Y_train_pred = np.nanmean(Y_train_pred_full, axis=0)\n",
      "/home/damien/.local/lib/python3.6/site-packages/autosklearn/evaluation/train_evaluator.py:197: RuntimeWarning: Mean of empty slice\n",
      "  Y_train_pred = np.nanmean(Y_train_pred_full, axis=0)\n",
      "/home/damien/.local/lib/python3.6/site-packages/autosklearn/evaluation/train_evaluator.py:197: RuntimeWarning: Mean of empty slice\n",
      "  Y_train_pred = np.nanmean(Y_train_pred_full, axis=0)\n",
      "/home/damien/.local/lib/python3.6/site-packages/autosklearn/evaluation/train_evaluator.py:197: RuntimeWarning: Mean of empty slice\n",
      "  Y_train_pred = np.nanmean(Y_train_pred_full, axis=0)\n",
      "/home/damien/.local/lib/python3.6/site-packages/autosklearn/evaluation/train_evaluator.py:197: RuntimeWarning: Mean of empty slice\n",
      "  Y_train_pred = np.nanmean(Y_train_pred_full, axis=0)\n",
      "/home/damien/.local/lib/python3.6/site-packages/autosklearn/evaluation/train_evaluator.py:197: RuntimeWarning: Mean of empty slice\n",
      "  Y_train_pred = np.nanmean(Y_train_pred_full, axis=0)\n",
      "/home/damien/.local/lib/python3.6/site-packages/autosklearn/evaluation/train_evaluator.py:197: RuntimeWarning: Mean of empty slice\n",
      "  Y_train_pred = np.nanmean(Y_train_pred_full, axis=0)\n",
      "/home/damien/.local/lib/python3.6/site-packages/autosklearn/evaluation/train_evaluator.py:197: RuntimeWarning: Mean of empty slice\n",
      "  Y_train_pred = np.nanmean(Y_train_pred_full, axis=0)\n",
      "/home/damien/.local/lib/python3.6/site-packages/autosklearn/evaluation/train_evaluator.py:197: RuntimeWarning: Mean of empty slice\n",
      "  Y_train_pred = np.nanmean(Y_train_pred_full, axis=0)\n",
      "/home/damien/.local/lib/python3.6/site-packages/autosklearn/evaluation/train_evaluator.py:197: RuntimeWarning: Mean of empty slice\n",
      "  Y_train_pred = np.nanmean(Y_train_pred_full, axis=0)\n",
      "/home/damien/.local/lib/python3.6/site-packages/autosklearn/evaluation/train_evaluator.py:197: RuntimeWarning: Mean of empty slice\n",
      "  Y_train_pred = np.nanmean(Y_train_pred_full, axis=0)\n",
      "/home/damien/.local/lib/python3.6/site-packages/autosklearn/evaluation/train_evaluator.py:197: RuntimeWarning: Mean of empty slice\n",
      "  Y_train_pred = np.nanmean(Y_train_pred_full, axis=0)\n",
      "/home/damien/.local/lib/python3.6/site-packages/autosklearn/evaluation/train_evaluator.py:197: RuntimeWarning: Mean of empty slice\n",
      "  Y_train_pred = np.nanmean(Y_train_pred_full, axis=0)\n",
      "/home/damien/.local/lib/python3.6/site-packages/autosklearn/evaluation/train_evaluator.py:197: RuntimeWarning: Mean of empty slice\n",
      "  Y_train_pred = np.nanmean(Y_train_pred_full, axis=0)\n",
      "/home/damien/.local/lib/python3.6/site-packages/autosklearn/evaluation/train_evaluator.py:197: RuntimeWarning: Mean of empty slice\n",
      "  Y_train_pred = np.nanmean(Y_train_pred_full, axis=0)\n",
      "/home/damien/.local/lib/python3.6/site-packages/autosklearn/evaluation/train_evaluator.py:197: RuntimeWarning: Mean of empty slice\n",
      "  Y_train_pred = np.nanmean(Y_train_pred_full, axis=0)\n"
     ]
    },
    {
     "name": "stdout",
     "output_type": "stream",
     "text": [
      "[WARNING] [2020-01-24 14:55:25,920:smac.intensification.intensification.Intensifier] Challenger was the same as the current incumbent; Skipping challenger\n",
      "[WARNING] [2020-01-24 14:55:25,920:smac.intensification.intensification.Intensifier] Challenger was the same as the current incumbent; Skipping challenger\n",
      "1\n",
      "['/tmp/autosklearn_tmp_5756_5424/.auto-sklearn/ensembles/1.0000000000.ensemble', '/tmp/autosklearn_tmp_5756_5424/.auto-sklearn/ensembles/1.0000000001.ensemble', '/tmp/autosklearn_tmp_5756_5424/.auto-sklearn/ensembles/1.0000000002.ensemble', '/tmp/autosklearn_tmp_5756_5424/.auto-sklearn/ensembles/1.0000000003.ensemble', '/tmp/autosklearn_tmp_5756_5424/.auto-sklearn/ensembles/1.0000000004.ensemble', '/tmp/autosklearn_tmp_5756_5424/.auto-sklearn/ensembles/1.0000000005.ensemble', '/tmp/autosklearn_tmp_5756_5424/.auto-sklearn/ensembles/1.0000000006.ensemble', '/tmp/autosklearn_tmp_5756_5424/.auto-sklearn/ensembles/1.0000000007.ensemble', '/tmp/autosklearn_tmp_5756_5424/.auto-sklearn/ensembles/1.0000000008.ensemble', '/tmp/autosklearn_tmp_5756_5424/.auto-sklearn/ensembles/1.0000000009.ensemble', '/tmp/autosklearn_tmp_5756_5424/.auto-sklearn/ensembles/1.0000000010.ensemble', '/tmp/autosklearn_tmp_5756_5424/.auto-sklearn/ensembles/1.0000000011.ensemble', '/tmp/autosklearn_tmp_5756_5424/.auto-sklearn/ensembles/1.0000000012.ensemble', '/tmp/autosklearn_tmp_5756_5424/.auto-sklearn/ensembles/1.0000000013.ensemble', '/tmp/autosklearn_tmp_5756_5424/.auto-sklearn/ensembles/1.0000000014.ensemble']\n",
      "[14:55:29] WARNING: /workspace/src/objective/regression_obj.cu:152: reg:linear is now deprecated in favor of reg:squarederror.\n",
      "execution_time -54.74395489692688\n"
     ]
    }
   ],
   "source": [
    "automl = autosklearn.regression.AutoSklearnRegressor(time_left_for_this_task=60)\n",
    "cindex_scorer = autosklearn.metrics.make_scorer(\n",
    "        name=\"cindex\",\n",
    "        score_func=cindex,\n",
    "        optimum=1,\n",
    "        greater_is_better=True,\n",
    "        needs_proba=False,\n",
    "        needs_threshold=False,\n",
    "    )\n",
    "\n",
    "start_time = time.time()\n",
    "automl.fit(df_X_train, df_train_output[\"SurvivalTime\"]) #, metric=cindex_scorer\n",
    "# Docs for metric in autoML skearln\n",
    "# https://automl.github.io/auto-sklearn/master/examples/example_metrics.html\n",
    "# (Metric must be instance of autosklearn.metrics.Scorer.)\n",
    "execution_time = start_time-time.time()\n",
    "print(\"execution_time\", execution_time)"
   ]
  },
  {
   "cell_type": "code",
   "execution_count": 42,
   "metadata": {},
   "outputs": [
    {
     "name": "stdout",
     "output_type": "stream",
     "text": [
      "Models used with corresponding weights :\n",
      "\n",
      "0.7200000000000001 : LibLinear_SVR\n",
      "0.14000000000000004 : DecisionTree\n",
      "0.08000000000000002 : LibLinear_SVR\n",
      "0.060000000000000005 : RidgeRegression\n",
      "\n",
      "sum(weights) =  1.0\n"
     ]
    }
   ],
   "source": [
    "all_information = automl.get_models_with_weights()\n",
    "index_regressor = 5\n",
    "weights = []\n",
    "print(\"Models used with corresponding weights :\\n\")\n",
    "for weight, simple_regression_pipeline in all_information:\n",
    "    print(str(weight)+\" : \"+simple_regression_pipeline[index_regressor].choice.__class__.__name__)\n",
    "    weights.append(weight)\n",
    "print()\n",
    "print(\"sum(weights) = \", np.round(sum(weights),2))"
   ]
  },
  {
   "cell_type": "markdown",
   "metadata": {},
   "source": [
    "### Metric"
   ]
  },
  {
   "cell_type": "code",
   "execution_count": 43,
   "metadata": {},
   "outputs": [
    {
     "data": {
      "text/plain": [
       "'r2'"
      ]
     },
     "execution_count": 43,
     "metadata": {},
     "output_type": "execute_result"
    }
   ],
   "source": [
    "automl._automl[0]._metric.name"
   ]
  },
  {
   "cell_type": "markdown",
   "metadata": {},
   "source": [
    "### Test"
   ]
  },
  {
   "cell_type": "code",
   "execution_count": 44,
   "metadata": {},
   "outputs": [],
   "source": [
    "df_test_clinical_data[\"SourceDataset\"] = encoder.transform(df_test_clinical_data[\"SourceDataset\"])"
   ]
  },
  {
   "cell_type": "code",
   "execution_count": 45,
   "metadata": {},
   "outputs": [],
   "source": [
    "df_X_test = pd.concat([df_test_radiomics[[\"original_shape_Sphericity\", \n",
    "                       \"original_shape_SurfaceVolumeRatio\", \n",
    "                       \"original_shape_Maximum3DDiameter\",\n",
    "                       \"original_firstorder_Entropy\",\n",
    "                       \"original_glcm_Id\",\n",
    "                       \"original_glcm_Idm\"]],\n",
    "                        df_test_clinical_data[[\"SourceDataset\",\n",
    "                                                  \"Nstage\"]]\n",
    "                       ], sort=False, axis=1)"
   ]
  },
  {
   "cell_type": "code",
   "execution_count": 46,
   "metadata": {},
   "outputs": [
    {
     "name": "stdout",
     "output_type": "stream",
     "text": [
      "<class 'pandas.core.frame.DataFrame'>\n",
      "RangeIndex: 125 entries, 0 to 124\n",
      "Data columns (total 8 columns):\n",
      "original_shape_Sphericity            125 non-null float64\n",
      "original_shape_SurfaceVolumeRatio    125 non-null float64\n",
      "original_shape_Maximum3DDiameter     125 non-null float64\n",
      "original_firstorder_Entropy          125 non-null float64\n",
      "original_glcm_Id                     125 non-null float64\n",
      "original_glcm_Idm                    125 non-null float64\n",
      "SourceDataset                        125 non-null float64\n",
      "Nstage                               125 non-null float64\n",
      "dtypes: float64(8)\n",
      "memory usage: 7.9 KB\n"
     ]
    }
   ],
   "source": [
    "df_X_test = df_X_test.astype(float)\n",
    "df_X_test.info()"
   ]
  },
  {
   "cell_type": "code",
   "execution_count": 48,
   "metadata": {},
   "outputs": [],
   "source": [
    "y_hat = automl.predict(df_X_test)"
   ]
  },
  {
   "cell_type": "code",
   "execution_count": 49,
   "metadata": {},
   "outputs": [
    {
     "data": {
      "text/html": [
       "<div>\n",
       "<style scoped>\n",
       "    .dataframe tbody tr th:only-of-type {\n",
       "        vertical-align: middle;\n",
       "    }\n",
       "\n",
       "    .dataframe tbody tr th {\n",
       "        vertical-align: top;\n",
       "    }\n",
       "\n",
       "    .dataframe thead th {\n",
       "        text-align: right;\n",
       "    }\n",
       "</style>\n",
       "<table border=\"1\" class=\"dataframe\">\n",
       "  <thead>\n",
       "    <tr style=\"text-align: right;\">\n",
       "      <th></th>\n",
       "      <th>PatientID</th>\n",
       "      <th>SurvivalTime</th>\n",
       "      <th>Event</th>\n",
       "    </tr>\n",
       "  </thead>\n",
       "  <tbody>\n",
       "    <tr>\n",
       "      <th>47</th>\n",
       "      <td>322</td>\n",
       "      <td>1538.827887</td>\n",
       "      <td>NaN</td>\n",
       "    </tr>\n",
       "    <tr>\n",
       "      <th>70</th>\n",
       "      <td>191</td>\n",
       "      <td>2007.686034</td>\n",
       "      <td>NaN</td>\n",
       "    </tr>\n",
       "    <tr>\n",
       "      <th>71</th>\n",
       "      <td>120</td>\n",
       "      <td>1360.147288</td>\n",
       "      <td>NaN</td>\n",
       "    </tr>\n",
       "    <tr>\n",
       "      <th>29</th>\n",
       "      <td>125</td>\n",
       "      <td>423.850929</td>\n",
       "      <td>NaN</td>\n",
       "    </tr>\n",
       "    <tr>\n",
       "      <th>40</th>\n",
       "      <td>351</td>\n",
       "      <td>904.922744</td>\n",
       "      <td>NaN</td>\n",
       "    </tr>\n",
       "  </tbody>\n",
       "</table>\n",
       "</div>"
      ],
      "text/plain": [
       "    PatientID  SurvivalTime  Event\n",
       "47        322   1538.827887    NaN\n",
       "70        191   2007.686034    NaN\n",
       "71        120   1360.147288    NaN\n",
       "29        125    423.850929    NaN\n",
       "40        351    904.922744    NaN"
      ]
     },
     "execution_count": 49,
     "metadata": {},
     "output_type": "execute_result"
    }
   ],
   "source": [
    "df_predicted_survival_time = pd.read_csv(os.path.join(submission_file_path, \"random_submission_0vhlEZN.csv\"))\n",
    "df_predicted_survival_time.sample(5)"
   ]
  },
  {
   "cell_type": "code",
   "execution_count": 50,
   "metadata": {},
   "outputs": [],
   "source": [
    "df_predicted_survival_time[\"PatientID\"] = df_training_clinical_data[\"PatientID\"]\n",
    "df_predicted_survival_time[\"SurvivalTime\"] = y_hat"
   ]
  },
  {
   "cell_type": "code",
   "execution_count": 53,
   "metadata": {},
   "outputs": [
    {
     "data": {
      "text/html": [
       "<div>\n",
       "<style scoped>\n",
       "    .dataframe tbody tr th:only-of-type {\n",
       "        vertical-align: middle;\n",
       "    }\n",
       "\n",
       "    .dataframe tbody tr th {\n",
       "        vertical-align: top;\n",
       "    }\n",
       "\n",
       "    .dataframe thead th {\n",
       "        text-align: right;\n",
       "    }\n",
       "</style>\n",
       "<table border=\"1\" class=\"dataframe\">\n",
       "  <thead>\n",
       "    <tr style=\"text-align: right;\">\n",
       "      <th></th>\n",
       "      <th>PatientID</th>\n",
       "      <th>SurvivalTime</th>\n",
       "      <th>Event</th>\n",
       "    </tr>\n",
       "  </thead>\n",
       "  <tbody>\n",
       "    <tr>\n",
       "      <th>122</th>\n",
       "      <td>253</td>\n",
       "      <td>1355.305967</td>\n",
       "      <td>NaN</td>\n",
       "    </tr>\n",
       "    <tr>\n",
       "      <th>85</th>\n",
       "      <td>103</td>\n",
       "      <td>698.011603</td>\n",
       "      <td>NaN</td>\n",
       "    </tr>\n",
       "    <tr>\n",
       "      <th>35</th>\n",
       "      <td>227</td>\n",
       "      <td>672.984124</td>\n",
       "      <td>NaN</td>\n",
       "    </tr>\n",
       "    <tr>\n",
       "      <th>57</th>\n",
       "      <td>233</td>\n",
       "      <td>506.537654</td>\n",
       "      <td>NaN</td>\n",
       "    </tr>\n",
       "    <tr>\n",
       "      <th>10</th>\n",
       "      <td>372</td>\n",
       "      <td>1553.352324</td>\n",
       "      <td>NaN</td>\n",
       "    </tr>\n",
       "  </tbody>\n",
       "</table>\n",
       "</div>"
      ],
      "text/plain": [
       "     PatientID  SurvivalTime  Event\n",
       "122        253   1355.305967    NaN\n",
       "85         103    698.011603    NaN\n",
       "35         227    672.984124    NaN\n",
       "57         233    506.537654    NaN\n",
       "10         372   1553.352324    NaN"
      ]
     },
     "execution_count": 53,
     "metadata": {},
     "output_type": "execute_result"
    }
   ],
   "source": [
    "df_predicted_survival_time.sample(5)"
   ]
  },
  {
   "cell_type": "markdown",
   "metadata": {},
   "source": [
    "## $\\color{red}{\\text{To be continued}}$"
   ]
  }
 ],
 "metadata": {
  "kernelspec": {
   "display_name": "Python 3",
   "language": "python",
   "name": "python3"
  },
  "language_info": {
   "codemirror_mode": {
    "name": "ipython",
    "version": 3
   },
   "file_extension": ".py",
   "mimetype": "text/x-python",
   "name": "python",
   "nbconvert_exporter": "python",
   "pygments_lexer": "ipython3",
   "version": "3.6.9"
  }
 },
 "nbformat": 4,
 "nbformat_minor": 2
}
