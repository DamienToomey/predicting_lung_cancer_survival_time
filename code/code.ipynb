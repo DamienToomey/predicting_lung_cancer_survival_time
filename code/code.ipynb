{
 "cells": [
  {
   "cell_type": "markdown",
   "metadata": {},
   "source": [
    "# Predicting lung cancer survival time by OWKIN"
   ]
  },
  {
   "cell_type": "markdown",
   "metadata": {},
   "source": [
    "### Problem\n",
    "\n",
    "- supervised survival prediction problem\n",
    "- predict the survival time of a patient (remaining days to live) from one three-dimensional CT scan (grayscale image) and a set of pre-extracted quantitative imaging features, as well as clinical data"
   ]
  },
  {
   "cell_type": "markdown",
   "metadata": {},
   "source": [
    "### Import"
   ]
  },
  {
   "cell_type": "code",
   "execution_count": 3,
   "metadata": {},
   "outputs": [],
   "source": [
    "import numpy as np\n",
    "import os\n",
    "import matplotlib.pyplot as plt\n",
    "import pandas as pd"
   ]
  },
  {
   "cell_type": "markdown",
   "metadata": {},
   "source": [
    "### Data\n",
    "\n",
    "- x_train : data_Q0G7b5t\n",
    "- y_train : output_VSVxRFU.csv\n",
    "- x_test : data_9Cbe5hx"
   ]
  },
  {
   "cell_type": "code",
   "execution_count": 4,
   "metadata": {},
   "outputs": [
    {
     "name": "stdout",
     "output_type": "stream",
     "text": [
      "Number of training ct scans : 300\n",
      "Number of test ct scans : 125\n"
     ]
    }
   ],
   "source": [
    "data_folder_path = \"../data\"\n",
    "training_folder_path = os.path.join(data_folder_path, \"data_Q0G7b5t\")\n",
    "test_folder_path = os.path.join(data_folder_path, \"data_9Cbe5hx\")\n",
    "\n",
    "training_ct_scan_names = [os.path.join(root,file_name) for root,_,file_names in os.walk(training_folder_path) for file_name in file_names if file_name.endswith('.npz')]\n",
    "test_ct_scan_names = [os.path.join(root,file_name) for root,_,file_names in os.walk(test_folder_path) for file_name in file_names if file_name.endswith('.npz')]\n",
    "\n",
    "print(\"Number of training ct scans : {}\".format(len(training_ct_scan_names)))\n",
    "print(\"Number of test ct scans : {}\".format(len(test_ct_scan_names)))\n",
    "\n",
    "training_features_path = os.path.join(training_folder_path, \"features\")\n",
    "test_features_path = os.path.join(test_folder_path, \"features\")"
   ]
  },
  {
   "cell_type": "code",
   "execution_count": 16,
   "metadata": {},
   "outputs": [],
   "source": [
    "archive = np.load(training_ct_scan_names[0])\n",
    "scan = archive['scan']\n",
    "mask = archive['mask']\n",
    "# scan.shape equals mask.shape"
   ]
  },
  {
   "cell_type": "code",
   "execution_count": 18,
   "metadata": {},
   "outputs": [
    {
     "name": "stdout",
     "output_type": "stream",
     "text": [
      "p0.Event 0\n",
      "p0.SurvivalTime 1378\n"
     ]
    }
   ],
   "source": [
    "train_output = pd.read_csv(os.path.join(data_folder_path, \"output_VSVxRFU.csv\"), index_col=0)\n",
    "p0 = train_output.loc[202]\n",
    "print(\"p0.Event\", p0.Event) # prints 1 or 0\n",
    "print(\"p0.SurvivalTime\", p0.SurvivalTime)\n",
    "# prints time to event (time to death or time to last known alive) in days"
   ]
  },
  {
   "cell_type": "markdown",
   "metadata": {},
   "source": [
    "### Interpretation"
   ]
  },
  {
   "cell_type": "markdown",
   "metadata": {},
   "source": [
    "(`1=death observed`, `0=escaped from study`)"
   ]
  },
  {
   "cell_type": "markdown",
   "metadata": {},
   "source": [
    "### Load training data"
   ]
  },
  {
   "cell_type": "code",
   "execution_count": 36,
   "metadata": {},
   "outputs": [
    {
     "name": "stdout",
     "output_type": "stream",
     "text": [
      "Nb rows in df_training_clinical_data : 300\n",
      "Nb rows in df_training_radiomics : 300\n"
     ]
    }
   ],
   "source": [
    "file_name = os.path.join(training_features_path, \"clinical_data.csv\")\n",
    "df_training_clinical_data = pd.read_csv(file_name, delimiter=',')\n",
    "print(\"Nb rows in df_training_clinical_data : {}\".format(len(df_training_clinical_data)))\n",
    "\n",
    "file_name = os.path.join(training_features_path, \"radiomics.csv\")\n",
    "df_training_radiomics = pd.read_csv(file_name, delimiter=',', header=[0,1,2])\n",
    "print(\"Nb rows in df_training_radiomics : {}\".format(len(df_training_radiomics)))"
   ]
  },
  {
   "cell_type": "markdown",
   "metadata": {},
   "source": [
    "### clinical_data.csv"
   ]
  },
  {
   "cell_type": "code",
   "execution_count": 38,
   "metadata": {},
   "outputs": [
    {
     "data": {
      "text/html": [
       "<div>\n",
       "<style scoped>\n",
       "    .dataframe tbody tr th:only-of-type {\n",
       "        vertical-align: middle;\n",
       "    }\n",
       "\n",
       "    .dataframe tbody tr th {\n",
       "        vertical-align: top;\n",
       "    }\n",
       "\n",
       "    .dataframe thead th {\n",
       "        text-align: right;\n",
       "    }\n",
       "</style>\n",
       "<table border=\"1\" class=\"dataframe\">\n",
       "  <thead>\n",
       "    <tr style=\"text-align: right;\">\n",
       "      <th></th>\n",
       "      <th>PatientID</th>\n",
       "      <th>Histology</th>\n",
       "      <th>Mstage</th>\n",
       "      <th>Nstage</th>\n",
       "      <th>SourceDataset</th>\n",
       "      <th>Tstage</th>\n",
       "      <th>age</th>\n",
       "    </tr>\n",
       "  </thead>\n",
       "  <tbody>\n",
       "    <tr>\n",
       "      <th>145</th>\n",
       "      <td>406</td>\n",
       "      <td>Adenocarcinoma</td>\n",
       "      <td>0</td>\n",
       "      <td>0</td>\n",
       "      <td>l2</td>\n",
       "      <td>1</td>\n",
       "      <td>61.0000</td>\n",
       "    </tr>\n",
       "    <tr>\n",
       "      <th>248</th>\n",
       "      <td>32</td>\n",
       "      <td>Adenocarcinoma</td>\n",
       "      <td>0</td>\n",
       "      <td>0</td>\n",
       "      <td>l2</td>\n",
       "      <td>1</td>\n",
       "      <td>74.0000</td>\n",
       "    </tr>\n",
       "    <tr>\n",
       "      <th>80</th>\n",
       "      <td>30</td>\n",
       "      <td>large cell</td>\n",
       "      <td>0</td>\n",
       "      <td>2</td>\n",
       "      <td>l1</td>\n",
       "      <td>2</td>\n",
       "      <td>85.1116</td>\n",
       "    </tr>\n",
       "    <tr>\n",
       "      <th>126</th>\n",
       "      <td>23</td>\n",
       "      <td>Adenocarcinoma</td>\n",
       "      <td>0</td>\n",
       "      <td>2</td>\n",
       "      <td>l2</td>\n",
       "      <td>3</td>\n",
       "      <td>43.0000</td>\n",
       "    </tr>\n",
       "    <tr>\n",
       "      <th>153</th>\n",
       "      <td>18</td>\n",
       "      <td>NaN</td>\n",
       "      <td>0</td>\n",
       "      <td>0</td>\n",
       "      <td>l1</td>\n",
       "      <td>1</td>\n",
       "      <td>NaN</td>\n",
       "    </tr>\n",
       "  </tbody>\n",
       "</table>\n",
       "</div>"
      ],
      "text/plain": [
       "     PatientID       Histology  Mstage  Nstage SourceDataset  Tstage      age\n",
       "145        406  Adenocarcinoma       0       0            l2       1  61.0000\n",
       "248         32  Adenocarcinoma       0       0            l2       1  74.0000\n",
       "80          30      large cell       0       2            l1       2  85.1116\n",
       "126         23  Adenocarcinoma       0       2            l2       3  43.0000\n",
       "153         18             NaN       0       0            l1       1      NaN"
      ]
     },
     "execution_count": 38,
     "metadata": {},
     "output_type": "execute_result"
    }
   ],
   "source": [
    "df_training_clinical_data.sample(5)"
   ]
  },
  {
   "cell_type": "markdown",
   "metadata": {},
   "source": [
    "#### Are there NaN values in df_training_radiomics ?"
   ]
  },
  {
   "cell_type": "code",
   "execution_count": 46,
   "metadata": {},
   "outputs": [
    {
     "data": {
      "text/plain": [
       "PatientID         0\n",
       "Histology        20\n",
       "Mstage            0\n",
       "Nstage            0\n",
       "SourceDataset     0\n",
       "Tstage            0\n",
       "age              16\n",
       "dtype: int64"
      ]
     },
     "execution_count": 46,
     "metadata": {},
     "output_type": "execute_result"
    }
   ],
   "source": [
    "df_training_clinical_data.isnull().sum()"
   ]
  },
  {
   "cell_type": "markdown",
   "metadata": {},
   "source": [
    "### Remark"
   ]
  },
  {
   "cell_type": "markdown",
   "metadata": {},
   "source": [
    "There are NaN values Histology and age columns. We will not use these in our study so no problem."
   ]
  },
  {
   "cell_type": "markdown",
   "metadata": {},
   "source": [
    "### radiomics.csv"
   ]
  },
  {
   "cell_type": "code",
   "execution_count": 39,
   "metadata": {},
   "outputs": [
    {
     "data": {
      "text/html": [
       "<div>\n",
       "<style scoped>\n",
       "    .dataframe tbody tr th:only-of-type {\n",
       "        vertical-align: middle;\n",
       "    }\n",
       "\n",
       "    .dataframe tbody tr th {\n",
       "        vertical-align: top;\n",
       "    }\n",
       "\n",
       "    .dataframe thead tr th {\n",
       "        text-align: left;\n",
       "    }\n",
       "</style>\n",
       "<table border=\"1\" class=\"dataframe\">\n",
       "  <thead>\n",
       "    <tr>\n",
       "      <th></th>\n",
       "      <th>Unnamed: 0_level_0</th>\n",
       "      <th colspan=\"8\" halign=\"left\">shape</th>\n",
       "      <th>firstorder</th>\n",
       "      <th>...</th>\n",
       "      <th colspan=\"10\" halign=\"left\">textural</th>\n",
       "    </tr>\n",
       "    <tr>\n",
       "      <th></th>\n",
       "      <th>Unnamed: 0_level_1</th>\n",
       "      <th>original_shape_Compactness1</th>\n",
       "      <th>original_shape_Compactness2</th>\n",
       "      <th>original_shape_Maximum3DDiameter</th>\n",
       "      <th>original_shape_SphericalDisproportion</th>\n",
       "      <th>original_shape_Sphericity</th>\n",
       "      <th>original_shape_SurfaceArea</th>\n",
       "      <th>original_shape_SurfaceVolumeRatio</th>\n",
       "      <th>original_shape_VoxelVolume</th>\n",
       "      <th>original_firstorder_Energy</th>\n",
       "      <th>...</th>\n",
       "      <th>original_glrlm_LongRunEmphasis</th>\n",
       "      <th>original_glrlm_GrayLevelNonUniformity</th>\n",
       "      <th>original_glrlm_RunLengthNonUniformity</th>\n",
       "      <th>original_glrlm_RunPercentage</th>\n",
       "      <th>original_glrlm_LowGrayLevelRunEmphasis</th>\n",
       "      <th>original_glrlm_HighGrayLevelRunEmphasis</th>\n",
       "      <th>original_glrlm_ShortRunLowGrayLevelEmphasis</th>\n",
       "      <th>original_glrlm_ShortRunHighGrayLevelEmphasis</th>\n",
       "      <th>original_glrlm_LongRunLowGrayLevelEmphasis</th>\n",
       "      <th>original_glrlm_LongRunHighGrayLevelEmphasis</th>\n",
       "    </tr>\n",
       "    <tr>\n",
       "      <th></th>\n",
       "      <th>PatientID</th>\n",
       "      <th>Unnamed: 1_level_2</th>\n",
       "      <th>Unnamed: 2_level_2</th>\n",
       "      <th>Unnamed: 3_level_2</th>\n",
       "      <th>Unnamed: 4_level_2</th>\n",
       "      <th>Unnamed: 5_level_2</th>\n",
       "      <th>Unnamed: 6_level_2</th>\n",
       "      <th>Unnamed: 7_level_2</th>\n",
       "      <th>Unnamed: 8_level_2</th>\n",
       "      <th>Unnamed: 9_level_2</th>\n",
       "      <th>...</th>\n",
       "      <th>Unnamed: 44_level_2</th>\n",
       "      <th>Unnamed: 45_level_2</th>\n",
       "      <th>Unnamed: 46_level_2</th>\n",
       "      <th>Unnamed: 47_level_2</th>\n",
       "      <th>Unnamed: 48_level_2</th>\n",
       "      <th>Unnamed: 49_level_2</th>\n",
       "      <th>Unnamed: 50_level_2</th>\n",
       "      <th>Unnamed: 51_level_2</th>\n",
       "      <th>Unnamed: 52_level_2</th>\n",
       "      <th>Unnamed: 53_level_2</th>\n",
       "    </tr>\n",
       "  </thead>\n",
       "  <tbody>\n",
       "    <tr>\n",
       "      <th>145</th>\n",
       "      <td>406</td>\n",
       "      <td>0.026370</td>\n",
       "      <td>0.247075</td>\n",
       "      <td>28.513155</td>\n",
       "      <td>1.593642</td>\n",
       "      <td>0.627494</td>\n",
       "      <td>1523.109185</td>\n",
       "      <td>0.548210</td>\n",
       "      <td>2809.0</td>\n",
       "      <td>8.577067e+08</td>\n",
       "      <td>...</td>\n",
       "      <td>1.350421</td>\n",
       "      <td>77.557194</td>\n",
       "      <td>2183.839359</td>\n",
       "      <td>0.910754</td>\n",
       "      <td>0.012103</td>\n",
       "      <td>511.677250</td>\n",
       "      <td>0.011480</td>\n",
       "      <td>463.452901</td>\n",
       "      <td>0.015142</td>\n",
       "      <td>830.430427</td>\n",
       "    </tr>\n",
       "    <tr>\n",
       "      <th>16</th>\n",
       "      <td>185</td>\n",
       "      <td>0.018633</td>\n",
       "      <td>0.123362</td>\n",
       "      <td>58.898217</td>\n",
       "      <td>2.008814</td>\n",
       "      <td>0.497806</td>\n",
       "      <td>6376.235249</td>\n",
       "      <td>0.379187</td>\n",
       "      <td>16937.0</td>\n",
       "      <td>1.608007e+09</td>\n",
       "      <td>...</td>\n",
       "      <td>1.257524</td>\n",
       "      <td>658.032193</td>\n",
       "      <td>13707.746024</td>\n",
       "      <td>0.927864</td>\n",
       "      <td>0.001894</td>\n",
       "      <td>1392.650296</td>\n",
       "      <td>0.001848</td>\n",
       "      <td>1301.752166</td>\n",
       "      <td>0.002105</td>\n",
       "      <td>1844.198046</td>\n",
       "    </tr>\n",
       "    <tr>\n",
       "      <th>125</th>\n",
       "      <td>152</td>\n",
       "      <td>0.033609</td>\n",
       "      <td>0.401332</td>\n",
       "      <td>26.570661</td>\n",
       "      <td>1.355706</td>\n",
       "      <td>0.737623</td>\n",
       "      <td>1294.810031</td>\n",
       "      <td>0.466521</td>\n",
       "      <td>2799.0</td>\n",
       "      <td>1.492792e+08</td>\n",
       "      <td>...</td>\n",
       "      <td>1.778461</td>\n",
       "      <td>117.206529</td>\n",
       "      <td>1805.694745</td>\n",
       "      <td>0.840025</td>\n",
       "      <td>0.002548</td>\n",
       "      <td>835.821188</td>\n",
       "      <td>0.002440</td>\n",
       "      <td>716.690243</td>\n",
       "      <td>0.003281</td>\n",
       "      <td>1772.586151</td>\n",
       "    </tr>\n",
       "    <tr>\n",
       "      <th>288</th>\n",
       "      <td>375</td>\n",
       "      <td>0.027013</td>\n",
       "      <td>0.259260</td>\n",
       "      <td>31.638584</td>\n",
       "      <td>1.568271</td>\n",
       "      <td>0.637645</td>\n",
       "      <td>2109.807794</td>\n",
       "      <td>0.454712</td>\n",
       "      <td>4671.0</td>\n",
       "      <td>9.850466e+08</td>\n",
       "      <td>...</td>\n",
       "      <td>1.278623</td>\n",
       "      <td>144.651090</td>\n",
       "      <td>3750.591437</td>\n",
       "      <td>0.924098</td>\n",
       "      <td>0.005743</td>\n",
       "      <td>884.979540</td>\n",
       "      <td>0.005592</td>\n",
       "      <td>814.820324</td>\n",
       "      <td>0.006413</td>\n",
       "      <td>1264.551851</td>\n",
       "    </tr>\n",
       "    <tr>\n",
       "      <th>164</th>\n",
       "      <td>25</td>\n",
       "      <td>0.029582</td>\n",
       "      <td>0.310925</td>\n",
       "      <td>25.884358</td>\n",
       "      <td>1.476096</td>\n",
       "      <td>0.677463</td>\n",
       "      <td>1613.790265</td>\n",
       "      <td>0.474761</td>\n",
       "      <td>3431.0</td>\n",
       "      <td>1.535280e+09</td>\n",
       "      <td>...</td>\n",
       "      <td>1.168042</td>\n",
       "      <td>101.532610</td>\n",
       "      <td>2954.287460</td>\n",
       "      <td>0.949712</td>\n",
       "      <td>0.029861</td>\n",
       "      <td>381.118424</td>\n",
       "      <td>0.027067</td>\n",
       "      <td>369.593310</td>\n",
       "      <td>0.044218</td>\n",
       "      <td>431.024025</td>\n",
       "    </tr>\n",
       "  </tbody>\n",
       "</table>\n",
       "<p>5 rows × 54 columns</p>\n",
       "</div>"
      ],
      "text/plain": [
       "    Unnamed: 0_level_0                       shape  \\\n",
       "    Unnamed: 0_level_1 original_shape_Compactness1   \n",
       "             PatientID          Unnamed: 1_level_2   \n",
       "145                406                    0.026370   \n",
       "16                 185                    0.018633   \n",
       "125                152                    0.033609   \n",
       "288                375                    0.027013   \n",
       "164                 25                    0.029582   \n",
       "\n",
       "                                                                  \\\n",
       "    original_shape_Compactness2 original_shape_Maximum3DDiameter   \n",
       "             Unnamed: 2_level_2               Unnamed: 3_level_2   \n",
       "145                    0.247075                        28.513155   \n",
       "16                     0.123362                        58.898217   \n",
       "125                    0.401332                        26.570661   \n",
       "288                    0.259260                        31.638584   \n",
       "164                    0.310925                        25.884358   \n",
       "\n",
       "                                                                     \\\n",
       "    original_shape_SphericalDisproportion original_shape_Sphericity   \n",
       "                       Unnamed: 4_level_2        Unnamed: 5_level_2   \n",
       "145                              1.593642                  0.627494   \n",
       "16                               2.008814                  0.497806   \n",
       "125                              1.355706                  0.737623   \n",
       "288                              1.568271                  0.637645   \n",
       "164                              1.476096                  0.677463   \n",
       "\n",
       "                                                                  \\\n",
       "    original_shape_SurfaceArea original_shape_SurfaceVolumeRatio   \n",
       "            Unnamed: 6_level_2                Unnamed: 7_level_2   \n",
       "145                1523.109185                          0.548210   \n",
       "16                 6376.235249                          0.379187   \n",
       "125                1294.810031                          0.466521   \n",
       "288                2109.807794                          0.454712   \n",
       "164                1613.790265                          0.474761   \n",
       "\n",
       "                                               firstorder  ...  \\\n",
       "    original_shape_VoxelVolume original_firstorder_Energy  ...   \n",
       "            Unnamed: 8_level_2         Unnamed: 9_level_2  ...   \n",
       "145                     2809.0               8.577067e+08  ...   \n",
       "16                     16937.0               1.608007e+09  ...   \n",
       "125                     2799.0               1.492792e+08  ...   \n",
       "288                     4671.0               9.850466e+08  ...   \n",
       "164                     3431.0               1.535280e+09  ...   \n",
       "\n",
       "                          textural                                        \\\n",
       "    original_glrlm_LongRunEmphasis original_glrlm_GrayLevelNonUniformity   \n",
       "               Unnamed: 44_level_2                   Unnamed: 45_level_2   \n",
       "145                       1.350421                             77.557194   \n",
       "16                        1.257524                            658.032193   \n",
       "125                       1.778461                            117.206529   \n",
       "288                       1.278623                            144.651090   \n",
       "164                       1.168042                            101.532610   \n",
       "\n",
       "                                                                        \\\n",
       "    original_glrlm_RunLengthNonUniformity original_glrlm_RunPercentage   \n",
       "                      Unnamed: 46_level_2          Unnamed: 47_level_2   \n",
       "145                           2183.839359                     0.910754   \n",
       "16                           13707.746024                     0.927864   \n",
       "125                           1805.694745                     0.840025   \n",
       "288                           3750.591437                     0.924098   \n",
       "164                           2954.287460                     0.949712   \n",
       "\n",
       "                                            \\\n",
       "    original_glrlm_LowGrayLevelRunEmphasis   \n",
       "                       Unnamed: 48_level_2   \n",
       "145                               0.012103   \n",
       "16                                0.001894   \n",
       "125                               0.002548   \n",
       "288                               0.005743   \n",
       "164                               0.029861   \n",
       "\n",
       "                                             \\\n",
       "    original_glrlm_HighGrayLevelRunEmphasis   \n",
       "                        Unnamed: 49_level_2   \n",
       "145                              511.677250   \n",
       "16                              1392.650296   \n",
       "125                              835.821188   \n",
       "288                              884.979540   \n",
       "164                              381.118424   \n",
       "\n",
       "                                                 \\\n",
       "    original_glrlm_ShortRunLowGrayLevelEmphasis   \n",
       "                            Unnamed: 50_level_2   \n",
       "145                                    0.011480   \n",
       "16                                     0.001848   \n",
       "125                                    0.002440   \n",
       "288                                    0.005592   \n",
       "164                                    0.027067   \n",
       "\n",
       "                                                  \\\n",
       "    original_glrlm_ShortRunHighGrayLevelEmphasis   \n",
       "                             Unnamed: 51_level_2   \n",
       "145                                   463.452901   \n",
       "16                                   1301.752166   \n",
       "125                                   716.690243   \n",
       "288                                   814.820324   \n",
       "164                                   369.593310   \n",
       "\n",
       "                                                \\\n",
       "    original_glrlm_LongRunLowGrayLevelEmphasis   \n",
       "                           Unnamed: 52_level_2   \n",
       "145                                   0.015142   \n",
       "16                                    0.002105   \n",
       "125                                   0.003281   \n",
       "288                                   0.006413   \n",
       "164                                   0.044218   \n",
       "\n",
       "                                                 \n",
       "    original_glrlm_LongRunHighGrayLevelEmphasis  \n",
       "                            Unnamed: 53_level_2  \n",
       "145                                  830.430427  \n",
       "16                                  1844.198046  \n",
       "125                                 1772.586151  \n",
       "288                                 1264.551851  \n",
       "164                                  431.024025  \n",
       "\n",
       "[5 rows x 54 columns]"
      ]
     },
     "execution_count": 39,
     "metadata": {},
     "output_type": "execute_result"
    }
   ],
   "source": [
    "df_training_radiomics.sample(5)"
   ]
  },
  {
   "cell_type": "markdown",
   "metadata": {},
   "source": [
    "#### Are there NaN values in df_training_radiomics ?"
   ]
  },
  {
   "cell_type": "code",
   "execution_count": 44,
   "metadata": {},
   "outputs": [
    {
     "data": {
      "text/plain": [
       "0"
      ]
     },
     "execution_count": 44,
     "metadata": {},
     "output_type": "execute_result"
    }
   ],
   "source": [
    "df_training_radiomics.isnull().sum().sum()"
   ]
  },
  {
   "cell_type": "markdown",
   "metadata": {},
   "source": [
    "### Remark"
   ]
  },
  {
   "cell_type": "markdown",
   "metadata": {},
   "source": [
    "There are no NaN values in df_training_radiomics."
   ]
  },
  {
   "cell_type": "markdown",
   "metadata": {},
   "source": [
    "### Baseline model for survival regression on NSCLC clinical data : Cox proportional hazard (Cox-PH) model"
   ]
  },
  {
   "cell_type": "markdown",
   "metadata": {},
   "source": [
    "This baseline is trained on a selection of features from both clinical data file and radiomics file. A Cox-PH model was fitted on\n",
    "\n",
    "- 1 - Tumor sphericity, a measure of the roundness of the shape of the tumor region relative to a sphere, regardless its dimensions (size).\n",
    "- 2 - The tumor's surface to volume ratio is a measure of the compactness of the tumor, related to its size.\n",
    "- 3 - The tumor's maximum 3d diameter The biggest diameter measurable from the tumor volume\n",
    "- 4 - The dataset of origin\n",
    "- 5 - The N-tumoral stage grading of the tumor describing nearby (regional) lymph nodes involved\n",
    "- 6 - The tumor's joint entropy, specifying the randomness in the image pixel values\n",
    "- 7 - The tumor's inverse different, a measure of the local homogeneity of the tumor\n",
    "- 8 - The tumor's inverse difference moment is another measurement of the local homogeneity of the tumor"
   ]
  },
  {
   "cell_type": "markdown",
   "metadata": {},
   "source": [
    "### Name of variables"
   ]
  },
  {
   "cell_type": "markdown",
   "metadata": {},
   "source": [
    "- 1 - original_shape_Sphericity\n",
    "- 2 - original_shape_SurfaceVolumeRatio\n",
    "- 3 - original_shape_Maximum3DDiameter\n",
    "- 4 - l1 (0) or l2 (1)\n",
    "- 5 - Nstage\n",
    "- 6 - original_firstorder_Entropy\n",
    "- 7 - inverse difference (original_glcm_Id)\n",
    "- 8 - inverse difference moment (original_glcm_Idm) (according to [here](https://static-content.springer.com/esm/art%3A10.1038%2Fncomms5006/MediaObjects/41467_2014_BFncomms5006_MOESM716_ESM.pdf), ctr+F IDMN and [here](https://github.com/cerr/CERR/wiki/GLCM_global_features))"
   ]
  },
  {
   "cell_type": "markdown",
   "metadata": {},
   "source": [
    "### Remark"
   ]
  },
  {
   "cell_type": "markdown",
   "metadata": {},
   "source": [
    "Variables used in the baseline use quantitve and qualitive variables. (dataset of origin (l1 or l2)) makes no sens "
   ]
  },
  {
   "cell_type": "markdown",
   "metadata": {},
   "source": [
    "## $\\color{red}{\\text{To be continued}}$"
   ]
  }
 ],
 "metadata": {
  "kernelspec": {
   "display_name": "Python 3",
   "language": "python",
   "name": "python3"
  },
  "language_info": {
   "codemirror_mode": {
    "name": "ipython",
    "version": 3
   },
   "file_extension": ".py",
   "mimetype": "text/x-python",
   "name": "python",
   "nbconvert_exporter": "python",
   "pygments_lexer": "ipython3",
   "version": "3.6.9"
  }
 },
 "nbformat": 4,
 "nbformat_minor": 2
}
