{
 "cells": [
  {
   "cell_type": "markdown",
   "metadata": {},
   "source": [
    "# Predicting lung cancer survival time by OWKIN"
   ]
  },
  {
   "cell_type": "markdown",
   "metadata": {},
   "source": [
    "### Problem\n",
    "\n",
    "- supervised survival prediction problem\n",
    "- predict the survival time of a patient (remaining days to live) from one three-dimensional CT scan (grayscale image) and a set of pre-extracted quantitative imaging features, as well as clinical data"
   ]
  },
  {
   "cell_type": "markdown",
   "metadata": {},
   "source": [
    "### Import"
   ]
  },
  {
   "cell_type": "code",
   "execution_count": 3,
   "metadata": {},
   "outputs": [],
   "source": [
    "import numpy as np\n",
    "import os\n",
    "import matplotlib.pyplot as plt\n",
    "import pandas as pd"
   ]
  },
  {
   "cell_type": "markdown",
   "metadata": {},
   "source": [
    "### Data\n",
    "\n",
    "- x_train : data_Q0G7b5t\n",
    "- y_train : output_VSVxRFU.csv\n",
    "- x_test : data_9Cbe5hx"
   ]
  },
  {
   "cell_type": "code",
   "execution_count": 4,
   "metadata": {},
   "outputs": [
    {
     "name": "stdout",
     "output_type": "stream",
     "text": [
      "Number of training ct scans : 300\n",
      "Number of test ct scans : 125\n"
     ]
    }
   ],
   "source": [
    "data_folder_path = \"../data\"\n",
    "training_folder_path = os.path.join(data_folder_path, \"data_Q0G7b5t\")\n",
    "test_folder_path = os.path.join(data_folder_path, \"data_9Cbe5hx\")\n",
    "\n",
    "training_ct_scan_names = [os.path.join(root,file_name) for root,_,file_names in os.walk(training_folder_path) for file_name in file_names if file_name.endswith('.npz')]\n",
    "test_ct_scan_names = [os.path.join(root,file_name) for root,_,file_names in os.walk(test_folder_path) for file_name in file_names if file_name.endswith('.npz')]\n",
    "\n",
    "print(\"Number of training ct scans : {}\".format(len(training_ct_scan_names)))\n",
    "print(\"Number of test ct scans : {}\".format(len(test_ct_scan_names)))\n",
    "\n",
    "training_features_path = os.path.join(training_folder_path, \"features\")\n",
    "test_features_path = os.path.join(test_folder_path, \"features\")"
   ]
  },
  {
   "cell_type": "code",
   "execution_count": 16,
   "metadata": {},
   "outputs": [],
   "source": [
    "archive = np.load(training_ct_scan_names[0])\n",
    "scan = archive['scan']\n",
    "mask = archive['mask']\n",
    "# scan.shape equals mask.shape"
   ]
  },
  {
   "cell_type": "code",
   "execution_count": 18,
   "metadata": {},
   "outputs": [
    {
     "name": "stdout",
     "output_type": "stream",
     "text": [
      "p0.Event 0\n",
      "p0.SurvivalTime 1378\n"
     ]
    }
   ],
   "source": [
    "train_output = pd.read_csv(os.path.join(data_folder_path, \"output_VSVxRFU.csv\"), index_col=0)\n",
    "p0 = train_output.loc[202]\n",
    "print(\"p0.Event\", p0.Event) # prints 1 or 0\n",
    "print(\"p0.SurvivalTime\", p0.SurvivalTime)\n",
    "# prints time to event (time to death or time to last known alive) in days"
   ]
  },
  {
   "cell_type": "markdown",
   "metadata": {},
   "source": [
    "### Interpretation"
   ]
  },
  {
   "cell_type": "markdown",
   "metadata": {},
   "source": [
    "(`1=death observed`, `0=escaped from study`)"
   ]
  },
  {
   "cell_type": "markdown",
   "metadata": {},
   "source": [
    "### Load training data"
   ]
  },
  {
   "cell_type": "code",
   "execution_count": 22,
   "metadata": {},
   "outputs": [],
   "source": [
    "file_name = os.path.join(training_features_path, \"clinical_data.csv\")\n",
    "df_training_clinical_data = pd.read_csv(file_name, delimiter=',')\n",
    "\n",
    "file_name = os.path.join(training_features_path, \"radiomics.csv\")\n",
    "df_training_radiomics = pd.read_csv(file_name, delimiter=',', header=[0,1])"
   ]
  },
  {
   "cell_type": "markdown",
   "metadata": {},
   "source": [
    "### clinical_data.csv"
   ]
  },
  {
   "cell_type": "code",
   "execution_count": 23,
   "metadata": {},
   "outputs": [
    {
     "data": {
      "text/html": [
       "<div>\n",
       "<style scoped>\n",
       "    .dataframe tbody tr th:only-of-type {\n",
       "        vertical-align: middle;\n",
       "    }\n",
       "\n",
       "    .dataframe tbody tr th {\n",
       "        vertical-align: top;\n",
       "    }\n",
       "\n",
       "    .dataframe thead th {\n",
       "        text-align: right;\n",
       "    }\n",
       "</style>\n",
       "<table border=\"1\" class=\"dataframe\">\n",
       "  <thead>\n",
       "    <tr style=\"text-align: right;\">\n",
       "      <th></th>\n",
       "      <th>PatientID</th>\n",
       "      <th>Histology</th>\n",
       "      <th>Mstage</th>\n",
       "      <th>Nstage</th>\n",
       "      <th>SourceDataset</th>\n",
       "      <th>Tstage</th>\n",
       "      <th>age</th>\n",
       "    </tr>\n",
       "  </thead>\n",
       "  <tbody>\n",
       "    <tr>\n",
       "      <th>47</th>\n",
       "      <td>338</td>\n",
       "      <td>Adenocarcinoma</td>\n",
       "      <td>0</td>\n",
       "      <td>0</td>\n",
       "      <td>l2</td>\n",
       "      <td>1</td>\n",
       "      <td>59.0000</td>\n",
       "    </tr>\n",
       "    <tr>\n",
       "      <th>66</th>\n",
       "      <td>323</td>\n",
       "      <td>Adenocarcinoma</td>\n",
       "      <td>0</td>\n",
       "      <td>0</td>\n",
       "      <td>l2</td>\n",
       "      <td>1</td>\n",
       "      <td>79.0000</td>\n",
       "    </tr>\n",
       "    <tr>\n",
       "      <th>103</th>\n",
       "      <td>399</td>\n",
       "      <td>squamous cell carcinoma</td>\n",
       "      <td>0</td>\n",
       "      <td>0</td>\n",
       "      <td>l1</td>\n",
       "      <td>1</td>\n",
       "      <td>69.4100</td>\n",
       "    </tr>\n",
       "    <tr>\n",
       "      <th>250</th>\n",
       "      <td>276</td>\n",
       "      <td>squamous cell carcinoma</td>\n",
       "      <td>0</td>\n",
       "      <td>2</td>\n",
       "      <td>l1</td>\n",
       "      <td>2</td>\n",
       "      <td>66.9733</td>\n",
       "    </tr>\n",
       "    <tr>\n",
       "      <th>95</th>\n",
       "      <td>310</td>\n",
       "      <td>nos</td>\n",
       "      <td>0</td>\n",
       "      <td>0</td>\n",
       "      <td>l1</td>\n",
       "      <td>2</td>\n",
       "      <td>58.8090</td>\n",
       "    </tr>\n",
       "  </tbody>\n",
       "</table>\n",
       "</div>"
      ],
      "text/plain": [
       "     PatientID                Histology  Mstage  Nstage SourceDataset  Tstage  \\\n",
       "47         338           Adenocarcinoma       0       0            l2       1   \n",
       "66         323           Adenocarcinoma       0       0            l2       1   \n",
       "103        399  squamous cell carcinoma       0       0            l1       1   \n",
       "250        276  squamous cell carcinoma       0       2            l1       2   \n",
       "95         310                      nos       0       0            l1       2   \n",
       "\n",
       "         age  \n",
       "47   59.0000  \n",
       "66   79.0000  \n",
       "103  69.4100  \n",
       "250  66.9733  \n",
       "95   58.8090  "
      ]
     },
     "execution_count": 23,
     "metadata": {},
     "output_type": "execute_result"
    }
   ],
   "source": [
    "df_training_clinical_data.sample(5)"
   ]
  },
  {
   "cell_type": "markdown",
   "metadata": {},
   "source": [
    "### radiomics.csv"
   ]
  },
  {
   "cell_type": "code",
   "execution_count": 24,
   "metadata": {},
   "outputs": [
    {
     "data": {
      "text/html": [
       "<div>\n",
       "<style scoped>\n",
       "    .dataframe tbody tr th:only-of-type {\n",
       "        vertical-align: middle;\n",
       "    }\n",
       "\n",
       "    .dataframe tbody tr th {\n",
       "        vertical-align: top;\n",
       "    }\n",
       "\n",
       "    .dataframe thead tr th {\n",
       "        text-align: left;\n",
       "    }\n",
       "</style>\n",
       "<table border=\"1\" class=\"dataframe\">\n",
       "  <thead>\n",
       "    <tr>\n",
       "      <th></th>\n",
       "      <th>Unnamed: 0_level_0</th>\n",
       "      <th colspan=\"8\" halign=\"left\">shape</th>\n",
       "      <th>firstorder</th>\n",
       "      <th>...</th>\n",
       "      <th colspan=\"10\" halign=\"left\">textural</th>\n",
       "    </tr>\n",
       "    <tr>\n",
       "      <th></th>\n",
       "      <th>Unnamed: 0_level_1</th>\n",
       "      <th>original_shape_Compactness1</th>\n",
       "      <th>original_shape_Compactness2</th>\n",
       "      <th>original_shape_Maximum3DDiameter</th>\n",
       "      <th>original_shape_SphericalDisproportion</th>\n",
       "      <th>original_shape_Sphericity</th>\n",
       "      <th>original_shape_SurfaceArea</th>\n",
       "      <th>original_shape_SurfaceVolumeRatio</th>\n",
       "      <th>original_shape_VoxelVolume</th>\n",
       "      <th>original_firstorder_Energy</th>\n",
       "      <th>...</th>\n",
       "      <th>original_glrlm_LongRunEmphasis</th>\n",
       "      <th>original_glrlm_GrayLevelNonUniformity</th>\n",
       "      <th>original_glrlm_RunLengthNonUniformity</th>\n",
       "      <th>original_glrlm_RunPercentage</th>\n",
       "      <th>original_glrlm_LowGrayLevelRunEmphasis</th>\n",
       "      <th>original_glrlm_HighGrayLevelRunEmphasis</th>\n",
       "      <th>original_glrlm_ShortRunLowGrayLevelEmphasis</th>\n",
       "      <th>original_glrlm_ShortRunHighGrayLevelEmphasis</th>\n",
       "      <th>original_glrlm_LongRunLowGrayLevelEmphasis</th>\n",
       "      <th>original_glrlm_LongRunHighGrayLevelEmphasis</th>\n",
       "    </tr>\n",
       "  </thead>\n",
       "  <tbody>\n",
       "    <tr>\n",
       "      <th>298</th>\n",
       "      <td>129</td>\n",
       "      <td>0.025668</td>\n",
       "      <td>0.234096</td>\n",
       "      <td>64.876806</td>\n",
       "      <td>1.622565</td>\n",
       "      <td>0.616308</td>\n",
       "      <td>9571.675020</td>\n",
       "      <td>0.224665</td>\n",
       "      <td>42663.0</td>\n",
       "      <td>1.227827e+08</td>\n",
       "      <td>...</td>\n",
       "      <td>7.254939</td>\n",
       "      <td>4513.100699</td>\n",
       "      <td>8467.466888</td>\n",
       "      <td>0.511173</td>\n",
       "      <td>0.001135</td>\n",
       "      <td>1030.197953</td>\n",
       "      <td>0.000784</td>\n",
       "      <td>637.718544</td>\n",
       "      <td>0.006983</td>\n",
       "      <td>7752.599509</td>\n",
       "    </tr>\n",
       "    <tr>\n",
       "      <th>210</th>\n",
       "      <td>420</td>\n",
       "      <td>0.016523</td>\n",
       "      <td>0.096999</td>\n",
       "      <td>47.843495</td>\n",
       "      <td>2.176424</td>\n",
       "      <td>0.459469</td>\n",
       "      <td>3295.559398</td>\n",
       "      <td>0.594808</td>\n",
       "      <td>5589.0</td>\n",
       "      <td>9.880171e+08</td>\n",
       "      <td>...</td>\n",
       "      <td>1.230483</td>\n",
       "      <td>138.938728</td>\n",
       "      <td>4626.378427</td>\n",
       "      <td>0.935079</td>\n",
       "      <td>0.003630</td>\n",
       "      <td>1013.750999</td>\n",
       "      <td>0.003541</td>\n",
       "      <td>946.865103</td>\n",
       "      <td>0.004020</td>\n",
       "      <td>1356.517263</td>\n",
       "    </tr>\n",
       "    <tr>\n",
       "      <th>159</th>\n",
       "      <td>004</td>\n",
       "      <td>0.022972</td>\n",
       "      <td>0.187502</td>\n",
       "      <td>133.895482</td>\n",
       "      <td>1.747154</td>\n",
       "      <td>0.572359</td>\n",
       "      <td>19410.111759</td>\n",
       "      <td>0.176282</td>\n",
       "      <td>110220.0</td>\n",
       "      <td>6.019421e+09</td>\n",
       "      <td>...</td>\n",
       "      <td>2.776563</td>\n",
       "      <td>3687.540945</td>\n",
       "      <td>53820.687146</td>\n",
       "      <td>0.740312</td>\n",
       "      <td>0.001657</td>\n",
       "      <td>1431.057216</td>\n",
       "      <td>0.001459</td>\n",
       "      <td>1208.546317</td>\n",
       "      <td>0.003430</td>\n",
       "      <td>3740.268350</td>\n",
       "    </tr>\n",
       "    <tr>\n",
       "      <th>134</th>\n",
       "      <td>121</td>\n",
       "      <td>0.025970</td>\n",
       "      <td>0.239640</td>\n",
       "      <td>19.949937</td>\n",
       "      <td>1.609954</td>\n",
       "      <td>0.621136</td>\n",
       "      <td>687.207690</td>\n",
       "      <td>0.828710</td>\n",
       "      <td>850.0</td>\n",
       "      <td>1.984541e+08</td>\n",
       "      <td>...</td>\n",
       "      <td>1.138374</td>\n",
       "      <td>20.662759</td>\n",
       "      <td>749.602624</td>\n",
       "      <td>0.957828</td>\n",
       "      <td>0.011637</td>\n",
       "      <td>938.502113</td>\n",
       "      <td>0.011345</td>\n",
       "      <td>899.407513</td>\n",
       "      <td>0.012811</td>\n",
       "      <td>1116.033447</td>\n",
       "    </tr>\n",
       "    <tr>\n",
       "      <th>152</th>\n",
       "      <td>336</td>\n",
       "      <td>0.025220</td>\n",
       "      <td>0.226000</td>\n",
       "      <td>83.456576</td>\n",
       "      <td>1.641713</td>\n",
       "      <td>0.609120</td>\n",
       "      <td>12389.173051</td>\n",
       "      <td>0.200979</td>\n",
       "      <td>61734.0</td>\n",
       "      <td>3.675052e+09</td>\n",
       "      <td>...</td>\n",
       "      <td>2.721813</td>\n",
       "      <td>2931.615811</td>\n",
       "      <td>30100.743101</td>\n",
       "      <td>0.742539</td>\n",
       "      <td>0.001591</td>\n",
       "      <td>1235.740892</td>\n",
       "      <td>0.001444</td>\n",
       "      <td>977.170636</td>\n",
       "      <td>0.002846</td>\n",
       "      <td>4044.221929</td>\n",
       "    </tr>\n",
       "  </tbody>\n",
       "</table>\n",
       "<p>5 rows × 54 columns</p>\n",
       "</div>"
      ],
      "text/plain": [
       "    Unnamed: 0_level_0                       shape  \\\n",
       "    Unnamed: 0_level_1 original_shape_Compactness1   \n",
       "298                129                    0.025668   \n",
       "210                420                    0.016523   \n",
       "159                004                    0.022972   \n",
       "134                121                    0.025970   \n",
       "152                336                    0.025220   \n",
       "\n",
       "                                                                  \\\n",
       "    original_shape_Compactness2 original_shape_Maximum3DDiameter   \n",
       "298                    0.234096                        64.876806   \n",
       "210                    0.096999                        47.843495   \n",
       "159                    0.187502                       133.895482   \n",
       "134                    0.239640                        19.949937   \n",
       "152                    0.226000                        83.456576   \n",
       "\n",
       "                                                                     \\\n",
       "    original_shape_SphericalDisproportion original_shape_Sphericity   \n",
       "298                              1.622565                  0.616308   \n",
       "210                              2.176424                  0.459469   \n",
       "159                              1.747154                  0.572359   \n",
       "134                              1.609954                  0.621136   \n",
       "152                              1.641713                  0.609120   \n",
       "\n",
       "                                                                  \\\n",
       "    original_shape_SurfaceArea original_shape_SurfaceVolumeRatio   \n",
       "298                9571.675020                          0.224665   \n",
       "210                3295.559398                          0.594808   \n",
       "159               19410.111759                          0.176282   \n",
       "134                 687.207690                          0.828710   \n",
       "152               12389.173051                          0.200979   \n",
       "\n",
       "                                               firstorder  ...  \\\n",
       "    original_shape_VoxelVolume original_firstorder_Energy  ...   \n",
       "298                    42663.0               1.227827e+08  ...   \n",
       "210                     5589.0               9.880171e+08  ...   \n",
       "159                   110220.0               6.019421e+09  ...   \n",
       "134                      850.0               1.984541e+08  ...   \n",
       "152                    61734.0               3.675052e+09  ...   \n",
       "\n",
       "                          textural                                        \\\n",
       "    original_glrlm_LongRunEmphasis original_glrlm_GrayLevelNonUniformity   \n",
       "298                       7.254939                           4513.100699   \n",
       "210                       1.230483                            138.938728   \n",
       "159                       2.776563                           3687.540945   \n",
       "134                       1.138374                             20.662759   \n",
       "152                       2.721813                           2931.615811   \n",
       "\n",
       "                                                                        \\\n",
       "    original_glrlm_RunLengthNonUniformity original_glrlm_RunPercentage   \n",
       "298                           8467.466888                     0.511173   \n",
       "210                           4626.378427                     0.935079   \n",
       "159                          53820.687146                     0.740312   \n",
       "134                            749.602624                     0.957828   \n",
       "152                          30100.743101                     0.742539   \n",
       "\n",
       "                                            \\\n",
       "    original_glrlm_LowGrayLevelRunEmphasis   \n",
       "298                               0.001135   \n",
       "210                               0.003630   \n",
       "159                               0.001657   \n",
       "134                               0.011637   \n",
       "152                               0.001591   \n",
       "\n",
       "                                             \\\n",
       "    original_glrlm_HighGrayLevelRunEmphasis   \n",
       "298                             1030.197953   \n",
       "210                             1013.750999   \n",
       "159                             1431.057216   \n",
       "134                              938.502113   \n",
       "152                             1235.740892   \n",
       "\n",
       "                                                 \\\n",
       "    original_glrlm_ShortRunLowGrayLevelEmphasis   \n",
       "298                                    0.000784   \n",
       "210                                    0.003541   \n",
       "159                                    0.001459   \n",
       "134                                    0.011345   \n",
       "152                                    0.001444   \n",
       "\n",
       "                                                  \\\n",
       "    original_glrlm_ShortRunHighGrayLevelEmphasis   \n",
       "298                                   637.718544   \n",
       "210                                   946.865103   \n",
       "159                                  1208.546317   \n",
       "134                                   899.407513   \n",
       "152                                   977.170636   \n",
       "\n",
       "                                                \\\n",
       "    original_glrlm_LongRunLowGrayLevelEmphasis   \n",
       "298                                   0.006983   \n",
       "210                                   0.004020   \n",
       "159                                   0.003430   \n",
       "134                                   0.012811   \n",
       "152                                   0.002846   \n",
       "\n",
       "                                                 \n",
       "    original_glrlm_LongRunHighGrayLevelEmphasis  \n",
       "298                                 7752.599509  \n",
       "210                                 1356.517263  \n",
       "159                                 3740.268350  \n",
       "134                                 1116.033447  \n",
       "152                                 4044.221929  \n",
       "\n",
       "[5 rows x 54 columns]"
      ]
     },
     "execution_count": 24,
     "metadata": {},
     "output_type": "execute_result"
    }
   ],
   "source": [
    "df_training_radiomics.sample(5)"
   ]
  },
  {
   "cell_type": "markdown",
   "metadata": {},
   "source": [
    "### Baseline model for survival regression on NSCLC clinical data : Cox proportional hazard (Cox-PH) model"
   ]
  },
  {
   "cell_type": "markdown",
   "metadata": {},
   "source": [
    "This baseline is trained on a selection of features from both clinical data file and radiomics file. A Cox-PH model was fitted on\n",
    "\n",
    "- 1 - Tumor sphericity, a measure of the roundness of the shape of the tumor region relative to a sphere, regardless its dimensions (size).\n",
    "- 2 - The tumor's surface to volume ratio is a measure of the compactness of the tumor, related to its size.\n",
    "- 3 - The tumor's maximum 3d diameter The biggest diameter measurable from the tumor volume\n",
    "- 4 - The dataset of origin\n",
    "- 5 - The N-tumoral stage grading of the tumor describing nearby (regional) lymph nodes involved\n",
    "- 6 - The tumor's joint entropy, specifying the randomness in the image pixel values\n",
    "- 7 - The tumor's inverse different, a measure of the local homogeneity of the tumor\n",
    "- 8 - The tumor's inverse difference moment is another measurement of the local homogeneity of the tumor"
   ]
  },
  {
   "cell_type": "markdown",
   "metadata": {},
   "source": [
    "### Name of variables"
   ]
  },
  {
   "cell_type": "markdown",
   "metadata": {},
   "source": [
    "- 1 - original_shape_Sphericity\n",
    "- 2 - original_shape_SurfaceVolumeRatio\n",
    "- 3 - original_shape_Maximum3DDiameter\n",
    "- 4 - l1 (0) or l2 (1)\n",
    "- 5 - Nstage\n",
    "- 6 - original_firstorder_Entropy\n",
    "- 7 - inverse difference (original_glcm_Id)\n",
    "- 8 - inverse difference moment (original_glcm_Idm) (according to [here](https://static-content.springer.com/esm/art%3A10.1038%2Fncomms5006/MediaObjects/41467_2014_BFncomms5006_MOESM716_ESM.pdf), ctr+F IDMN and [here](https://github.com/cerr/CERR/wiki/GLCM_global_features))"
   ]
  },
  {
   "cell_type": "markdown",
   "metadata": {},
   "source": [
    "### Remark"
   ]
  },
  {
   "cell_type": "markdown",
   "metadata": {},
   "source": [
    "Variables used in the baseline use quantitve and qualitive variables. (dataset of origin (l1 or l2)) makes no sens "
   ]
  },
  {
   "cell_type": "markdown",
   "metadata": {},
   "source": [
    "## $\\color{red}{\\text{To be continued}}$"
   ]
  }
 ],
 "metadata": {
  "kernelspec": {
   "display_name": "Python 3",
   "language": "python",
   "name": "python3"
  },
  "language_info": {
   "codemirror_mode": {
    "name": "ipython",
    "version": 3
   },
   "file_extension": ".py",
   "mimetype": "text/x-python",
   "name": "python",
   "nbconvert_exporter": "python",
   "pygments_lexer": "ipython3",
   "version": "3.6.9"
  }
 },
 "nbformat": 4,
 "nbformat_minor": 2
}
