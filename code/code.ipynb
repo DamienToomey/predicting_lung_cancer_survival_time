{
 "cells": [
  {
   "cell_type": "markdown",
   "metadata": {},
   "source": [
    "# Predicting lung cancer survival time by OWKIN"
   ]
  },
  {
   "cell_type": "markdown",
   "metadata": {},
   "source": [
    "### Problem\n",
    "\n",
    "- supervised survival prediction problem\n",
    "- predict the survival time of a patient (remaining days to live) from one three-dimensional CT scan (grayscale image) and a set of pre-extracted quantitative imaging features, as well as clinical data"
   ]
  },
  {
   "cell_type": "markdown",
   "metadata": {},
   "source": [
    "### Import"
   ]
  },
  {
   "cell_type": "code",
   "execution_count": 1,
   "metadata": {},
   "outputs": [
    {
     "name": "stderr",
     "output_type": "stream",
     "text": [
      "/home/damien/.local/lib/python3.6/site-packages/sklearn/externals/joblib/__init__.py:15: DeprecationWarning: sklearn.externals.joblib is deprecated in 0.21 and will be removed in 0.23. Please import this functionality directly from joblib, which can be installed with: pip install joblib. If this warning is raised when loading pickled models, you may need to re-serialize those models with scikit-learn 0.21+.\n",
      "  warnings.warn(msg, category=DeprecationWarning)\n"
     ]
    }
   ],
   "source": [
    "import numpy as np\n",
    "import os\n",
    "import matplotlib.pyplot as plt\n",
    "import pandas as pd\n",
    "from sklearn.preprocessing import LabelEncoder\n",
    "import autosklearn.regression\n",
    "import time\n",
    "\n",
    "# concordance index (C-index)\n",
    "from metrics_t9gbvr2 import cindex"
   ]
  },
  {
   "cell_type": "markdown",
   "metadata": {},
   "source": [
    "### Data\n",
    "\n",
    "- x_train : data_Q0G7b5t\n",
    "- y_train : output_VSVxRFU.csv\n",
    "- x_test : data_9Cbe5hx"
   ]
  },
  {
   "cell_type": "code",
   "execution_count": 2,
   "metadata": {},
   "outputs": [
    {
     "name": "stdout",
     "output_type": "stream",
     "text": [
      "Number of training ct scans : 300\n",
      "Number of test ct scans : 125\n"
     ]
    }
   ],
   "source": [
    "data_folder_path = \"../data\"\n",
    "training_folder_path = os.path.join(data_folder_path, \"data_Q0G7b5t\")\n",
    "test_folder_path = os.path.join(data_folder_path, \"data_9Cbe5hx\")\n",
    "\n",
    "training_ct_scan_names = [os.path.join(root,file_name) for root,_,file_names in os.walk(training_folder_path) for file_name in file_names if file_name.endswith('.npz')]\n",
    "test_ct_scan_names = [os.path.join(root,file_name) for root,_,file_names in os.walk(test_folder_path) for file_name in file_names if file_name.endswith('.npz')]\n",
    "\n",
    "print(\"Number of training ct scans : {}\".format(len(training_ct_scan_names)))\n",
    "print(\"Number of test ct scans : {}\".format(len(test_ct_scan_names)))\n",
    "\n",
    "training_features_path = os.path.join(training_folder_path, \"features\")\n",
    "test_features_path = os.path.join(test_folder_path, \"features\")\n",
    "\n",
    "submission_file_path = \"../random_submission_example\""
   ]
  },
  {
   "cell_type": "code",
   "execution_count": 3,
   "metadata": {},
   "outputs": [],
   "source": [
    "archive = np.load(training_ct_scan_names[0])\n",
    "scan = archive['scan']\n",
    "mask = archive['mask']\n",
    "# scan.shape equals mask.shape"
   ]
  },
  {
   "cell_type": "code",
   "execution_count": 4,
   "metadata": {},
   "outputs": [
    {
     "name": "stdout",
     "output_type": "stream",
     "text": [
      "p0.Event 0\n",
      "p0.SurvivalTime 1378\n"
     ]
    }
   ],
   "source": [
    "df_train_output = pd.read_csv(os.path.join(data_folder_path, \"output_VSVxRFU.csv\"), index_col=0)\n",
    "p0 = df_train_output.loc[202]\n",
    "print(\"p0.Event\", p0.Event) # prints 1 or 0\n",
    "print(\"p0.SurvivalTime\", p0.SurvivalTime)\n",
    "# prints time to event (time to death or time to last known alive) in days"
   ]
  },
  {
   "cell_type": "code",
   "execution_count": 5,
   "metadata": {},
   "outputs": [
    {
     "data": {
      "text/html": [
       "<div>\n",
       "<style scoped>\n",
       "    .dataframe tbody tr th:only-of-type {\n",
       "        vertical-align: middle;\n",
       "    }\n",
       "\n",
       "    .dataframe tbody tr th {\n",
       "        vertical-align: top;\n",
       "    }\n",
       "\n",
       "    .dataframe thead th {\n",
       "        text-align: right;\n",
       "    }\n",
       "</style>\n",
       "<table border=\"1\" class=\"dataframe\">\n",
       "  <thead>\n",
       "    <tr style=\"text-align: right;\">\n",
       "      <th></th>\n",
       "      <th>SurvivalTime</th>\n",
       "      <th>Event</th>\n",
       "    </tr>\n",
       "    <tr>\n",
       "      <th>PatientID</th>\n",
       "      <th></th>\n",
       "      <th></th>\n",
       "    </tr>\n",
       "  </thead>\n",
       "  <tbody>\n",
       "    <tr>\n",
       "      <th>356</th>\n",
       "      <td>632</td>\n",
       "      <td>1</td>\n",
       "    </tr>\n",
       "    <tr>\n",
       "      <th>329</th>\n",
       "      <td>582</td>\n",
       "      <td>0</td>\n",
       "    </tr>\n",
       "    <tr>\n",
       "      <th>399</th>\n",
       "      <td>340</td>\n",
       "      <td>1</td>\n",
       "    </tr>\n",
       "    <tr>\n",
       "      <th>20</th>\n",
       "      <td>476</td>\n",
       "      <td>1</td>\n",
       "    </tr>\n",
       "    <tr>\n",
       "      <th>348</th>\n",
       "      <td>706</td>\n",
       "      <td>1</td>\n",
       "    </tr>\n",
       "  </tbody>\n",
       "</table>\n",
       "</div>"
      ],
      "text/plain": [
       "           SurvivalTime  Event\n",
       "PatientID                     \n",
       "356                 632      1\n",
       "329                 582      0\n",
       "399                 340      1\n",
       "20                  476      1\n",
       "348                 706      1"
      ]
     },
     "execution_count": 5,
     "metadata": {},
     "output_type": "execute_result"
    }
   ],
   "source": [
    "df_train_output.sample(5)"
   ]
  },
  {
   "cell_type": "markdown",
   "metadata": {},
   "source": [
    "### Interpretation"
   ]
  },
  {
   "cell_type": "markdown",
   "metadata": {},
   "source": [
    "(`1=death observed`, `0=escaped from study`)"
   ]
  },
  {
   "cell_type": "markdown",
   "metadata": {},
   "source": [
    "### Load training data"
   ]
  },
  {
   "cell_type": "code",
   "execution_count": 6,
   "metadata": {},
   "outputs": [
    {
     "name": "stdout",
     "output_type": "stream",
     "text": [
      "Nb rows in df_training_clinical_data : 300\n",
      "Nb rows in df_training_radiomics : 300\n"
     ]
    }
   ],
   "source": [
    "file_name = os.path.join(training_features_path, \"clinical_data.csv\")\n",
    "df_training_clinical_data = pd.read_csv(file_name, delimiter=',')\n",
    "print(\"Nb rows in df_training_clinical_data : {}\".format(len(df_training_clinical_data)))\n",
    "\n",
    "file_name = os.path.join(training_features_path, \"radiomics.csv\")\n",
    "df_training_radiomics = pd.read_csv(file_name, delimiter=',', skiprows=[0,2], header=[0])\n",
    "df_training_radiomics.rename(columns={'Unnamed: 0': 'PatientID'}, inplace=True)\n",
    "print(\"Nb rows in df_training_radiomics : {}\".format(len(df_training_radiomics)))"
   ]
  },
  {
   "cell_type": "markdown",
   "metadata": {},
   "source": [
    "### Load test data"
   ]
  },
  {
   "cell_type": "code",
   "execution_count": 7,
   "metadata": {},
   "outputs": [
    {
     "name": "stdout",
     "output_type": "stream",
     "text": [
      "Nb rows in df_training_clinical_data : 125\n",
      "Nb rows in df_training_radiomics : 125\n"
     ]
    }
   ],
   "source": [
    "file_name = os.path.join(test_features_path, \"clinical_data.csv\")\n",
    "df_test_clinical_data = pd.read_csv(file_name, delimiter=',')\n",
    "print(\"Nb rows in df_training_clinical_data : {}\".format(len(df_test_clinical_data)))\n",
    "\n",
    "file_name = os.path.join(test_features_path, \"radiomics.csv\")\n",
    "df_test_radiomics = pd.read_csv(file_name, delimiter=',', skiprows=[0,2], header=[0])\n",
    "df_test_radiomics.rename(columns={'Unnamed: 0': 'PatientID'}, inplace=True)\n",
    "print(\"Nb rows in df_training_radiomics : {}\".format(len(df_test_clinical_data)))"
   ]
  },
  {
   "cell_type": "markdown",
   "metadata": {},
   "source": [
    "### clinical_data.csv"
   ]
  },
  {
   "cell_type": "code",
   "execution_count": 8,
   "metadata": {},
   "outputs": [
    {
     "data": {
      "text/html": [
       "<div>\n",
       "<style scoped>\n",
       "    .dataframe tbody tr th:only-of-type {\n",
       "        vertical-align: middle;\n",
       "    }\n",
       "\n",
       "    .dataframe tbody tr th {\n",
       "        vertical-align: top;\n",
       "    }\n",
       "\n",
       "    .dataframe thead th {\n",
       "        text-align: right;\n",
       "    }\n",
       "</style>\n",
       "<table border=\"1\" class=\"dataframe\">\n",
       "  <thead>\n",
       "    <tr style=\"text-align: right;\">\n",
       "      <th></th>\n",
       "      <th>PatientID</th>\n",
       "      <th>Histology</th>\n",
       "      <th>Mstage</th>\n",
       "      <th>Nstage</th>\n",
       "      <th>SourceDataset</th>\n",
       "      <th>Tstage</th>\n",
       "      <th>age</th>\n",
       "    </tr>\n",
       "  </thead>\n",
       "  <tbody>\n",
       "    <tr>\n",
       "      <th>198</th>\n",
       "      <td>400</td>\n",
       "      <td>squamous cell carcinoma</td>\n",
       "      <td>0</td>\n",
       "      <td>3</td>\n",
       "      <td>l1</td>\n",
       "      <td>2</td>\n",
       "      <td>64.1697</td>\n",
       "    </tr>\n",
       "    <tr>\n",
       "      <th>45</th>\n",
       "      <td>114</td>\n",
       "      <td>adenocarcinoma</td>\n",
       "      <td>0</td>\n",
       "      <td>3</td>\n",
       "      <td>l1</td>\n",
       "      <td>4</td>\n",
       "      <td>60.0383</td>\n",
       "    </tr>\n",
       "    <tr>\n",
       "      <th>186</th>\n",
       "      <td>300</td>\n",
       "      <td>squamous cell carcinoma</td>\n",
       "      <td>0</td>\n",
       "      <td>0</td>\n",
       "      <td>l1</td>\n",
       "      <td>3</td>\n",
       "      <td>77.5606</td>\n",
       "    </tr>\n",
       "    <tr>\n",
       "      <th>34</th>\n",
       "      <td>37</td>\n",
       "      <td>squamous cell carcinoma</td>\n",
       "      <td>0</td>\n",
       "      <td>0</td>\n",
       "      <td>l1</td>\n",
       "      <td>2</td>\n",
       "      <td>75.6934</td>\n",
       "    </tr>\n",
       "    <tr>\n",
       "      <th>98</th>\n",
       "      <td>151</td>\n",
       "      <td>Adenocarcinoma</td>\n",
       "      <td>0</td>\n",
       "      <td>2</td>\n",
       "      <td>l2</td>\n",
       "      <td>1</td>\n",
       "      <td>70.0000</td>\n",
       "    </tr>\n",
       "  </tbody>\n",
       "</table>\n",
       "</div>"
      ],
      "text/plain": [
       "     PatientID                Histology  Mstage  Nstage SourceDataset  Tstage  \\\n",
       "198        400  squamous cell carcinoma       0       3            l1       2   \n",
       "45         114           adenocarcinoma       0       3            l1       4   \n",
       "186        300  squamous cell carcinoma       0       0            l1       3   \n",
       "34          37  squamous cell carcinoma       0       0            l1       2   \n",
       "98         151           Adenocarcinoma       0       2            l2       1   \n",
       "\n",
       "         age  \n",
       "198  64.1697  \n",
       "45   60.0383  \n",
       "186  77.5606  \n",
       "34   75.6934  \n",
       "98   70.0000  "
      ]
     },
     "execution_count": 8,
     "metadata": {},
     "output_type": "execute_result"
    }
   ],
   "source": [
    "df_training_clinical_data.sample(5)"
   ]
  },
  {
   "cell_type": "markdown",
   "metadata": {},
   "source": [
    "#### Are there NaN values in df_training_clinical_data ?"
   ]
  },
  {
   "cell_type": "code",
   "execution_count": 9,
   "metadata": {},
   "outputs": [
    {
     "data": {
      "text/plain": [
       "PatientID         0\n",
       "Histology        20\n",
       "Mstage            0\n",
       "Nstage            0\n",
       "SourceDataset     0\n",
       "Tstage            0\n",
       "age              16\n",
       "dtype: int64"
      ]
     },
     "execution_count": 9,
     "metadata": {},
     "output_type": "execute_result"
    }
   ],
   "source": [
    "#df_training_clinical_data.info()\n",
    "df_training_clinical_data.isnull().sum()"
   ]
  },
  {
   "cell_type": "markdown",
   "metadata": {},
   "source": [
    "### Remark"
   ]
  },
  {
   "cell_type": "markdown",
   "metadata": {},
   "source": [
    "There are NaN values in columns Histology and age. We will not use these in our study so no problem."
   ]
  },
  {
   "cell_type": "markdown",
   "metadata": {},
   "source": [
    "### radiomics.csv"
   ]
  },
  {
   "cell_type": "code",
   "execution_count": 10,
   "metadata": {},
   "outputs": [
    {
     "data": {
      "text/html": [
       "<div>\n",
       "<style scoped>\n",
       "    .dataframe tbody tr th:only-of-type {\n",
       "        vertical-align: middle;\n",
       "    }\n",
       "\n",
       "    .dataframe tbody tr th {\n",
       "        vertical-align: top;\n",
       "    }\n",
       "\n",
       "    .dataframe thead th {\n",
       "        text-align: right;\n",
       "    }\n",
       "</style>\n",
       "<table border=\"1\" class=\"dataframe\">\n",
       "  <thead>\n",
       "    <tr style=\"text-align: right;\">\n",
       "      <th></th>\n",
       "      <th>PatientID</th>\n",
       "      <th>original_shape_Compactness1</th>\n",
       "      <th>original_shape_Compactness2</th>\n",
       "      <th>original_shape_Maximum3DDiameter</th>\n",
       "      <th>original_shape_SphericalDisproportion</th>\n",
       "      <th>original_shape_Sphericity</th>\n",
       "      <th>original_shape_SurfaceArea</th>\n",
       "      <th>original_shape_SurfaceVolumeRatio</th>\n",
       "      <th>original_shape_VoxelVolume</th>\n",
       "      <th>original_firstorder_Energy</th>\n",
       "      <th>...</th>\n",
       "      <th>original_glrlm_LongRunEmphasis</th>\n",
       "      <th>original_glrlm_GrayLevelNonUniformity</th>\n",
       "      <th>original_glrlm_RunLengthNonUniformity</th>\n",
       "      <th>original_glrlm_RunPercentage</th>\n",
       "      <th>original_glrlm_LowGrayLevelRunEmphasis</th>\n",
       "      <th>original_glrlm_HighGrayLevelRunEmphasis</th>\n",
       "      <th>original_glrlm_ShortRunLowGrayLevelEmphasis</th>\n",
       "      <th>original_glrlm_ShortRunHighGrayLevelEmphasis</th>\n",
       "      <th>original_glrlm_LongRunLowGrayLevelEmphasis</th>\n",
       "      <th>original_glrlm_LongRunHighGrayLevelEmphasis</th>\n",
       "    </tr>\n",
       "  </thead>\n",
       "  <tbody>\n",
       "    <tr>\n",
       "      <th>96</th>\n",
       "      <td>78</td>\n",
       "      <td>0.030115</td>\n",
       "      <td>0.322239</td>\n",
       "      <td>39.293765</td>\n",
       "      <td>1.458615</td>\n",
       "      <td>0.685582</td>\n",
       "      <td>2303.582475</td>\n",
       "      <td>0.390333</td>\n",
       "      <td>5932.0</td>\n",
       "      <td>1.601160e+09</td>\n",
       "      <td>...</td>\n",
       "      <td>1.689786</td>\n",
       "      <td>166.644658</td>\n",
       "      <td>3844.082296</td>\n",
       "      <td>0.848332</td>\n",
       "      <td>0.010899</td>\n",
       "      <td>571.705852</td>\n",
       "      <td>0.009558</td>\n",
       "      <td>528.860980</td>\n",
       "      <td>0.019415</td>\n",
       "      <td>838.419788</td>\n",
       "    </tr>\n",
       "    <tr>\n",
       "      <th>279</th>\n",
       "      <td>81</td>\n",
       "      <td>0.037435</td>\n",
       "      <td>0.497925</td>\n",
       "      <td>25.455844</td>\n",
       "      <td>1.261669</td>\n",
       "      <td>0.792601</td>\n",
       "      <td>1209.238140</td>\n",
       "      <td>0.433399</td>\n",
       "      <td>2810.0</td>\n",
       "      <td>2.208997e+08</td>\n",
       "      <td>...</td>\n",
       "      <td>1.678673</td>\n",
       "      <td>106.311399</td>\n",
       "      <td>1874.480001</td>\n",
       "      <td>0.853162</td>\n",
       "      <td>0.004426</td>\n",
       "      <td>919.557290</td>\n",
       "      <td>0.004263</td>\n",
       "      <td>795.792460</td>\n",
       "      <td>0.005333</td>\n",
       "      <td>1822.236240</td>\n",
       "    </tr>\n",
       "    <tr>\n",
       "      <th>160</th>\n",
       "      <td>309</td>\n",
       "      <td>0.024907</td>\n",
       "      <td>0.220410</td>\n",
       "      <td>92.827798</td>\n",
       "      <td>1.655475</td>\n",
       "      <td>0.604056</td>\n",
       "      <td>13612.316052</td>\n",
       "      <td>0.194153</td>\n",
       "      <td>70214.0</td>\n",
       "      <td>5.538394e+08</td>\n",
       "      <td>...</td>\n",
       "      <td>8.188323</td>\n",
       "      <td>6302.296060</td>\n",
       "      <td>14590.040956</td>\n",
       "      <td>0.501957</td>\n",
       "      <td>0.000860</td>\n",
       "      <td>1535.601710</td>\n",
       "      <td>0.000649</td>\n",
       "      <td>985.002708</td>\n",
       "      <td>0.005260</td>\n",
       "      <td>13333.694878</td>\n",
       "    </tr>\n",
       "    <tr>\n",
       "      <th>242</th>\n",
       "      <td>84</td>\n",
       "      <td>0.011653</td>\n",
       "      <td>0.048244</td>\n",
       "      <td>146.208755</td>\n",
       "      <td>2.746952</td>\n",
       "      <td>0.364040</td>\n",
       "      <td>67799.783468</td>\n",
       "      <td>0.185947</td>\n",
       "      <td>364882.0</td>\n",
       "      <td>5.101016e+10</td>\n",
       "      <td>...</td>\n",
       "      <td>1.398895</td>\n",
       "      <td>12637.464595</td>\n",
       "      <td>267812.272378</td>\n",
       "      <td>0.895270</td>\n",
       "      <td>0.003177</td>\n",
       "      <td>1205.118980</td>\n",
       "      <td>0.003016</td>\n",
       "      <td>1095.237228</td>\n",
       "      <td>0.003941</td>\n",
       "      <td>1797.967771</td>\n",
       "    </tr>\n",
       "    <tr>\n",
       "      <th>33</th>\n",
       "      <td>143</td>\n",
       "      <td>0.027188</td>\n",
       "      <td>0.262628</td>\n",
       "      <td>21.931712</td>\n",
       "      <td>1.561539</td>\n",
       "      <td>0.640394</td>\n",
       "      <td>986.692571</td>\n",
       "      <td>0.660639</td>\n",
       "      <td>1517.0</td>\n",
       "      <td>3.640789e+08</td>\n",
       "      <td>...</td>\n",
       "      <td>1.129743</td>\n",
       "      <td>38.669687</td>\n",
       "      <td>1345.809488</td>\n",
       "      <td>0.960043</td>\n",
       "      <td>0.009541</td>\n",
       "      <td>631.675999</td>\n",
       "      <td>0.009377</td>\n",
       "      <td>608.128139</td>\n",
       "      <td>0.010233</td>\n",
       "      <td>733.317725</td>\n",
       "    </tr>\n",
       "  </tbody>\n",
       "</table>\n",
       "<p>5 rows × 54 columns</p>\n",
       "</div>"
      ],
      "text/plain": [
       "     PatientID  original_shape_Compactness1  original_shape_Compactness2  \\\n",
       "96          78                     0.030115                     0.322239   \n",
       "279         81                     0.037435                     0.497925   \n",
       "160        309                     0.024907                     0.220410   \n",
       "242         84                     0.011653                     0.048244   \n",
       "33         143                     0.027188                     0.262628   \n",
       "\n",
       "     original_shape_Maximum3DDiameter  original_shape_SphericalDisproportion  \\\n",
       "96                          39.293765                               1.458615   \n",
       "279                         25.455844                               1.261669   \n",
       "160                         92.827798                               1.655475   \n",
       "242                        146.208755                               2.746952   \n",
       "33                          21.931712                               1.561539   \n",
       "\n",
       "     original_shape_Sphericity  original_shape_SurfaceArea  \\\n",
       "96                    0.685582                 2303.582475   \n",
       "279                   0.792601                 1209.238140   \n",
       "160                   0.604056                13612.316052   \n",
       "242                   0.364040                67799.783468   \n",
       "33                    0.640394                  986.692571   \n",
       "\n",
       "     original_shape_SurfaceVolumeRatio  original_shape_VoxelVolume  \\\n",
       "96                            0.390333                      5932.0   \n",
       "279                           0.433399                      2810.0   \n",
       "160                           0.194153                     70214.0   \n",
       "242                           0.185947                    364882.0   \n",
       "33                            0.660639                      1517.0   \n",
       "\n",
       "     original_firstorder_Energy  ...  original_glrlm_LongRunEmphasis  \\\n",
       "96                 1.601160e+09  ...                        1.689786   \n",
       "279                2.208997e+08  ...                        1.678673   \n",
       "160                5.538394e+08  ...                        8.188323   \n",
       "242                5.101016e+10  ...                        1.398895   \n",
       "33                 3.640789e+08  ...                        1.129743   \n",
       "\n",
       "     original_glrlm_GrayLevelNonUniformity  \\\n",
       "96                              166.644658   \n",
       "279                             106.311399   \n",
       "160                            6302.296060   \n",
       "242                           12637.464595   \n",
       "33                               38.669687   \n",
       "\n",
       "     original_glrlm_RunLengthNonUniformity  original_glrlm_RunPercentage  \\\n",
       "96                             3844.082296                      0.848332   \n",
       "279                            1874.480001                      0.853162   \n",
       "160                           14590.040956                      0.501957   \n",
       "242                          267812.272378                      0.895270   \n",
       "33                             1345.809488                      0.960043   \n",
       "\n",
       "     original_glrlm_LowGrayLevelRunEmphasis  \\\n",
       "96                                 0.010899   \n",
       "279                                0.004426   \n",
       "160                                0.000860   \n",
       "242                                0.003177   \n",
       "33                                 0.009541   \n",
       "\n",
       "     original_glrlm_HighGrayLevelRunEmphasis  \\\n",
       "96                                571.705852   \n",
       "279                               919.557290   \n",
       "160                              1535.601710   \n",
       "242                              1205.118980   \n",
       "33                                631.675999   \n",
       "\n",
       "     original_glrlm_ShortRunLowGrayLevelEmphasis  \\\n",
       "96                                      0.009558   \n",
       "279                                     0.004263   \n",
       "160                                     0.000649   \n",
       "242                                     0.003016   \n",
       "33                                      0.009377   \n",
       "\n",
       "     original_glrlm_ShortRunHighGrayLevelEmphasis  \\\n",
       "96                                     528.860980   \n",
       "279                                    795.792460   \n",
       "160                                    985.002708   \n",
       "242                                   1095.237228   \n",
       "33                                     608.128139   \n",
       "\n",
       "     original_glrlm_LongRunLowGrayLevelEmphasis  \\\n",
       "96                                     0.019415   \n",
       "279                                    0.005333   \n",
       "160                                    0.005260   \n",
       "242                                    0.003941   \n",
       "33                                     0.010233   \n",
       "\n",
       "     original_glrlm_LongRunHighGrayLevelEmphasis  \n",
       "96                                    838.419788  \n",
       "279                                  1822.236240  \n",
       "160                                 13333.694878  \n",
       "242                                  1797.967771  \n",
       "33                                    733.317725  \n",
       "\n",
       "[5 rows x 54 columns]"
      ]
     },
     "execution_count": 10,
     "metadata": {},
     "output_type": "execute_result"
    }
   ],
   "source": [
    "df_training_radiomics.sample(5)"
   ]
  },
  {
   "cell_type": "markdown",
   "metadata": {},
   "source": [
    "#### Are there NaN values in df_training_radiomics ?"
   ]
  },
  {
   "cell_type": "code",
   "execution_count": 11,
   "metadata": {},
   "outputs": [
    {
     "data": {
      "text/plain": [
       "0"
      ]
     },
     "execution_count": 11,
     "metadata": {},
     "output_type": "execute_result"
    }
   ],
   "source": [
    "#df_training_radiomics.info()\n",
    "df_training_radiomics.isnull().sum().sum()"
   ]
  },
  {
   "cell_type": "markdown",
   "metadata": {},
   "source": [
    "### Remark"
   ]
  },
  {
   "cell_type": "markdown",
   "metadata": {},
   "source": [
    "There are no NaN values in df_training_radiomics."
   ]
  },
  {
   "cell_type": "markdown",
   "metadata": {},
   "source": [
    "### Make sure that PatientID are aligned in df_training_clinical_data and df_training_radiomics"
   ]
  },
  {
   "cell_type": "code",
   "execution_count": 12,
   "metadata": {},
   "outputs": [
    {
     "data": {
      "text/plain": [
       "300"
      ]
     },
     "execution_count": 12,
     "metadata": {},
     "output_type": "execute_result"
    }
   ],
   "source": [
    "(df_training_clinical_data[\"PatientID\"]==df_training_radiomics[\"PatientID\"]).sum()"
   ]
  },
  {
   "cell_type": "markdown",
   "metadata": {},
   "source": [
    "$300$ means that all PatientIDs are aligned in both training dataframes"
   ]
  },
  {
   "cell_type": "markdown",
   "metadata": {},
   "source": [
    "### Make sure that PatientID are aligned in df_test_clinical_data and df_test_radiomics"
   ]
  },
  {
   "cell_type": "code",
   "execution_count": 13,
   "metadata": {},
   "outputs": [
    {
     "data": {
      "text/plain": [
       "125"
      ]
     },
     "execution_count": 13,
     "metadata": {},
     "output_type": "execute_result"
    }
   ],
   "source": [
    "(df_test_clinical_data[\"PatientID\"]==df_test_radiomics[\"PatientID\"]).sum()"
   ]
  },
  {
   "cell_type": "markdown",
   "metadata": {},
   "source": [
    "$125$ means that all PatientIDs are aligned in both test dataframes"
   ]
  },
  {
   "cell_type": "markdown",
   "metadata": {},
   "source": [
    "### Baseline model for survival regression on NSCLC clinical data : Cox proportional hazard (Cox-PH) model"
   ]
  },
  {
   "cell_type": "markdown",
   "metadata": {},
   "source": [
    "This baseline is trained on a selection of features from both clinical data file and radiomics file. A Cox-PH model was fitted on\n",
    "\n",
    "- 1 - Tumor sphericity, a measure of the roundness of the shape of the tumor region relative to a sphere, regardless its dimensions (size).\n",
    "- 2 - The tumor's surface to volume ratio is a measure of the compactness of the tumor, related to its size.\n",
    "- 3 - The tumor's maximum 3d diameter The biggest diameter measurable from the tumor volume\n",
    "- 4 - The dataset of origin\n",
    "- 5 - The N-tumoral stage grading of the tumor describing nearby (regional) lymph nodes involved\n",
    "- 6 - The tumor's joint entropy, specifying the randomness in the image pixel values\n",
    "- 7 - The tumor's inverse different, a measure of the local homogeneity of the tumor\n",
    "- 8 - The tumor's inverse difference moment is another measurement of the local homogeneity of the tumor"
   ]
  },
  {
   "cell_type": "markdown",
   "metadata": {},
   "source": [
    "### Name of variables"
   ]
  },
  {
   "cell_type": "markdown",
   "metadata": {},
   "source": [
    "- 1 - original_shape_Sphericity\n",
    "- 2 - original_shape_SurfaceVolumeRatio\n",
    "- 3 - original_shape_Maximum3DDiameter\n",
    "- 4 - l1 (0) or l2 (1)\n",
    "- 5 - Nstage\n",
    "- 6 - original_firstorder_Entropy\n",
    "- 7 - inverse difference (original_glcm_Id)\n",
    "- 8 - inverse difference moment (original_glcm_Idm) (according to [here](https://static-content.springer.com/esm/art%3A10.1038%2Fncomms5006/MediaObjects/41467_2014_BFncomms5006_MOESM716_ESM.pdf), ctr+F IDMN and [here](https://github.com/cerr/CERR/wiki/GLCM_global_features))"
   ]
  },
  {
   "cell_type": "markdown",
   "metadata": {},
   "source": [
    "### Remark"
   ]
  },
  {
   "cell_type": "markdown",
   "metadata": {},
   "source": [
    "Variables used in the baseline use quantitve and qualitive variables. (dataset of origin (l1 or l2)) makes no sens "
   ]
  },
  {
   "cell_type": "code",
   "execution_count": 14,
   "metadata": {},
   "outputs": [
    {
     "data": {
      "text/html": [
       "<div>\n",
       "<style scoped>\n",
       "    .dataframe tbody tr th:only-of-type {\n",
       "        vertical-align: middle;\n",
       "    }\n",
       "\n",
       "    .dataframe tbody tr th {\n",
       "        vertical-align: top;\n",
       "    }\n",
       "\n",
       "    .dataframe thead th {\n",
       "        text-align: right;\n",
       "    }\n",
       "</style>\n",
       "<table border=\"1\" class=\"dataframe\">\n",
       "  <thead>\n",
       "    <tr style=\"text-align: right;\">\n",
       "      <th></th>\n",
       "      <th>PatientID</th>\n",
       "      <th>Histology</th>\n",
       "      <th>Mstage</th>\n",
       "      <th>Nstage</th>\n",
       "      <th>SourceDataset</th>\n",
       "      <th>Tstage</th>\n",
       "      <th>age</th>\n",
       "    </tr>\n",
       "  </thead>\n",
       "  <tbody>\n",
       "    <tr>\n",
       "      <th>0</th>\n",
       "      <td>202</td>\n",
       "      <td>Adenocarcinoma</td>\n",
       "      <td>0</td>\n",
       "      <td>0</td>\n",
       "      <td>l2</td>\n",
       "      <td>2</td>\n",
       "      <td>66.0000</td>\n",
       "    </tr>\n",
       "    <tr>\n",
       "      <th>1</th>\n",
       "      <td>371</td>\n",
       "      <td>large cell</td>\n",
       "      <td>0</td>\n",
       "      <td>2</td>\n",
       "      <td>l1</td>\n",
       "      <td>4</td>\n",
       "      <td>64.5722</td>\n",
       "    </tr>\n",
       "    <tr>\n",
       "      <th>2</th>\n",
       "      <td>246</td>\n",
       "      <td>squamous cell carcinoma</td>\n",
       "      <td>0</td>\n",
       "      <td>3</td>\n",
       "      <td>l1</td>\n",
       "      <td>2</td>\n",
       "      <td>66.0452</td>\n",
       "    </tr>\n",
       "    <tr>\n",
       "      <th>3</th>\n",
       "      <td>240</td>\n",
       "      <td>nos</td>\n",
       "      <td>0</td>\n",
       "      <td>2</td>\n",
       "      <td>l1</td>\n",
       "      <td>3</td>\n",
       "      <td>59.3566</td>\n",
       "    </tr>\n",
       "    <tr>\n",
       "      <th>4</th>\n",
       "      <td>284</td>\n",
       "      <td>squamous cell carcinoma</td>\n",
       "      <td>0</td>\n",
       "      <td>3</td>\n",
       "      <td>l1</td>\n",
       "      <td>4</td>\n",
       "      <td>71.0554</td>\n",
       "    </tr>\n",
       "  </tbody>\n",
       "</table>\n",
       "</div>"
      ],
      "text/plain": [
       "   PatientID                Histology  Mstage  Nstage SourceDataset  Tstage  \\\n",
       "0        202           Adenocarcinoma       0       0            l2       2   \n",
       "1        371               large cell       0       2            l1       4   \n",
       "2        246  squamous cell carcinoma       0       3            l1       2   \n",
       "3        240                      nos       0       2            l1       3   \n",
       "4        284  squamous cell carcinoma       0       3            l1       4   \n",
       "\n",
       "       age  \n",
       "0  66.0000  \n",
       "1  64.5722  \n",
       "2  66.0452  \n",
       "3  59.3566  \n",
       "4  71.0554  "
      ]
     },
     "execution_count": 14,
     "metadata": {},
     "output_type": "execute_result"
    }
   ],
   "source": [
    "df_training_clinical_data.head(5)"
   ]
  },
  {
   "cell_type": "markdown",
   "metadata": {},
   "source": [
    "### Encode SourceDataset (\"dataset of origin\") with value between 0 and n_datasets-1."
   ]
  },
  {
   "cell_type": "code",
   "execution_count": 15,
   "metadata": {},
   "outputs": [],
   "source": [
    "encoder = LabelEncoder()\n",
    "encoder.fit(df_training_clinical_data[\"SourceDataset\"])\n",
    "df_training_clinical_data[\"SourceDataset\"] = encoder.transform(df_training_clinical_data[\"SourceDataset\"])"
   ]
  },
  {
   "cell_type": "code",
   "execution_count": 16,
   "metadata": {},
   "outputs": [
    {
     "data": {
      "text/html": [
       "<div>\n",
       "<style scoped>\n",
       "    .dataframe tbody tr th:only-of-type {\n",
       "        vertical-align: middle;\n",
       "    }\n",
       "\n",
       "    .dataframe tbody tr th {\n",
       "        vertical-align: top;\n",
       "    }\n",
       "\n",
       "    .dataframe thead th {\n",
       "        text-align: right;\n",
       "    }\n",
       "</style>\n",
       "<table border=\"1\" class=\"dataframe\">\n",
       "  <thead>\n",
       "    <tr style=\"text-align: right;\">\n",
       "      <th></th>\n",
       "      <th>PatientID</th>\n",
       "      <th>Histology</th>\n",
       "      <th>Mstage</th>\n",
       "      <th>Nstage</th>\n",
       "      <th>SourceDataset</th>\n",
       "      <th>Tstage</th>\n",
       "      <th>age</th>\n",
       "    </tr>\n",
       "  </thead>\n",
       "  <tbody>\n",
       "    <tr>\n",
       "      <th>0</th>\n",
       "      <td>202</td>\n",
       "      <td>Adenocarcinoma</td>\n",
       "      <td>0</td>\n",
       "      <td>0</td>\n",
       "      <td>1</td>\n",
       "      <td>2</td>\n",
       "      <td>66.0000</td>\n",
       "    </tr>\n",
       "    <tr>\n",
       "      <th>1</th>\n",
       "      <td>371</td>\n",
       "      <td>large cell</td>\n",
       "      <td>0</td>\n",
       "      <td>2</td>\n",
       "      <td>0</td>\n",
       "      <td>4</td>\n",
       "      <td>64.5722</td>\n",
       "    </tr>\n",
       "    <tr>\n",
       "      <th>2</th>\n",
       "      <td>246</td>\n",
       "      <td>squamous cell carcinoma</td>\n",
       "      <td>0</td>\n",
       "      <td>3</td>\n",
       "      <td>0</td>\n",
       "      <td>2</td>\n",
       "      <td>66.0452</td>\n",
       "    </tr>\n",
       "    <tr>\n",
       "      <th>3</th>\n",
       "      <td>240</td>\n",
       "      <td>nos</td>\n",
       "      <td>0</td>\n",
       "      <td>2</td>\n",
       "      <td>0</td>\n",
       "      <td>3</td>\n",
       "      <td>59.3566</td>\n",
       "    </tr>\n",
       "    <tr>\n",
       "      <th>4</th>\n",
       "      <td>284</td>\n",
       "      <td>squamous cell carcinoma</td>\n",
       "      <td>0</td>\n",
       "      <td>3</td>\n",
       "      <td>0</td>\n",
       "      <td>4</td>\n",
       "      <td>71.0554</td>\n",
       "    </tr>\n",
       "  </tbody>\n",
       "</table>\n",
       "</div>"
      ],
      "text/plain": [
       "   PatientID                Histology  Mstage  Nstage  SourceDataset  Tstage  \\\n",
       "0        202           Adenocarcinoma       0       0              1       2   \n",
       "1        371               large cell       0       2              0       4   \n",
       "2        246  squamous cell carcinoma       0       3              0       2   \n",
       "3        240                      nos       0       2              0       3   \n",
       "4        284  squamous cell carcinoma       0       3              0       4   \n",
       "\n",
       "       age  \n",
       "0  66.0000  \n",
       "1  64.5722  \n",
       "2  66.0452  \n",
       "3  59.3566  \n",
       "4  71.0554  "
      ]
     },
     "execution_count": 16,
     "metadata": {},
     "output_type": "execute_result"
    }
   ],
   "source": [
    "df_training_clinical_data.head(5)"
   ]
  },
  {
   "cell_type": "code",
   "execution_count": 17,
   "metadata": {},
   "outputs": [],
   "source": [
    "df_X_train = pd.concat([df_training_radiomics[[\"original_shape_Sphericity\", \n",
    "                       \"original_shape_SurfaceVolumeRatio\", \n",
    "                       \"original_shape_Maximum3DDiameter\",\n",
    "                       \"original_firstorder_Entropy\",\n",
    "                       \"original_glcm_Id\",\n",
    "                       \"original_glcm_Idm\"]],\n",
    "                        df_training_clinical_data[[\"SourceDataset\",\n",
    "                                                  \"Nstage\"]]\n",
    "                       ], sort=False, axis=1)"
   ]
  },
  {
   "cell_type": "code",
   "execution_count": 18,
   "metadata": {},
   "outputs": [
    {
     "name": "stdout",
     "output_type": "stream",
     "text": [
      "<class 'pandas.core.frame.DataFrame'>\n",
      "RangeIndex: 300 entries, 0 to 299\n",
      "Data columns (total 8 columns):\n",
      "original_shape_Sphericity            300 non-null float64\n",
      "original_shape_SurfaceVolumeRatio    300 non-null float64\n",
      "original_shape_Maximum3DDiameter     300 non-null float64\n",
      "original_firstorder_Entropy          300 non-null float64\n",
      "original_glcm_Id                     300 non-null float64\n",
      "original_glcm_Idm                    300 non-null float64\n",
      "SourceDataset                        300 non-null float64\n",
      "Nstage                               300 non-null float64\n",
      "dtypes: float64(8)\n",
      "memory usage: 18.9 KB\n"
     ]
    }
   ],
   "source": [
    "df_X_train = df_X_train.astype(float)\n",
    "df_X_train.info()"
   ]
  },
  {
   "cell_type": "markdown",
   "metadata": {},
   "source": [
    "### AutoML sklearn"
   ]
  },
  {
   "cell_type": "code",
   "execution_count": null,
   "metadata": {},
   "outputs": [
    {
     "name": "stdout",
     "output_type": "stream",
     "text": [
      "[WARNING] [2020-01-24 15:49:44,684:AutoMLSMBO(1)::data_Q0G7b5t] Could not find meta-data directory /home/damien/.local/lib/python3.6/site-packages/autosklearn/metalearning/files/r2_regression_dense\n",
      "[WARNING] [2020-01-24 15:49:44,700:EnsembleBuilder(1):data_Q0G7b5t] No models better than random - using Dummy Score!\n",
      "[WARNING] [2020-01-24 15:49:44,713:EnsembleBuilder(1):data_Q0G7b5t] No models better than random - using Dummy Score!\n",
      "[WARNING] [2020-01-24 15:49:46,722:EnsembleBuilder(1):data_Q0G7b5t] No models better than random - using Dummy Score!\n"
     ]
    }
   ],
   "source": [
    "automl = autosklearn.regression.AutoSklearnRegressor(time_left_for_this_task=120, # in seconds\n",
    "                                                     per_run_time_limit=30,\n",
    "                                                     resampling_strategy='cv',\n",
    "                                                     resampling_strategy_arguments={'folds': 5})\n",
    "\n",
    "cindex_scorer = autosklearn.metrics.make_scorer(\n",
    "        name=\"cindex\",\n",
    "        score_func=cindex,\n",
    "        optimum=1,\n",
    "        greater_is_better=True,\n",
    "        needs_proba=False,\n",
    "        needs_threshold=False,\n",
    "    )\n",
    "\n",
    "start_time = time.time()\n",
    "automl.fit(df_X_train.copy(), df_train_output[\"SurvivalTime\"].copy(), dataset_name='data_Q0G7b5t') #, metric=cindex_scorer\n",
    "# Docs for metric in autoML skearln\n",
    "# https://automl.github.io/auto-sklearn/master/examples/example_metrics.html\n",
    "# (Metric must be instance of autosklearn.metrics.Scorer.)\n",
    "\n",
    "#https://automl.github.io/auto-sklearn/master/examples/example_crossvalidation.html\n",
    "automl.refit(df_X_train.copy(), df_train_output[\"SurvivalTime\"].copy())\n",
    "\n",
    "execution_time = time.time()-start_time\n",
    "print(\"execution_time\", execution_time)\n",
    "\n",
    "# https://automl.github.io/auto-sklearn/master/manual.html\n",
    "# Cross validation : https://scikit-learn.org/stable/modules/cross_validation.html"
   ]
  },
  {
   "cell_type": "code",
   "execution_count": null,
   "metadata": {},
   "outputs": [],
   "source": [
    "print(\"{:0.2f}\".format(automl.cv_results_[\"mean_test_score\"].max()))\n",
    "print()\n",
    "print(automl.sprint_statistics())\n",
    "#automl._automl[0]._metric.name"
   ]
  },
  {
   "cell_type": "code",
   "execution_count": null,
   "metadata": {},
   "outputs": [],
   "source": [
    "len(automl.cv_results_[\"mean_test_score\"])"
   ]
  },
  {
   "cell_type": "code",
   "execution_count": null,
   "metadata": {},
   "outputs": [],
   "source": [
    "all_information = automl.get_models_with_weights()\n",
    "index_regressor = 5\n",
    "weights = []\n",
    "print(\"Models used with corresponding weights :\\n\")\n",
    "for weight, simple_regression_pipeline in all_information:\n",
    "    print(str(weight)+\" : \"+simple_regression_pipeline[index_regressor].choice.__class__.__name__)\n",
    "    weights.append(weight)\n",
    "print()\n",
    "print(\"sum(weights) = \", np.round(sum(weights),2))"
   ]
  },
  {
   "cell_type": "markdown",
   "metadata": {},
   "source": [
    "### Test"
   ]
  },
  {
   "cell_type": "code",
   "execution_count": null,
   "metadata": {},
   "outputs": [],
   "source": [
    "df_test_clinical_data[\"SourceDataset\"] = encoder.transform(df_test_clinical_data[\"SourceDataset\"])"
   ]
  },
  {
   "cell_type": "code",
   "execution_count": null,
   "metadata": {},
   "outputs": [],
   "source": [
    "df_X_test = pd.concat([df_test_radiomics[[\"original_shape_Sphericity\", \n",
    "                       \"original_shape_SurfaceVolumeRatio\", \n",
    "                       \"original_shape_Maximum3DDiameter\",\n",
    "                       \"original_firstorder_Entropy\",\n",
    "                       \"original_glcm_Id\",\n",
    "                       \"original_glcm_Idm\"]],\n",
    "                        df_test_clinical_data[[\"SourceDataset\",\n",
    "                                                  \"Nstage\"]]\n",
    "                       ], sort=False, axis=1)"
   ]
  },
  {
   "cell_type": "code",
   "execution_count": null,
   "metadata": {},
   "outputs": [],
   "source": [
    "df_X_test = df_X_test.astype(float)\n",
    "df_X_test.info()"
   ]
  },
  {
   "cell_type": "code",
   "execution_count": null,
   "metadata": {},
   "outputs": [],
   "source": [
    "y_hat = automl.predict(df_X_test)"
   ]
  },
  {
   "cell_type": "code",
   "execution_count": null,
   "metadata": {},
   "outputs": [],
   "source": [
    "df_predicted_survival_time = pd.read_csv(os.path.join(submission_file_path, \"random_submission_0vhlEZN.csv\"))\n",
    "df_predicted_survival_time.sample(5)"
   ]
  },
  {
   "cell_type": "code",
   "execution_count": null,
   "metadata": {},
   "outputs": [],
   "source": [
    "df_predicted_survival_time[\"PatientID\"] = df_training_clinical_data[\"PatientID\"]\n",
    "df_predicted_survival_time[\"SurvivalTime\"] = y_hat"
   ]
  },
  {
   "cell_type": "code",
   "execution_count": null,
   "metadata": {},
   "outputs": [],
   "source": [
    "df_predicted_survival_time.sample(5)"
   ]
  },
  {
   "cell_type": "markdown",
   "metadata": {},
   "source": [
    "## $\\color{red}{\\text{To be continued}}$"
   ]
  },
  {
   "cell_type": "code",
   "execution_count": null,
   "metadata": {},
   "outputs": [],
   "source": []
  }
 ],
 "metadata": {
  "kernelspec": {
   "display_name": "Python 3",
   "language": "python",
   "name": "python3"
  },
  "language_info": {
   "codemirror_mode": {
    "name": "ipython",
    "version": 3
   },
   "file_extension": ".py",
   "mimetype": "text/x-python",
   "name": "python",
   "nbconvert_exporter": "python",
   "pygments_lexer": "ipython3",
   "version": "3.6.9"
  }
 },
 "nbformat": 4,
 "nbformat_minor": 2
}
