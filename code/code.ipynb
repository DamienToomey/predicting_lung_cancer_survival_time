{
 "cells": [
  {
   "cell_type": "markdown",
   "metadata": {},
   "source": [
    "# Predicting lung cancer survival time by OWKIN\n",
    "\n",
    "https://challengedata.ens.fr/challenges/33\n",
    "\n",
    "Save and load model\n",
    "https://github.com/automl/auto-sklearn/issues/5"
   ]
  },
  {
   "cell_type": "markdown",
   "metadata": {},
   "source": [
    "### Problem\n",
    "\n",
    "- supervised survival prediction problem\n",
    "- predict the survival time of a patient (remaining days to live) from one three-dimensional CT scan (grayscale image) and a set of pre-extracted quantitative imaging features, as well as clinical data"
   ]
  },
  {
   "cell_type": "markdown",
   "metadata": {},
   "source": [
    "### Import"
   ]
  },
  {
   "cell_type": "code",
   "execution_count": 1,
   "metadata": {},
   "outputs": [],
   "source": [
    "import numpy as np\n",
    "import os\n",
    "import matplotlib.pyplot as plt\n",
    "import pandas as pd\n",
    "import time\n",
    "\n",
    "from sklearn.preprocessing import LabelEncoder\n",
    "from sklearn.model_selection import train_test_split\n",
    "from sklearn.preprocessing import StandardScaler\n",
    "from sklearn.linear_model import ElasticNet\n",
    "\n",
    "import autosklearn.regression\n",
    "\n",
    "import pickle\n",
    "\n",
    "# concordance index (C-index)\n",
    "from metrics_t9gbvr2 import cindex"
   ]
  },
  {
   "cell_type": "markdown",
   "metadata": {},
   "source": [
    "### Data\n",
    "\n",
    "- x_train : data_Q0G7b5t\n",
    "- y_train : output_VSVxRFU.csv\n",
    "- x_test : data_9Cbe5hx"
   ]
  },
  {
   "cell_type": "code",
   "execution_count": 2,
   "metadata": {},
   "outputs": [
    {
     "name": "stdout",
     "output_type": "stream",
     "text": [
      "Number of training ct scans : 300\n",
      "Number of test ct scans : 125\n"
     ]
    }
   ],
   "source": [
    "data_folder_path = \"../data\"\n",
    "training_folder_path = os.path.join(data_folder_path, \"data_Q0G7b5t\")\n",
    "test_folder_path = os.path.join(data_folder_path, \"data_9Cbe5hx\")\n",
    "\n",
    "training_ct_scan_names = [os.path.join(root, file_name) for root, _, file_names in os.walk(training_folder_path)\\\n",
    "                          for file_name in file_names if file_name.endswith('.npz')]\n",
    "\n",
    "test_ct_scan_names = [os.path.join(root, file_name) for root, _, file_names in os.walk(test_folder_path)\\\n",
    "                      for file_name in file_names if file_name.endswith('.npz')]\n",
    "\n",
    "print(\"Number of training ct scans : {}\".format(len(training_ct_scan_names)))\n",
    "print(\"Number of test ct scans : {}\".format(len(test_ct_scan_names)))\n",
    "\n",
    "training_features_path = os.path.join(training_folder_path, \"features\")\n",
    "test_features_path = os.path.join(test_folder_path, \"features\")\n",
    "\n",
    "submission_example_file_path = \"../random_submission_example\"\n",
    "my_submission_path = \"../my_submission\"\n",
    "best_model_path = \"../best_model\"\n",
    "best_model_name = \"best_model.pickle\""
   ]
  },
  {
   "cell_type": "code",
   "execution_count": 3,
   "metadata": {},
   "outputs": [
    {
     "name": "stdout",
     "output_type": "stream",
     "text": [
      "scan.shape (92, 92, 92)\n",
      "mask.shape (92, 92, 92)\n"
     ]
    }
   ],
   "source": [
    "archive = np.load(training_ct_scan_names[0])\n",
    "scan = archive['scan']\n",
    "mask = archive['mask']\n",
    "# scan.shape equals mask.shape\n",
    "print(\"scan.shape\", scan.shape)\n",
    "print(\"mask.shape\", mask.shape)"
   ]
  },
  {
   "cell_type": "code",
   "execution_count": 4,
   "metadata": {},
   "outputs": [
    {
     "name": "stdout",
     "output_type": "stream",
     "text": [
      "p0.Event 0\n",
      "p0.SurvivalTime 1378\n"
     ]
    }
   ],
   "source": [
    "df_train_output = pd.read_csv(os.path.join(data_folder_path, \"output_VSVxRFU.csv\"), index_col=0)\n",
    "p0 = df_train_output.loc[202]\n",
    "print(\"p0.Event\", p0.Event) # prints 1 or 0\n",
    "print(\"p0.SurvivalTime\", p0.SurvivalTime)\n",
    "# prints time to event (time to death or time to last known alive) in days"
   ]
  },
  {
   "cell_type": "code",
   "execution_count": 5,
   "metadata": {},
   "outputs": [
    {
     "data": {
      "text/html": [
       "<div>\n",
       "<style scoped>\n",
       "    .dataframe tbody tr th:only-of-type {\n",
       "        vertical-align: middle;\n",
       "    }\n",
       "\n",
       "    .dataframe tbody tr th {\n",
       "        vertical-align: top;\n",
       "    }\n",
       "\n",
       "    .dataframe thead th {\n",
       "        text-align: right;\n",
       "    }\n",
       "</style>\n",
       "<table border=\"1\" class=\"dataframe\">\n",
       "  <thead>\n",
       "    <tr style=\"text-align: right;\">\n",
       "      <th></th>\n",
       "      <th>SurvivalTime</th>\n",
       "      <th>Event</th>\n",
       "    </tr>\n",
       "    <tr>\n",
       "      <th>PatientID</th>\n",
       "      <th></th>\n",
       "      <th></th>\n",
       "    </tr>\n",
       "  </thead>\n",
       "  <tbody>\n",
       "    <tr>\n",
       "      <th>330</th>\n",
       "      <td>293</td>\n",
       "      <td>0</td>\n",
       "    </tr>\n",
       "    <tr>\n",
       "      <th>11</th>\n",
       "      <td>3222</td>\n",
       "      <td>0</td>\n",
       "    </tr>\n",
       "    <tr>\n",
       "      <th>14</th>\n",
       "      <td>87</td>\n",
       "      <td>1</td>\n",
       "    </tr>\n",
       "    <tr>\n",
       "      <th>95</th>\n",
       "      <td>1980</td>\n",
       "      <td>0</td>\n",
       "    </tr>\n",
       "    <tr>\n",
       "      <th>409</th>\n",
       "      <td>1456</td>\n",
       "      <td>0</td>\n",
       "    </tr>\n",
       "  </tbody>\n",
       "</table>\n",
       "</div>"
      ],
      "text/plain": [
       "           SurvivalTime  Event\n",
       "PatientID                     \n",
       "330                 293      0\n",
       "11                 3222      0\n",
       "14                   87      1\n",
       "95                 1980      0\n",
       "409                1456      0"
      ]
     },
     "execution_count": 5,
     "metadata": {},
     "output_type": "execute_result"
    }
   ],
   "source": [
    "df_train_output.sample(5)"
   ]
  },
  {
   "cell_type": "markdown",
   "metadata": {},
   "source": [
    "### Interpretation"
   ]
  },
  {
   "cell_type": "markdown",
   "metadata": {},
   "source": [
    "(`1=death observed`, `0=escaped from study`)"
   ]
  },
  {
   "cell_type": "code",
   "execution_count": 6,
   "metadata": {},
   "outputs": [
    {
     "data": {
      "image/png": "[encoded data removed]",
      "text/plain": [
       "<Figure size 432x288 with 1 Axes>"
      ]
     },
     "metadata": {
      "needs_background": "light"
     },
     "output_type": "display_data"
    }
   ],
   "source": [
    "plt.figure()\n",
    "plt.scatter(np.arange(len(df_train_output)), df_train_output[\"SurvivalTime\"])\n",
    "plt.grid()\n",
    "plt.title(\"Survival time on training set\")\n",
    "plt.show()"
   ]
  },
  {
   "cell_type": "markdown",
   "metadata": {},
   "source": [
    "## Load data"
   ]
  },
  {
   "cell_type": "code",
   "execution_count": 7,
   "metadata": {},
   "outputs": [],
   "source": [
    "def load_data(features_path):\n",
    "    file_name = os.path.join(features_path, \"clinical_data.csv\")\n",
    "    df_clinical_data = pd.read_csv(file_name, delimiter=',', index_col=0)\n",
    "    print(\"Nb rows in clinical_data : {}\".format(len(df_clinical_data)))\n",
    "\n",
    "    file_name = os.path.join(features_path, \"radiomics.csv\")\n",
    "    df_radiomics = pd.read_csv(file_name, delimiter=',', index_col=0, skiprows=[0,2], header=[0])\n",
    "    df_radiomics.index.name = \"PatientID\"\n",
    "    print(\"Nb rows in radiomics : {}\".format(len(df_radiomics)))\n",
    "    \n",
    "    return df_clinical_data, df_radiomics"
   ]
  },
  {
   "cell_type": "markdown",
   "metadata": {},
   "source": [
    "### Load training data"
   ]
  },
  {
   "cell_type": "code",
   "execution_count": 8,
   "metadata": {},
   "outputs": [
    {
     "name": "stdout",
     "output_type": "stream",
     "text": [
      "Nb rows in clinical_data : 300\n",
      "Nb rows in radiomics : 300\n"
     ]
    }
   ],
   "source": [
    "df_training_clinical_data, df_training_radiomics = load_data(training_features_path)"
   ]
  },
  {
   "cell_type": "markdown",
   "metadata": {},
   "source": [
    "### Load test data"
   ]
  },
  {
   "cell_type": "code",
   "execution_count": 9,
   "metadata": {},
   "outputs": [
    {
     "name": "stdout",
     "output_type": "stream",
     "text": [
      "Nb rows in clinical_data : 125\n",
      "Nb rows in radiomics : 125\n"
     ]
    }
   ],
   "source": [
    "df_test_clinical_data, df_test_radiomics = load_data(test_features_path)"
   ]
  },
  {
   "cell_type": "markdown",
   "metadata": {},
   "source": [
    "### clinical_data.csv"
   ]
  },
  {
   "cell_type": "code",
   "execution_count": 10,
   "metadata": {},
   "outputs": [
    {
     "data": {
      "text/html": [
       "<div>\n",
       "<style scoped>\n",
       "    .dataframe tbody tr th:only-of-type {\n",
       "        vertical-align: middle;\n",
       "    }\n",
       "\n",
       "    .dataframe tbody tr th {\n",
       "        vertical-align: top;\n",
       "    }\n",
       "\n",
       "    .dataframe thead th {\n",
       "        text-align: right;\n",
       "    }\n",
       "</style>\n",
       "<table border=\"1\" class=\"dataframe\">\n",
       "  <thead>\n",
       "    <tr style=\"text-align: right;\">\n",
       "      <th></th>\n",
       "      <th>Histology</th>\n",
       "      <th>Mstage</th>\n",
       "      <th>Nstage</th>\n",
       "      <th>SourceDataset</th>\n",
       "      <th>Tstage</th>\n",
       "      <th>age</th>\n",
       "    </tr>\n",
       "    <tr>\n",
       "      <th>PatientID</th>\n",
       "      <th></th>\n",
       "      <th></th>\n",
       "      <th></th>\n",
       "      <th></th>\n",
       "      <th></th>\n",
       "      <th></th>\n",
       "    </tr>\n",
       "  </thead>\n",
       "  <tbody>\n",
       "    <tr>\n",
       "      <th>321</th>\n",
       "      <td>Adenocarcinoma</td>\n",
       "      <td>0</td>\n",
       "      <td>0</td>\n",
       "      <td>l2</td>\n",
       "      <td>1</td>\n",
       "      <td>85.0000</td>\n",
       "    </tr>\n",
       "    <tr>\n",
       "      <th>173</th>\n",
       "      <td>adenocarcinoma</td>\n",
       "      <td>0</td>\n",
       "      <td>2</td>\n",
       "      <td>l1</td>\n",
       "      <td>4</td>\n",
       "      <td>53.0842</td>\n",
       "    </tr>\n",
       "    <tr>\n",
       "      <th>103</th>\n",
       "      <td>nos</td>\n",
       "      <td>0</td>\n",
       "      <td>2</td>\n",
       "      <td>l1</td>\n",
       "      <td>2</td>\n",
       "      <td>58.1656</td>\n",
       "    </tr>\n",
       "    <tr>\n",
       "      <th>237</th>\n",
       "      <td>squamous cell carcinoma</td>\n",
       "      <td>0</td>\n",
       "      <td>2</td>\n",
       "      <td>l1</td>\n",
       "      <td>4</td>\n",
       "      <td>NaN</td>\n",
       "    </tr>\n",
       "    <tr>\n",
       "      <th>141</th>\n",
       "      <td>NaN</td>\n",
       "      <td>0</td>\n",
       "      <td>0</td>\n",
       "      <td>l1</td>\n",
       "      <td>1</td>\n",
       "      <td>72.7748</td>\n",
       "    </tr>\n",
       "  </tbody>\n",
       "</table>\n",
       "</div>"
      ],
      "text/plain": [
       "                         Histology  Mstage  Nstage SourceDataset  Tstage  \\\n",
       "PatientID                                                                  \n",
       "321                 Adenocarcinoma       0       0            l2       1   \n",
       "173                 adenocarcinoma       0       2            l1       4   \n",
       "103                            nos       0       2            l1       2   \n",
       "237        squamous cell carcinoma       0       2            l1       4   \n",
       "141                            NaN       0       0            l1       1   \n",
       "\n",
       "               age  \n",
       "PatientID           \n",
       "321        85.0000  \n",
       "173        53.0842  \n",
       "103        58.1656  \n",
       "237            NaN  \n",
       "141        72.7748  "
      ]
     },
     "execution_count": 10,
     "metadata": {},
     "output_type": "execute_result"
    }
   ],
   "source": [
    "df_training_clinical_data.sample(5)"
   ]
  },
  {
   "cell_type": "markdown",
   "metadata": {},
   "source": [
    "#### Are there NaN values in df_training_clinical_data ?"
   ]
  },
  {
   "cell_type": "code",
   "execution_count": 11,
   "metadata": {},
   "outputs": [
    {
     "data": {
      "text/plain": [
       "Histology        20\n",
       "Mstage            0\n",
       "Nstage            0\n",
       "SourceDataset     0\n",
       "Tstage            0\n",
       "age              16\n",
       "dtype: int64"
      ]
     },
     "execution_count": 11,
     "metadata": {},
     "output_type": "execute_result"
    }
   ],
   "source": [
    "df_training_clinical_data.isnull().sum()"
   ]
  },
  {
   "cell_type": "markdown",
   "metadata": {},
   "source": [
    "### Remark"
   ]
  },
  {
   "cell_type": "markdown",
   "metadata": {},
   "source": [
    "There are NaN values in columns Histology and age. We will not use these in our study so no problem."
   ]
  },
  {
   "cell_type": "markdown",
   "metadata": {},
   "source": [
    "#### Same check for test data"
   ]
  },
  {
   "cell_type": "code",
   "execution_count": 12,
   "metadata": {},
   "outputs": [
    {
     "data": {
      "text/plain": [
       "Histology        12\n",
       "Mstage            0\n",
       "Nstage            0\n",
       "SourceDataset     0\n",
       "Tstage            0\n",
       "age               4\n",
       "dtype: int64"
      ]
     },
     "execution_count": 12,
     "metadata": {},
     "output_type": "execute_result"
    }
   ],
   "source": [
    "df_test_clinical_data.isnull().sum()"
   ]
  },
  {
   "cell_type": "markdown",
   "metadata": {},
   "source": [
    "### radiomics.csv"
   ]
  },
  {
   "cell_type": "code",
   "execution_count": 13,
   "metadata": {},
   "outputs": [
    {
     "data": {
      "text/html": [
       "<div>\n",
       "<style scoped>\n",
       "    .dataframe tbody tr th:only-of-type {\n",
       "        vertical-align: middle;\n",
       "    }\n",
       "\n",
       "    .dataframe tbody tr th {\n",
       "        vertical-align: top;\n",
       "    }\n",
       "\n",
       "    .dataframe thead th {\n",
       "        text-align: right;\n",
       "    }\n",
       "</style>\n",
       "<table border=\"1\" class=\"dataframe\">\n",
       "  <thead>\n",
       "    <tr style=\"text-align: right;\">\n",
       "      <th></th>\n",
       "      <th>original_shape_Compactness1</th>\n",
       "      <th>original_shape_Compactness2</th>\n",
       "      <th>original_shape_Maximum3DDiameter</th>\n",
       "      <th>original_shape_SphericalDisproportion</th>\n",
       "      <th>original_shape_Sphericity</th>\n",
       "      <th>original_shape_SurfaceArea</th>\n",
       "      <th>original_shape_SurfaceVolumeRatio</th>\n",
       "      <th>original_shape_VoxelVolume</th>\n",
       "      <th>original_firstorder_Energy</th>\n",
       "      <th>original_firstorder_Entropy</th>\n",
       "      <th>...</th>\n",
       "      <th>original_glrlm_LongRunEmphasis</th>\n",
       "      <th>original_glrlm_GrayLevelNonUniformity</th>\n",
       "      <th>original_glrlm_RunLengthNonUniformity</th>\n",
       "      <th>original_glrlm_RunPercentage</th>\n",
       "      <th>original_glrlm_LowGrayLevelRunEmphasis</th>\n",
       "      <th>original_glrlm_HighGrayLevelRunEmphasis</th>\n",
       "      <th>original_glrlm_ShortRunLowGrayLevelEmphasis</th>\n",
       "      <th>original_glrlm_ShortRunHighGrayLevelEmphasis</th>\n",
       "      <th>original_glrlm_LongRunLowGrayLevelEmphasis</th>\n",
       "      <th>original_glrlm_LongRunHighGrayLevelEmphasis</th>\n",
       "    </tr>\n",
       "    <tr>\n",
       "      <th>PatientID</th>\n",
       "      <th></th>\n",
       "      <th></th>\n",
       "      <th></th>\n",
       "      <th></th>\n",
       "      <th></th>\n",
       "      <th></th>\n",
       "      <th></th>\n",
       "      <th></th>\n",
       "      <th></th>\n",
       "      <th></th>\n",
       "      <th></th>\n",
       "      <th></th>\n",
       "      <th></th>\n",
       "      <th></th>\n",
       "      <th></th>\n",
       "      <th></th>\n",
       "      <th></th>\n",
       "      <th></th>\n",
       "      <th></th>\n",
       "      <th></th>\n",
       "      <th></th>\n",
       "    </tr>\n",
       "  </thead>\n",
       "  <tbody>\n",
       "    <tr>\n",
       "      <th>73</th>\n",
       "      <td>0.021078</td>\n",
       "      <td>0.157857</td>\n",
       "      <td>62.425956</td>\n",
       "      <td>1.850313</td>\n",
       "      <td>0.540449</td>\n",
       "      <td>4369.766811</td>\n",
       "      <td>0.404916</td>\n",
       "      <td>10839.0</td>\n",
       "      <td>4.182050e+08</td>\n",
       "      <td>4.375740</td>\n",
       "      <td>...</td>\n",
       "      <td>2.000011</td>\n",
       "      <td>453.130594</td>\n",
       "      <td>6730.796253</td>\n",
       "      <td>0.820087</td>\n",
       "      <td>0.002600</td>\n",
       "      <td>595.881673</td>\n",
       "      <td>0.002430</td>\n",
       "      <td>506.794308</td>\n",
       "      <td>0.003906</td>\n",
       "      <td>1475.569355</td>\n",
       "    </tr>\n",
       "    <tr>\n",
       "      <th>18</th>\n",
       "      <td>0.031728</td>\n",
       "      <td>0.357685</td>\n",
       "      <td>28.635642</td>\n",
       "      <td>1.408747</td>\n",
       "      <td>0.709851</td>\n",
       "      <td>1635.131463</td>\n",
       "      <td>0.439744</td>\n",
       "      <td>3745.0</td>\n",
       "      <td>4.344947e+08</td>\n",
       "      <td>4.895754</td>\n",
       "      <td>...</td>\n",
       "      <td>1.727853</td>\n",
       "      <td>109.214946</td>\n",
       "      <td>2556.815992</td>\n",
       "      <td>0.853795</td>\n",
       "      <td>0.008866</td>\n",
       "      <td>622.368252</td>\n",
       "      <td>0.008559</td>\n",
       "      <td>533.359763</td>\n",
       "      <td>0.010569</td>\n",
       "      <td>1420.715876</td>\n",
       "    </tr>\n",
       "    <tr>\n",
       "      <th>424</th>\n",
       "      <td>0.022833</td>\n",
       "      <td>0.185241</td>\n",
       "      <td>91.043945</td>\n",
       "      <td>1.754234</td>\n",
       "      <td>0.570049</td>\n",
       "      <td>15684.290927</td>\n",
       "      <td>0.197299</td>\n",
       "      <td>79591.0</td>\n",
       "      <td>8.649485e+09</td>\n",
       "      <td>4.950015</td>\n",
       "      <td>...</td>\n",
       "      <td>1.844297</td>\n",
       "      <td>2348.921373</td>\n",
       "      <td>47885.609964</td>\n",
       "      <td>0.823718</td>\n",
       "      <td>0.001669</td>\n",
       "      <td>1090.452399</td>\n",
       "      <td>0.001494</td>\n",
       "      <td>928.074629</td>\n",
       "      <td>0.002740</td>\n",
       "      <td>2288.696621</td>\n",
       "    </tr>\n",
       "    <tr>\n",
       "      <th>222</th>\n",
       "      <td>0.026745</td>\n",
       "      <td>0.254144</td>\n",
       "      <td>34.770677</td>\n",
       "      <td>1.578726</td>\n",
       "      <td>0.633422</td>\n",
       "      <td>2175.715174</td>\n",
       "      <td>0.452257</td>\n",
       "      <td>4856.0</td>\n",
       "      <td>3.492393e+08</td>\n",
       "      <td>4.690709</td>\n",
       "      <td>...</td>\n",
       "      <td>1.345862</td>\n",
       "      <td>239.344771</td>\n",
       "      <td>3708.322248</td>\n",
       "      <td>0.907569</td>\n",
       "      <td>0.003501</td>\n",
       "      <td>1451.101981</td>\n",
       "      <td>0.003363</td>\n",
       "      <td>1332.675497</td>\n",
       "      <td>0.004102</td>\n",
       "      <td>2072.062747</td>\n",
       "    </tr>\n",
       "    <tr>\n",
       "      <th>126</th>\n",
       "      <td>0.029825</td>\n",
       "      <td>0.316059</td>\n",
       "      <td>34.452866</td>\n",
       "      <td>1.468060</td>\n",
       "      <td>0.681171</td>\n",
       "      <td>2269.238838</td>\n",
       "      <td>0.397102</td>\n",
       "      <td>5742.0</td>\n",
       "      <td>1.326180e+08</td>\n",
       "      <td>3.606678</td>\n",
       "      <td>...</td>\n",
       "      <td>2.355278</td>\n",
       "      <td>474.071333</td>\n",
       "      <td>2890.479807</td>\n",
       "      <td>0.763926</td>\n",
       "      <td>0.001548</td>\n",
       "      <td>1276.975972</td>\n",
       "      <td>0.001416</td>\n",
       "      <td>1035.116656</td>\n",
       "      <td>0.002541</td>\n",
       "      <td>3292.649446</td>\n",
       "    </tr>\n",
       "  </tbody>\n",
       "</table>\n",
       "<p>5 rows × 53 columns</p>\n",
       "</div>"
      ],
      "text/plain": [
       "           original_shape_Compactness1  original_shape_Compactness2  \\\n",
       "PatientID                                                             \n",
       "73                            0.021078                     0.157857   \n",
       "18                            0.031728                     0.357685   \n",
       "424                           0.022833                     0.185241   \n",
       "222                           0.026745                     0.254144   \n",
       "126                           0.029825                     0.316059   \n",
       "\n",
       "           original_shape_Maximum3DDiameter  \\\n",
       "PatientID                                     \n",
       "73                                62.425956   \n",
       "18                                28.635642   \n",
       "424                               91.043945   \n",
       "222                               34.770677   \n",
       "126                               34.452866   \n",
       "\n",
       "           original_shape_SphericalDisproportion  original_shape_Sphericity  \\\n",
       "PatientID                                                                     \n",
       "73                                      1.850313                   0.540449   \n",
       "18                                      1.408747                   0.709851   \n",
       "424                                     1.754234                   0.570049   \n",
       "222                                     1.578726                   0.633422   \n",
       "126                                     1.468060                   0.681171   \n",
       "\n",
       "           original_shape_SurfaceArea  original_shape_SurfaceVolumeRatio  \\\n",
       "PatientID                                                                  \n",
       "73                        4369.766811                           0.404916   \n",
       "18                        1635.131463                           0.439744   \n",
       "424                      15684.290927                           0.197299   \n",
       "222                       2175.715174                           0.452257   \n",
       "126                       2269.238838                           0.397102   \n",
       "\n",
       "           original_shape_VoxelVolume  original_firstorder_Energy  \\\n",
       "PatientID                                                           \n",
       "73                            10839.0                4.182050e+08   \n",
       "18                             3745.0                4.344947e+08   \n",
       "424                           79591.0                8.649485e+09   \n",
       "222                            4856.0                3.492393e+08   \n",
       "126                            5742.0                1.326180e+08   \n",
       "\n",
       "           original_firstorder_Entropy  ...  original_glrlm_LongRunEmphasis  \\\n",
       "PatientID                               ...                                   \n",
       "73                            4.375740  ...                        2.000011   \n",
       "18                            4.895754  ...                        1.727853   \n",
       "424                           4.950015  ...                        1.844297   \n",
       "222                           4.690709  ...                        1.345862   \n",
       "126                           3.606678  ...                        2.355278   \n",
       "\n",
       "           original_glrlm_GrayLevelNonUniformity  \\\n",
       "PatientID                                          \n",
       "73                                    453.130594   \n",
       "18                                    109.214946   \n",
       "424                                  2348.921373   \n",
       "222                                   239.344771   \n",
       "126                                   474.071333   \n",
       "\n",
       "           original_glrlm_RunLengthNonUniformity  \\\n",
       "PatientID                                          \n",
       "73                                   6730.796253   \n",
       "18                                   2556.815992   \n",
       "424                                 47885.609964   \n",
       "222                                  3708.322248   \n",
       "126                                  2890.479807   \n",
       "\n",
       "           original_glrlm_RunPercentage  \\\n",
       "PatientID                                 \n",
       "73                             0.820087   \n",
       "18                             0.853795   \n",
       "424                            0.823718   \n",
       "222                            0.907569   \n",
       "126                            0.763926   \n",
       "\n",
       "           original_glrlm_LowGrayLevelRunEmphasis  \\\n",
       "PatientID                                           \n",
       "73                                       0.002600   \n",
       "18                                       0.008866   \n",
       "424                                      0.001669   \n",
       "222                                      0.003501   \n",
       "126                                      0.001548   \n",
       "\n",
       "           original_glrlm_HighGrayLevelRunEmphasis  \\\n",
       "PatientID                                            \n",
       "73                                      595.881673   \n",
       "18                                      622.368252   \n",
       "424                                    1090.452399   \n",
       "222                                    1451.101981   \n",
       "126                                    1276.975972   \n",
       "\n",
       "           original_glrlm_ShortRunLowGrayLevelEmphasis  \\\n",
       "PatientID                                                \n",
       "73                                            0.002430   \n",
       "18                                            0.008559   \n",
       "424                                           0.001494   \n",
       "222                                           0.003363   \n",
       "126                                           0.001416   \n",
       "\n",
       "           original_glrlm_ShortRunHighGrayLevelEmphasis  \\\n",
       "PatientID                                                 \n",
       "73                                           506.794308   \n",
       "18                                           533.359763   \n",
       "424                                          928.074629   \n",
       "222                                         1332.675497   \n",
       "126                                         1035.116656   \n",
       "\n",
       "           original_glrlm_LongRunLowGrayLevelEmphasis  \\\n",
       "PatientID                                               \n",
       "73                                           0.003906   \n",
       "18                                           0.010569   \n",
       "424                                          0.002740   \n",
       "222                                          0.004102   \n",
       "126                                          0.002541   \n",
       "\n",
       "           original_glrlm_LongRunHighGrayLevelEmphasis  \n",
       "PatientID                                               \n",
       "73                                         1475.569355  \n",
       "18                                         1420.715876  \n",
       "424                                        2288.696621  \n",
       "222                                        2072.062747  \n",
       "126                                        3292.649446  \n",
       "\n",
       "[5 rows x 53 columns]"
      ]
     },
     "execution_count": 13,
     "metadata": {},
     "output_type": "execute_result"
    }
   ],
   "source": [
    "df_training_radiomics.sample(5)"
   ]
  },
  {
   "cell_type": "markdown",
   "metadata": {},
   "source": [
    "#### Are there NaN values in df_training_radiomics ?"
   ]
  },
  {
   "cell_type": "code",
   "execution_count": 14,
   "metadata": {},
   "outputs": [
    {
     "data": {
      "text/plain": [
       "0"
      ]
     },
     "execution_count": 14,
     "metadata": {},
     "output_type": "execute_result"
    }
   ],
   "source": [
    "df_training_radiomics.isnull().sum().sum()"
   ]
  },
  {
   "cell_type": "markdown",
   "metadata": {},
   "source": [
    "### Remark"
   ]
  },
  {
   "cell_type": "markdown",
   "metadata": {},
   "source": [
    "There are no NaN values in df_training_radiomics."
   ]
  },
  {
   "cell_type": "markdown",
   "metadata": {},
   "source": [
    "#### Same check for test data"
   ]
  },
  {
   "cell_type": "code",
   "execution_count": 15,
   "metadata": {},
   "outputs": [
    {
     "data": {
      "text/plain": [
       "0"
      ]
     },
     "execution_count": 15,
     "metadata": {},
     "output_type": "execute_result"
    }
   ],
   "source": [
    "df_test_radiomics.isnull().sum().sum()"
   ]
  },
  {
   "cell_type": "markdown",
   "metadata": {},
   "source": [
    "### Make sure that PatientID are aligned in df_training_clinical_data and df_training_radiomics"
   ]
  },
  {
   "cell_type": "code",
   "execution_count": 16,
   "metadata": {},
   "outputs": [
    {
     "data": {
      "text/plain": [
       "True"
      ]
     },
     "execution_count": 16,
     "metadata": {},
     "output_type": "execute_result"
    }
   ],
   "source": [
    "(df_training_clinical_data.index.values==df_training_radiomics.index.values).sum()==len(df_training_radiomics)"
   ]
  },
  {
   "cell_type": "markdown",
   "metadata": {},
   "source": [
    "PatientIDs are aligned in both training dataframes so no problem."
   ]
  },
  {
   "cell_type": "markdown",
   "metadata": {},
   "source": [
    "### Make sure that PatientID are aligned in df_test_clinical_data and df_test_radiomics"
   ]
  },
  {
   "cell_type": "code",
   "execution_count": 17,
   "metadata": {},
   "outputs": [
    {
     "data": {
      "text/plain": [
       "True"
      ]
     },
     "execution_count": 17,
     "metadata": {},
     "output_type": "execute_result"
    }
   ],
   "source": [
    "(df_test_clinical_data.index.values==df_test_radiomics.index.values).sum()==len(df_test_radiomics)"
   ]
  },
  {
   "cell_type": "markdown",
   "metadata": {},
   "source": [
    "PatientIDs are aligned in both test dataframes so no problem."
   ]
  },
  {
   "cell_type": "markdown",
   "metadata": {},
   "source": [
    "### Baseline model for survival regression on NSCLC clinical data : Cox proportional hazard (Cox-PH) model\n",
    "\n",
    "This baseline is given here : https://challengedata.ens.fr/challenges/33\n",
    "\n",
    "<p style=\"color:red; font-size:20px;\">The baseline proposed reaches a Concordance Index (CI) of 0.691 on the public test set.</p>"
   ]
  },
  {
   "cell_type": "markdown",
   "metadata": {},
   "source": [
    "This baseline is trained on a selection of features from both clinical data file and radiomics file. A Cox-PH model was fitted on\n",
    "\n",
    "- 1 - Tumor sphericity, a measure of the roundness of the shape of the tumor region relative to a sphere, regardless its dimensions (size).\n",
    "- 2 - The tumor's surface to volume ratio is a measure of the compactness of the tumor, related to its size.\n",
    "- 3 - The tumor's maximum 3d diameter The biggest diameter measurable from the tumor volume\n",
    "- 4 - The dataset of origin\n",
    "- 5 - The N-tumoral stage grading of the tumor describing nearby (regional) lymph nodes involved\n",
    "- 6 - The tumor's joint entropy, specifying the randomness in the image pixel values\n",
    "- 7 - The tumor's inverse different, a measure of the local homogeneity of the tumor\n",
    "- 8 - The tumor's inverse difference moment is another measurement of the local homogeneity of the tumor"
   ]
  },
  {
   "cell_type": "markdown",
   "metadata": {},
   "source": [
    "### Name of variables"
   ]
  },
  {
   "cell_type": "markdown",
   "metadata": {},
   "source": [
    "- 1 - original_shape_Sphericity\n",
    "- 2 - original_shape_SurfaceVolumeRatio\n",
    "- 3 - original_shape_Maximum3DDiameter\n",
    "- 4 - l1 (0) or l2 (1)\n",
    "- 5 - Nstage\n",
    "- 6 - original_firstorder_Entropy\n",
    "- 7 - inverse difference (original_glcm_Id)\n",
    "- 8 - inverse difference moment (original_glcm_Idm) (according to [here](https://static-content.springer.com/esm/art%3A10.1038%2Fncomms5006/MediaObjects/41467_2014_BFncomms5006_MOESM716_ESM.pdf), ctr+F IDMN and [here](https://github.com/cerr/CERR/wiki/GLCM_global_features))"
   ]
  },
  {
   "cell_type": "markdown",
   "metadata": {},
   "source": [
    "### Remark"
   ]
  },
  {
   "cell_type": "markdown",
   "metadata": {},
   "source": [
    "Variables used in the baseline use quantitve and qualitive variables. (dataset of origin (l1 or l2))"
   ]
  },
  {
   "cell_type": "code",
   "execution_count": 18,
   "metadata": {},
   "outputs": [
    {
     "data": {
      "text/html": [
       "<div>\n",
       "<style scoped>\n",
       "    .dataframe tbody tr th:only-of-type {\n",
       "        vertical-align: middle;\n",
       "    }\n",
       "\n",
       "    .dataframe tbody tr th {\n",
       "        vertical-align: top;\n",
       "    }\n",
       "\n",
       "    .dataframe thead th {\n",
       "        text-align: right;\n",
       "    }\n",
       "</style>\n",
       "<table border=\"1\" class=\"dataframe\">\n",
       "  <thead>\n",
       "    <tr style=\"text-align: right;\">\n",
       "      <th></th>\n",
       "      <th>Histology</th>\n",
       "      <th>Mstage</th>\n",
       "      <th>Nstage</th>\n",
       "      <th>SourceDataset</th>\n",
       "      <th>Tstage</th>\n",
       "      <th>age</th>\n",
       "    </tr>\n",
       "    <tr>\n",
       "      <th>PatientID</th>\n",
       "      <th></th>\n",
       "      <th></th>\n",
       "      <th></th>\n",
       "      <th></th>\n",
       "      <th></th>\n",
       "      <th></th>\n",
       "    </tr>\n",
       "  </thead>\n",
       "  <tbody>\n",
       "    <tr>\n",
       "      <th>202</th>\n",
       "      <td>Adenocarcinoma</td>\n",
       "      <td>0</td>\n",
       "      <td>0</td>\n",
       "      <td>l2</td>\n",
       "      <td>2</td>\n",
       "      <td>66.0000</td>\n",
       "    </tr>\n",
       "    <tr>\n",
       "      <th>371</th>\n",
       "      <td>large cell</td>\n",
       "      <td>0</td>\n",
       "      <td>2</td>\n",
       "      <td>l1</td>\n",
       "      <td>4</td>\n",
       "      <td>64.5722</td>\n",
       "    </tr>\n",
       "    <tr>\n",
       "      <th>246</th>\n",
       "      <td>squamous cell carcinoma</td>\n",
       "      <td>0</td>\n",
       "      <td>3</td>\n",
       "      <td>l1</td>\n",
       "      <td>2</td>\n",
       "      <td>66.0452</td>\n",
       "    </tr>\n",
       "    <tr>\n",
       "      <th>240</th>\n",
       "      <td>nos</td>\n",
       "      <td>0</td>\n",
       "      <td>2</td>\n",
       "      <td>l1</td>\n",
       "      <td>3</td>\n",
       "      <td>59.3566</td>\n",
       "    </tr>\n",
       "    <tr>\n",
       "      <th>284</th>\n",
       "      <td>squamous cell carcinoma</td>\n",
       "      <td>0</td>\n",
       "      <td>3</td>\n",
       "      <td>l1</td>\n",
       "      <td>4</td>\n",
       "      <td>71.0554</td>\n",
       "    </tr>\n",
       "  </tbody>\n",
       "</table>\n",
       "</div>"
      ],
      "text/plain": [
       "                         Histology  Mstage  Nstage SourceDataset  Tstage  \\\n",
       "PatientID                                                                  \n",
       "202                 Adenocarcinoma       0       0            l2       2   \n",
       "371                     large cell       0       2            l1       4   \n",
       "246        squamous cell carcinoma       0       3            l1       2   \n",
       "240                            nos       0       2            l1       3   \n",
       "284        squamous cell carcinoma       0       3            l1       4   \n",
       "\n",
       "               age  \n",
       "PatientID           \n",
       "202        66.0000  \n",
       "371        64.5722  \n",
       "246        66.0452  \n",
       "240        59.3566  \n",
       "284        71.0554  "
      ]
     },
     "execution_count": 18,
     "metadata": {},
     "output_type": "execute_result"
    }
   ],
   "source": [
    "df_training_clinical_data.head(5)"
   ]
  },
  {
   "cell_type": "code",
   "execution_count": 19,
   "metadata": {},
   "outputs": [],
   "source": [
    "def get_data(df_training_clinical_data, df_training_radiomics, df_test_clinical_data, df_test_radiomics):\n",
    "    ### Encode SourceDataset (\"l1\" or \"l2\") with value between 0 and n_datasets-1.\n",
    "    encoder_source_dataset = LabelEncoder()\n",
    "    encoder_source_dataset.fit(df_training_clinical_data[\"SourceDataset\"])\n",
    "    df_training_clinical_data[\"SourceDataset\"] = encoder_source_dataset.transform(df_training_clinical_data[\"SourceDataset\"])\n",
    "\n",
    "    ### Keep only variables used in the baseline model\n",
    "    radiomics_variable_names_to_keep = [\"original_shape_Sphericity\",\n",
    "                                        \"original_shape_SurfaceVolumeRatio\", \n",
    "                                        \"original_shape_Maximum3DDiameter\",\n",
    "                                        \"original_firstorder_Entropy\",\n",
    "                                        \"original_glcm_Id\",\n",
    "                                        \"original_glcm_Idm\"]\n",
    "\n",
    "    clinial_data_variable_names_to_keep = [\"SourceDataset\",\n",
    "                                           \"Nstage\"]\n",
    "\n",
    "    df_X_train = pd.concat([df_training_radiomics[radiomics_variable_names_to_keep],\n",
    "                            df_training_clinical_data[clinial_data_variable_names_to_keep]\n",
    "                           ], axis=1)\n",
    "\n",
    "    #df_X_train = df_X_train.astype(float)\n",
    "    print(\"Train data :\")\n",
    "    print(df_X_train.info())\n",
    "    print()\n",
    "\n",
    "    df_test_clinical_data[\"SourceDataset\"] = encoder_source_dataset.transform(df_test_clinical_data[\"SourceDataset\"])\n",
    "    df_X_test = pd.concat([df_test_radiomics[radiomics_variable_names_to_keep],\n",
    "                           df_test_clinical_data[clinial_data_variable_names_to_keep]\n",
    "                          ], sort=False, axis=1)\n",
    "\n",
    "    #df_X_test = df_X_test.astype(float)\n",
    "    print(\"Test data :\")\n",
    "    print(df_X_test.info())\n",
    "    return df_X_train.copy(), df_X_test.copy()"
   ]
  },
  {
   "cell_type": "code",
   "execution_count": 20,
   "metadata": {},
   "outputs": [
    {
     "name": "stdout",
     "output_type": "stream",
     "text": [
      "Train data :\n",
      "<class 'pandas.core.frame.DataFrame'>\n",
      "Int64Index: 300 entries, 202 to 366\n",
      "Data columns (total 8 columns):\n",
      " #   Column                             Non-Null Count  Dtype  \n",
      "---  ------                             --------------  -----  \n",
      " 0   original_shape_Sphericity          300 non-null    float64\n",
      " 1   original_shape_SurfaceVolumeRatio  300 non-null    float64\n",
      " 2   original_shape_Maximum3DDiameter   300 non-null    float64\n",
      " 3   original_firstorder_Entropy        300 non-null    float64\n",
      " 4   original_glcm_Id                   300 non-null    float64\n",
      " 5   original_glcm_Idm                  300 non-null    float64\n",
      " 6   SourceDataset                      300 non-null    int64  \n",
      " 7   Nstage                             300 non-null    int64  \n",
      "dtypes: float64(6), int64(2)\n",
      "memory usage: 21.1 KB\n",
      "None\n",
      "\n",
      "Test data :\n",
      "<class 'pandas.core.frame.DataFrame'>\n",
      "Int64Index: 125 entries, 13 to 274\n",
      "Data columns (total 8 columns):\n",
      " #   Column                             Non-Null Count  Dtype  \n",
      "---  ------                             --------------  -----  \n",
      " 0   original_shape_Sphericity          125 non-null    float64\n",
      " 1   original_shape_SurfaceVolumeRatio  125 non-null    float64\n",
      " 2   original_shape_Maximum3DDiameter   125 non-null    float64\n",
      " 3   original_firstorder_Entropy        125 non-null    float64\n",
      " 4   original_glcm_Id                   125 non-null    float64\n",
      " 5   original_glcm_Idm                  125 non-null    float64\n",
      " 6   SourceDataset                      125 non-null    int64  \n",
      " 7   Nstage                             125 non-null    int64  \n",
      "dtypes: float64(6), int64(2)\n",
      "memory usage: 8.8 KB\n",
      "None\n"
     ]
    }
   ],
   "source": [
    "df_X_train, df_X_test = get_data(df_training_clinical_data,\n",
    "                                 df_training_radiomics,\n",
    "                                 df_test_clinical_data,\n",
    "                                 df_test_radiomics)"
   ]
  },
  {
   "cell_type": "markdown",
   "metadata": {},
   "source": [
    "### AutoML sklearn\n",
    "\n",
    "https://automl.github.io/auto-sklearn/master/\n",
    "\n",
    "<p style=\"color:red; font-size:25px;\">Problem</p>\n",
    "\n",
    "AutoSklearnRegressor does not accept multi-dimensional target (label) arrays whereas to compute the concordance index (C-index) with the function given in the competition, we need 3 columns in the target (PatientID, SurvivalTime, Event).\n",
    "\n",
    "To overcome this problem, I had override some classes/methods from [auto-sklearn](https://github.com/automl/auto-sklearn) and [scikit-learn](https://github.com/scikit-learn)."
   ]
  },
  {
   "cell_type": "code",
   "execution_count": 21,
   "metadata": {},
   "outputs": [],
   "source": [
    "from sklearn.model_selection import ShuffleSplit\n",
    "from sklearn.model_selection._split import BaseShuffleSplit, _validate_shuffle_split\n",
    "from sklearn.utils import check_random_state\n",
    "from sklearn.utils.validation import _num_samples"
   ]
  },
  {
   "cell_type": "code",
   "execution_count": 22,
   "metadata": {},
   "outputs": [],
   "source": [
    "random_state = 42\n",
    "val_size = 0.2\n",
    "n_splits = 1\n",
    "time_left_for_this_task = 3600 #60 #600 # default : 3600 # in seconds\n",
    "per_run_time_limit = 360 #30 # default : 360 # in seconds"
   ]
  },
  {
   "cell_type": "markdown",
   "metadata": {},
   "source": [
    "### Get indices of split of training data into train and validation sets\n",
    "\n",
    "I use ShuffleSplit and not train_test_split because AutoSklearnRegressor does not accept train_test_split as resampling_strategy\n",
    "\n",
    "ShuffleSplit is used with the random_state seed chosen above."
   ]
  },
  {
   "cell_type": "markdown",
   "metadata": {},
   "source": [
    "### Override `ShuffleSplit` because there is a problem with the value of `n_splits` that always keeps default value of 10 when using it as resampling_strategy with AutoSklearnRegressor\n",
    "\n",
    "I force n_splits to be equal to 1.\n",
    "\n",
    "The code for `ShuffleSplit` was found [here](https://github.com/scikit-learn/scikit-learn/blob/master/sklearn/model_selection/_split.py) (Ctrl+F ShuffleSplit)\n",
    "\n",
    "I had to keep the name of the class `ShuffleSplit` otherwise I would get an error \"Unknown CrossValidator\". In fact, the list of resampling_strategy is predefined (see code [here](https://github.com/automl/auto-sklearn/pull/442/files) (Ctrl+F Unknown CrossValidator))"
   ]
  },
  {
   "cell_type": "code",
   "execution_count": 23,
   "metadata": {},
   "outputs": [],
   "source": [
    "class ShuffleSplit(BaseShuffleSplit):\n",
    "    \n",
    "    def __init__(self, n_splits=10, test_size=None, train_size=None,\n",
    "                 random_state=None):\n",
    "        n_splits = 1 # !!!!!!!!!!!!!!!!!!!!!!!!!!!!! PROBLEM : n_splits stays at 10 even when changing default value\n",
    "\n",
    "        super().__init__(\n",
    "            n_splits=n_splits,\n",
    "            test_size=test_size,\n",
    "            train_size=train_size,\n",
    "            random_state=random_state)\n",
    "        self._default_test_size = 0.1\n",
    "\n",
    "    def _iter_indices(self, X, y=None, groups=None):\n",
    "        n_samples = _num_samples(X)\n",
    "        n_train, n_test = _validate_shuffle_split(\n",
    "            n_samples, self.test_size, self.train_size,\n",
    "            default_test_size=self._default_test_size)\n",
    "\n",
    "        rng = check_random_state(self.random_state)\n",
    "        for i in range(self.n_splits):\n",
    "            # random partition\n",
    "            permutation = rng.permutation(n_samples)\n",
    "            ind_test = permutation[:n_test]\n",
    "            ind_train = permutation[n_test:(n_test + n_train)]\n",
    "            yield ind_train, ind_test"
   ]
  },
  {
   "cell_type": "code",
   "execution_count": 24,
   "metadata": {},
   "outputs": [
    {
     "name": "stdout",
     "output_type": "stream",
     "text": [
      "n_train 240\n",
      "n_val 60\n"
     ]
    }
   ],
   "source": [
    "suffle_split = ShuffleSplit(n_splits=n_splits, test_size=val_size, random_state=random_state)\n",
    "ind_train, ind_val = [_tuple for _tuple in suffle_split._iter_indices(df_X_train, \n",
    "                                                                      y=df_train_output[\"SurvivalTime\"], \n",
    "                                                                      groups=None)][0]\n",
    "n_train = len(ind_train)\n",
    "n_val = len(ind_val)\n",
    "print(\"n_train\", n_train)\n",
    "print(\"n_val\", n_val)"
   ]
  },
  {
   "cell_type": "code",
   "execution_count": 25,
   "metadata": {},
   "outputs": [],
   "source": [
    "bool_normalize = False\n",
    "\n",
    "if bool_normalize:  \n",
    "    # 0:-2 because we only normalize float columns of dataframe \n",
    "    scaler = StandardScaler()\n",
    "    scaler.fit(df_X_train.values[ind_train, 0:-2])\n",
    "\n",
    "    df_X_train.iloc[ind_train, 0:-2] = scaler.transform(df_X_train.values[ind_train, 0:-2])\n",
    "    df_X_train.iloc[ind_val, 0:-2] = scaler.transform(df_X_train.values[ind_val, 0:-2])\n",
    "    df_X_test.iloc[:, 0:-2] = scaler.transform(df_X_test.values[:, 0:-2])"
   ]
  },
  {
   "cell_type": "code",
   "execution_count": 26,
   "metadata": {},
   "outputs": [],
   "source": [
    "automl = autosklearn.regression.AutoSklearnRegressor(time_left_for_this_task=time_left_for_this_task, # in seconds\n",
    "                                                     per_run_time_limit=per_run_time_limit,\n",
    "                                                     resampling_strategy=ShuffleSplit,\n",
    "                                                     resampling_strategy_arguments={'n_splits': n_splits,\n",
    "                                                                                    'test_size': val_size,\n",
    "                                                                                    'random_state': random_state})"
   ]
  },
  {
   "cell_type": "code",
   "execution_count": 27,
   "metadata": {},
   "outputs": [
    {
     "name": "stdout",
     "output_type": "stream",
     "text": [
      "Available models in AutoSklearnRegressor : \n"
     ]
    },
    {
     "data": {
      "text/plain": [
       "['adaboost',\n",
       " 'ard_regression',\n",
       " 'decision_tree',\n",
       " 'extra_trees',\n",
       " 'gaussian_process',\n",
       " 'gradient_boosting',\n",
       " 'k_nearest_neighbors',\n",
       " 'liblinear_svr',\n",
       " 'libsvm_svr',\n",
       " 'random_forest',\n",
       " 'ridge_regression',\n",
       " 'sgd',\n",
       " 'xgradient_boosting']"
      ]
     },
     "execution_count": 27,
     "metadata": {},
     "output_type": "execute_result"
    }
   ],
   "source": [
    "available_models = [model_name for model_name in autosklearn.pipeline.components.regression._regressors]\n",
    "print(\"Available models in AutoSklearnRegressor : \")\n",
    "available_models"
   ]
  },
  {
   "cell_type": "markdown",
   "metadata": {},
   "source": [
    "### Define metric function to compute C-index with auto-sklearn\n",
    "\n",
    "Documentation for custom metrics in auto-sklearn\n",
    "- https://automl.github.io/auto-sklearn/master/examples/example_metrics.html\n",
    "- (Metric must be instance of autosklearn.metrics.Scorer.)"
   ]
  },
  {
   "cell_type": "code",
   "execution_count": 28,
   "metadata": {},
   "outputs": [],
   "source": [
    "def my_cindex(y_true, y_pred, patient_ids, events, ind_train, ind_val, n_train, n_val, print_cindex=True):\n",
    "    y_true = y_true.ravel()\n",
    "    y_pred = y_pred.ravel()\n",
    "    \n",
    "    if len(y_true)==n_train:\n",
    "        ind = ind_train\n",
    "    elif len(y_true)==n_val:\n",
    "        ind = ind_val\n",
    "    else:\n",
    "        raise Exception(\"y_true.shape={} but should be either {} or {}\".format(y_true.shape, n_train, n_val))\n",
    "\n",
    "    df_y_true = pd.DataFrame({\"PatientID\": patient_ids[ind],\n",
    "                              \"SurvivalTime\": y_true,\n",
    "                              \"Event\": events[ind]\n",
    "                             })\n",
    "    df_y_true = df_y_true.set_index(\"PatientID\")\n",
    "\n",
    "    df_y_pred = pd.DataFrame({\"PatientID\": patient_ids[ind],\n",
    "                              \"SurvivalTime\": y_pred,\n",
    "                              \"Event\": events[ind]*np.nan # because \"`Event`column, whose value does not matter\" in metrics_t9gbvr2.py\n",
    "                             })\n",
    "    df_y_pred = df_y_pred.set_index(\"PatientID\")\n",
    "    \n",
    "    cindex_value = cindex(df_y_true, df_y_pred)\n",
    "    \n",
    "    if print_cindex:\n",
    "        if len(y_true)==n_train:\n",
    "            print(\"train_cindex\", cindex_value)\n",
    "        else:\n",
    "            print(\"val_cindex\", cindex_value)\n",
    "        \n",
    "    return cindex_value\n",
    "\n",
    "cindex_scorer = autosklearn.metrics.make_scorer(name=\"cindex\",\n",
    "                                                score_func=my_cindex,\n",
    "                                                optimum=1,\n",
    "                                                greater_is_better=True,\n",
    "                                                needs_proba=False,\n",
    "                                                needs_threshold=False,\n",
    "                                                patient_ids = df_train_output.index.values,\n",
    "                                                events = df_train_output[\"Event\"].values,\n",
    "                                                ind_train = ind_train,\n",
    "                                                ind_val = ind_val,\n",
    "                                                n_train = n_train,\n",
    "                                                n_val = n_val,\n",
    "                                                print_cindex=False)"
   ]
  },
  {
   "cell_type": "markdown",
   "metadata": {},
   "source": [
    "### Train with cross-validation\n",
    "\n",
    "[See documentation for cross validation with auto-sklearn](https://automl.github.io/auto-sklearn/master/examples/example_crossvalidation.html)"
   ]
  },
  {
   "cell_type": "code",
   "execution_count": 29,
   "metadata": {
    "scrolled": true
   },
   "outputs": [
    {
     "name": "stdout",
     "output_type": "stream",
     "text": [
      "[WARNING] [2020-02-08 13:57:44,749:AutoMLSMBO(1)::data_Q0G7b5t] Could not find meta-data directory /home/damien/.local/lib/python3.6/site-packages/autosklearn/metalearning/files/cindex_regression_dense\n",
      "[WARNING] [2020-02-08 13:57:44,779:EnsembleBuilder(1):data_Q0G7b5t] No models better than random - using Dummy Score!\n",
      "[WARNING] [2020-02-08 13:57:44,806:EnsembleBuilder(1):data_Q0G7b5t] No models better than random - using Dummy Score!\n",
      "[WARNING] [2020-02-08 14:01:21,604:smac.intensification.intensification.Intensifier] Challenger was the same as the current incumbent; Skipping challenger\n",
      "[WARNING] [2020-02-08 14:01:21,604:smac.intensification.intensification.Intensifier] Challenger was the same as the current incumbent; Skipping challenger\n",
      "[14:57:43] WARNING: /workspace/src/objective/regression_obj.cu:152: reg:linear is now deprecated in favor of reg:squarederror.\n"
     ]
    }
   ],
   "source": [
    "start_time = time.time()\n",
    "automl.fit(df_X_train.copy(), \n",
    "           df_train_output[\"SurvivalTime\"].copy(),\n",
    "           dataset_name='data_Q0G7b5t',\n",
    "           metric=cindex_scorer)\n",
    "execution_time = time.time()-start_time"
   ]
  },
  {
   "cell_type": "code",
   "execution_count": 30,
   "metadata": {},
   "outputs": [
    {
     "name": "stdout",
     "output_type": "stream",
     "text": [
      "execution_time 3600.0544214248657\n"
     ]
    }
   ],
   "source": [
    "print(\"execution_time\", execution_time)"
   ]
  },
  {
   "cell_type": "code",
   "execution_count": 31,
   "metadata": {},
   "outputs": [
    {
     "name": "stdout",
     "output_type": "stream",
     "text": [
      "auto-sklearn results:\n",
      "  Dataset name: data_Q0G7b5t\n",
      "  Metric: cindex\n",
      "  Best validation score: 0.745290\n",
      "  Number of target algorithm runs: 665\n",
      "  Number of successful target algorithm runs: 657\n",
      "  Number of crashed target algorithm runs: 1\n",
      "  Number of target algorithms that exceeded the time limit: 7\n",
      "  Number of target algorithms that exceeded the memory limit: 0\n",
      "\n"
     ]
    }
   ],
   "source": [
    "print(automl.sprint_statistics())"
   ]
  },
  {
   "cell_type": "code",
   "execution_count": 32,
   "metadata": {},
   "outputs": [
    {
     "name": "stdout",
     "output_type": "stream",
     "text": [
      "execution_time 8.250693321228027\n"
     ]
    }
   ],
   "source": [
    "start_time = time.time()\n",
    "automl.refit(df_X_train.iloc[ind_train].copy(), df_train_output.iloc[ind_train][\"SurvivalTime\"].copy())\n",
    "execution_time = time.time()-start_time\n",
    "print(\"execution_time\", execution_time)"
   ]
  },
  {
   "cell_type": "markdown",
   "metadata": {},
   "source": [
    "### Remark\n",
    "\n",
    "[See refit method](https://automl.github.io/auto-sklearn/master/api.html#autosklearn.regression.AutoSklearnRegressor.refit)"
   ]
  },
  {
   "cell_type": "markdown",
   "metadata": {},
   "source": [
    "I could have used training and valiation data when using refit but after I do not have any data left to measure the performance of the model as we do not have labels for the test set. That is why I decided to refit only on the training data."
   ]
  },
  {
   "cell_type": "markdown",
   "metadata": {},
   "source": [
    "### Check information"
   ]
  },
  {
   "cell_type": "code",
   "execution_count": 33,
   "metadata": {},
   "outputs": [
    {
     "name": "stdout",
     "output_type": "stream",
     "text": [
      "resampling_strategy : ShuffleSplit\n"
     ]
    }
   ],
   "source": [
    "print(\"resampling_strategy :\", automl.resampling_strategy.__name__)\n",
    "#print(\"metric :\", automl._automl[0]._metric.name)\n",
    "#print(\"Best val_cindex\", automl.cv_results_[\"mean_test_score\"].max())"
   ]
  },
  {
   "cell_type": "code",
   "execution_count": 34,
   "metadata": {},
   "outputs": [
    {
     "name": "stdout",
     "output_type": "stream",
     "text": [
      "auto-sklearn results:\n",
      "  Dataset name: data_Q0G7b5t\n",
      "  Metric: cindex\n",
      "  Best validation score: 0.745290\n",
      "  Number of target algorithm runs: 665\n",
      "  Number of successful target algorithm runs: 657\n",
      "  Number of crashed target algorithm runs: 1\n",
      "  Number of target algorithms that exceeded the time limit: 7\n",
      "  Number of target algorithms that exceeded the memory limit: 0\n",
      "\n"
     ]
    }
   ],
   "source": [
    "print(automl.sprint_statistics())"
   ]
  },
  {
   "cell_type": "code",
   "execution_count": 35,
   "metadata": {},
   "outputs": [
    {
     "name": "stdout",
     "output_type": "stream",
     "text": [
      "[['Success' '0.6510926902739179']\n",
      " ['Success' '0.4691032403883263']\n",
      " ['Success' '0.6160512434015369']\n",
      " ...\n",
      " ['Success' '0.6917859834160378']\n",
      " ['Success' '0.5825169555344196']\n",
      " ['Timeout' '0.0']]\n"
     ]
    }
   ],
   "source": [
    "print(np.c_[automl.cv_results_[\"status\"], automl.cv_results_[\"mean_test_score\"]])"
   ]
  },
  {
   "cell_type": "code",
   "execution_count": 36,
   "metadata": {},
   "outputs": [],
   "source": [
    "df_res = pd.DataFrame(columns=[\"train_cindex\", \"val_cindex\", \"model\"])\n",
    "df_res.loc[\"AutoSklearnRegressor\", :] = (np.nan, \n",
    "                                         automl.cv_results_[\"mean_test_score\"].max(),\n",
    "                                         automl\n",
    "                                        )"
   ]
  },
  {
   "cell_type": "code",
   "execution_count": 37,
   "metadata": {},
   "outputs": [
    {
     "data": {
      "text/html": [
       "<div>\n",
       "<style scoped>\n",
       "    .dataframe tbody tr th:only-of-type {\n",
       "        vertical-align: middle;\n",
       "    }\n",
       "\n",
       "    .dataframe tbody tr th {\n",
       "        vertical-align: top;\n",
       "    }\n",
       "\n",
       "    .dataframe thead th {\n",
       "        text-align: right;\n",
       "    }\n",
       "</style>\n",
       "<table border=\"1\" class=\"dataframe\">\n",
       "  <thead>\n",
       "    <tr style=\"text-align: right;\">\n",
       "      <th></th>\n",
       "      <th>train_cindex</th>\n",
       "      <th>val_cindex</th>\n",
       "      <th>model</th>\n",
       "    </tr>\n",
       "  </thead>\n",
       "  <tbody>\n",
       "    <tr>\n",
       "      <th>AutoSklearnRegressor</th>\n",
       "      <td>NaN</td>\n",
       "      <td>0.74529</td>\n",
       "      <td>AutoSklearnRegressor(delete_output_folder_afte...</td>\n",
       "    </tr>\n",
       "  </tbody>\n",
       "</table>\n",
       "</div>"
      ],
      "text/plain": [
       "                     train_cindex val_cindex  \\\n",
       "AutoSklearnRegressor          NaN    0.74529   \n",
       "\n",
       "                                                                  model  \n",
       "AutoSklearnRegressor  AutoSklearnRegressor(delete_output_folder_afte...  "
      ]
     },
     "execution_count": 37,
     "metadata": {},
     "output_type": "execute_result"
    }
   ],
   "source": [
    "df_res"
   ]
  },
  {
   "cell_type": "markdown",
   "metadata": {},
   "source": [
    "### Remark"
   ]
  },
  {
   "cell_type": "markdown",
   "metadata": {},
   "source": [
    "According to [here](https://github.com/automl/auto-sklearn/blob/master/autosklearn/automl.py), \"mean_train_score - auto-sklearn does not store the train scores\", that is why I put a NaN value for the training_cindex."
   ]
  },
  {
   "cell_type": "code",
   "execution_count": 38,
   "metadata": {},
   "outputs": [
    {
     "name": "stdout",
     "output_type": "stream",
     "text": [
      "Models used with corresponding weights :\n",
      "\n",
      "0.84 : SGD\n",
      "0.12 : ARDRegression\n",
      "0.02 : LibSVM_SVR\n",
      "0.02 : LibSVM_SVR\n",
      "\n",
      "sum(weights) =  1.0\n"
     ]
    }
   ],
   "source": [
    "all_information = automl.get_models_with_weights()\n",
    "weights = []\n",
    "print(\"Models used with corresponding weights :\\n\")\n",
    "for weight, simple_regression_pipeline in all_information:\n",
    "    print(str(weight)+\" : \"+simple_regression_pipeline.get_params()[\"regressor\"].choice.__class__.__name__)\n",
    "    weights.append(weight)\n",
    "print()\n",
    "print(\"sum(weights) = \", np.round(sum(weights),2))"
   ]
  },
  {
   "cell_type": "markdown",
   "metadata": {},
   "source": [
    "### ElasticNet with grid search for `l1_ratio`\n",
    "\n",
    "ElasticNet is not in the list of models used by AutoSklearnRegressor. Let's give it a try.\n",
    "\n",
    "[See documentation](https://scikit-learn.org/stable/modules/generated/sklearn.linear_model.ElasticNet.html)\n",
    "\n",
    "![](http://latex.codecogs.com/gif.latex?\\frac{1}{2\\cdot%20n_{samples}}\\cdot||y-Xw||^2_2+alpha\\cdot%20l1_{ratio}\\cdot||w||_1+0.5\\cdot%20alpha\\cdot(1-l1_{ratio})\\cdot||w||^2_2)\n",
    "\n",
    "Goal : induce sparsity in the solution (feature selection)"
   ]
  },
  {
   "cell_type": "code",
   "execution_count": 39,
   "metadata": {},
   "outputs": [
    {
     "name": "stdout",
     "output_type": "stream",
     "text": [
      "Train data :\n",
      "<class 'pandas.core.frame.DataFrame'>\n",
      "Int64Index: 300 entries, 202 to 366\n",
      "Data columns (total 8 columns):\n",
      " #   Column                             Non-Null Count  Dtype  \n",
      "---  ------                             --------------  -----  \n",
      " 0   original_shape_Sphericity          300 non-null    float64\n",
      " 1   original_shape_SurfaceVolumeRatio  300 non-null    float64\n",
      " 2   original_shape_Maximum3DDiameter   300 non-null    float64\n",
      " 3   original_firstorder_Entropy        300 non-null    float64\n",
      " 4   original_glcm_Id                   300 non-null    float64\n",
      " 5   original_glcm_Idm                  300 non-null    float64\n",
      " 6   SourceDataset                      300 non-null    int64  \n",
      " 7   Nstage                             300 non-null    int64  \n",
      "dtypes: float64(6), int64(2)\n",
      "memory usage: 21.1 KB\n",
      "None\n",
      "\n",
      "Test data :\n",
      "<class 'pandas.core.frame.DataFrame'>\n",
      "Int64Index: 125 entries, 13 to 274\n",
      "Data columns (total 8 columns):\n",
      " #   Column                             Non-Null Count  Dtype  \n",
      "---  ------                             --------------  -----  \n",
      " 0   original_shape_Sphericity          125 non-null    float64\n",
      " 1   original_shape_SurfaceVolumeRatio  125 non-null    float64\n",
      " 2   original_shape_Maximum3DDiameter   125 non-null    float64\n",
      " 3   original_firstorder_Entropy        125 non-null    float64\n",
      " 4   original_glcm_Id                   125 non-null    float64\n",
      " 5   original_glcm_Idm                  125 non-null    float64\n",
      " 6   SourceDataset                      125 non-null    int64  \n",
      " 7   Nstage                             125 non-null    int64  \n",
      "dtypes: float64(6), int64(2)\n",
      "memory usage: 8.8 KB\n",
      "None\n"
     ]
    }
   ],
   "source": [
    "df_X_train, df_X_test = get_data(df_training_clinical_data,\n",
    "                                 df_training_radiomics,\n",
    "                                 df_test_clinical_data,\n",
    "                                 df_test_radiomics)"
   ]
  },
  {
   "cell_type": "code",
   "execution_count": 40,
   "metadata": {},
   "outputs": [
    {
     "name": "stdout",
     "output_type": "stream",
     "text": [
      "X_train.shape (240, 8)\n",
      "len(df_y_train) 240\n",
      "X_val.shape (60, 8)\n",
      "len(df_y_val) 60\n",
      "X_test.shape (125, 8)\n"
     ]
    }
   ],
   "source": [
    "X_train = df_X_train.values[ind_train]\n",
    "df_y_train = df_train_output.iloc[ind_train]\n",
    "X_val = df_X_train.values[ind_val]\n",
    "df_y_val = df_train_output.iloc[ind_val]\n",
    "X_test = df_X_test.values\n",
    "\n",
    "print(\"X_train.shape\", X_train.shape)\n",
    "print(\"len(df_y_train)\", len(df_y_train))\n",
    "print(\"X_val.shape\", X_val.shape)\n",
    "print(\"len(df_y_val)\", len(df_y_val))\n",
    "print(\"X_test.shape\", X_test.shape)"
   ]
  },
  {
   "cell_type": "code",
   "execution_count": 41,
   "metadata": {},
   "outputs": [],
   "source": [
    "def predict_compute_cindex(model, X, df_y):\n",
    "    y_pred = model.predict(X)\n",
    "\n",
    "    df_y_pred = df_y.copy()\n",
    "    df_y_pred[\"SurvivalTime\"] = y_pred\n",
    "    df_y_pred[\"Event\"] = np.nan\n",
    "    return cindex(df_y, df_y_pred)"
   ]
  },
  {
   "cell_type": "code",
   "execution_count": 42,
   "metadata": {},
   "outputs": [
    {
     "name": "stdout",
     "output_type": "stream",
     "text": [
      "Best l1_ratio 0.05\n",
      "grid_l1_ratio [0.05 0.15 0.25 0.35 0.45 0.55 0.65 0.75 0.85 0.95 1.  ]\n"
     ]
    },
    {
     "data": {
      "text/html": [
       "<div>\n",
       "<style scoped>\n",
       "    .dataframe tbody tr th:only-of-type {\n",
       "        vertical-align: middle;\n",
       "    }\n",
       "\n",
       "    .dataframe tbody tr th {\n",
       "        vertical-align: top;\n",
       "    }\n",
       "\n",
       "    .dataframe thead th {\n",
       "        text-align: right;\n",
       "    }\n",
       "</style>\n",
       "<table border=\"1\" class=\"dataframe\">\n",
       "  <thead>\n",
       "    <tr style=\"text-align: right;\">\n",
       "      <th></th>\n",
       "      <th>train_cindex</th>\n",
       "      <th>val_cindex</th>\n",
       "      <th>model</th>\n",
       "    </tr>\n",
       "  </thead>\n",
       "  <tbody>\n",
       "    <tr>\n",
       "      <th>AutoSklearnRegressor</th>\n",
       "      <td>NaN</td>\n",
       "      <td>0.74529</td>\n",
       "      <td>AutoSklearnRegressor(delete_output_folder_afte...</td>\n",
       "    </tr>\n",
       "    <tr>\n",
       "      <th>ElasticNet</th>\n",
       "      <td>0.676661</td>\n",
       "      <td>0.712886</td>\n",
       "      <td>ElasticNet(alpha=1.0, copy_X=True, fit_interce...</td>\n",
       "    </tr>\n",
       "  </tbody>\n",
       "</table>\n",
       "</div>"
      ],
      "text/plain": [
       "                     train_cindex val_cindex  \\\n",
       "AutoSklearnRegressor          NaN    0.74529   \n",
       "ElasticNet               0.676661   0.712886   \n",
       "\n",
       "                                                                  model  \n",
       "AutoSklearnRegressor  AutoSklearnRegressor(delete_output_folder_afte...  \n",
       "ElasticNet            ElasticNet(alpha=1.0, copy_X=True, fit_interce...  "
      ]
     },
     "execution_count": 42,
     "metadata": {},
     "output_type": "execute_result"
    }
   ],
   "source": [
    "model_information = {\"train_cindex\": [],\n",
    "                     \"val_cindex\": [],\n",
    "                     \"model\": [],\n",
    "                     \"grid_l1_ratio\": list(np.arange(0.05, 1, 0.1))+[1]}\n",
    "\n",
    "for l1_ratio in model_information[\"grid_l1_ratio\"]:\n",
    "    model = ElasticNet(alpha=1.0, l1_ratio=l1_ratio, fit_intercept=not bool_normalize) # l1_ratio = 1 <=> Lasso\n",
    "    model.fit(X_train, df_y_train[\"SurvivalTime\"])\n",
    "    \n",
    "    model_information[\"train_cindex\"].append(predict_compute_cindex(model, X_train, df_y_train))    \n",
    "    model_information[\"val_cindex\"].append(predict_compute_cindex(model, X_val, df_y_val))    \n",
    "    model_information[\"model\"].append(model)\n",
    "    \n",
    "index_best_val_cindex = np.argmax(model_information[\"val_cindex\"])\n",
    "best_elastic_net_model = model_information[\"model\"][index_best_val_cindex]\n",
    "best_l1_ratio = model_information[\"grid_l1_ratio\"][index_best_val_cindex]\n",
    "df_res.loc[\"ElasticNet\", :] = (model_information[\"train_cindex\"][index_best_val_cindex],\n",
    "                               model_information[\"val_cindex\"][index_best_val_cindex],\n",
    "                               best_elastic_net_model)\n",
    "\n",
    "print(\"Best l1_ratio\", best_l1_ratio)\n",
    "print(\"grid_l1_ratio {}\".format(np.round(model_information[\"grid_l1_ratio\"], 2)))\n",
    "df_res"
   ]
  },
  {
   "cell_type": "code",
   "execution_count": 43,
   "metadata": {},
   "outputs": [
    {
     "data": {
      "image/png": "[encoded data removed]",
      "text/plain": [
       "<Figure size 432x288 with 1 Axes>"
      ]
     },
     "metadata": {
      "needs_background": "light"
     },
     "output_type": "display_data"
    }
   ],
   "source": [
    "plt.figure()\n",
    "plt.plot(best_elastic_net_model.coef_, 'ro')\n",
    "plt.grid()\n",
    "plt.title(\"Coefficients of ElasticNet solution | best_l1_ratio={}\".format(best_l1_ratio))\n",
    "plt.show()"
   ]
  },
  {
   "cell_type": "code",
   "execution_count": 44,
   "metadata": {},
   "outputs": [],
   "source": [
    "if os.path.exists(os.path.join(best_model_path, best_model_name)):\n",
    "    with open(os.path.join(best_model_path, best_model_name), 'rb') as f:\n",
    "        dict_pickle_res = pickle.load(f)\n",
    "        \n",
    "    df_res.loc[\"Current saved model ({})\".format(dict_pickle_res[\"best_model\"].__class__.__name__), :] = (dict_pickle_res[\"best_train_cindex\"],\n",
    "                                                                                                          dict_pickle_res[\"best_val_cindex\"],\n",
    "                                                                                                          dict_pickle_res[\"best_model\"])"
   ]
  },
  {
   "cell_type": "code",
   "execution_count": 45,
   "metadata": {},
   "outputs": [
    {
     "data": {
      "text/html": [
       "<div>\n",
       "<style scoped>\n",
       "    .dataframe tbody tr th:only-of-type {\n",
       "        vertical-align: middle;\n",
       "    }\n",
       "\n",
       "    .dataframe tbody tr th {\n",
       "        vertical-align: top;\n",
       "    }\n",
       "\n",
       "    .dataframe thead th {\n",
       "        text-align: right;\n",
       "    }\n",
       "</style>\n",
       "<table border=\"1\" class=\"dataframe\">\n",
       "  <thead>\n",
       "    <tr style=\"text-align: right;\">\n",
       "      <th></th>\n",
       "      <th>train_cindex</th>\n",
       "      <th>val_cindex</th>\n",
       "      <th>model</th>\n",
       "    </tr>\n",
       "  </thead>\n",
       "  <tbody>\n",
       "    <tr>\n",
       "      <th>AutoSklearnRegressor</th>\n",
       "      <td>NaN</td>\n",
       "      <td>0.74529</td>\n",
       "      <td>AutoSklearnRegressor(delete_output_folder_afte...</td>\n",
       "    </tr>\n",
       "    <tr>\n",
       "      <th>ElasticNet</th>\n",
       "      <td>0.676661</td>\n",
       "      <td>0.712886</td>\n",
       "      <td>ElasticNet(alpha=1.0, copy_X=True, fit_interce...</td>\n",
       "    </tr>\n",
       "    <tr>\n",
       "      <th>Current saved model (AutoSklearnRegressor)</th>\n",
       "      <td>NaN</td>\n",
       "      <td>0.749435</td>\n",
       "      <td>AutoSklearnRegressor(delete_output_folder_afte...</td>\n",
       "    </tr>\n",
       "  </tbody>\n",
       "</table>\n",
       "</div>"
      ],
      "text/plain": [
       "                                           train_cindex val_cindex  \\\n",
       "AutoSklearnRegressor                                NaN    0.74529   \n",
       "ElasticNet                                     0.676661   0.712886   \n",
       "Current saved model (AutoSklearnRegressor)          NaN   0.749435   \n",
       "\n",
       "                                                                                        model  \n",
       "AutoSklearnRegressor                        AutoSklearnRegressor(delete_output_folder_afte...  \n",
       "ElasticNet                                  ElasticNet(alpha=1.0, copy_X=True, fit_interce...  \n",
       "Current saved model (AutoSklearnRegressor)  AutoSklearnRegressor(delete_output_folder_afte...  "
      ]
     },
     "execution_count": 45,
     "metadata": {},
     "output_type": "execute_result"
    }
   ],
   "source": [
    "df_res"
   ]
  },
  {
   "cell_type": "code",
   "execution_count": 46,
   "metadata": {},
   "outputs": [],
   "source": [
    "def plot_accuracies(df, title):\n",
    "    figure = plt.figure()\n",
    "    colors = [\"r-o\", \"b-o\", \"y-o\", \"g-o\", \"c-o\", \"k-o\"]\n",
    "    methods = df.index\n",
    "    for i, (line, color) in enumerate(zip(df.values, colors)):\n",
    "        plt.plot(np.arange(len(line)), line, color, label=methods[i])\n",
    "    plt.ylabel('C-index')\n",
    "    plt.xticks(np.arange(len(df.columns)),[name for name in df.columns])\n",
    "    plt.legend(bbox_to_anchor=(1.5, 0.75))\n",
    "    plt.title(title)\n",
    "    plt.grid()\n",
    "    plt.show()"
   ]
  },
  {
   "cell_type": "code",
   "execution_count": 47,
   "metadata": {
    "scrolled": false
   },
   "outputs": [
    {
     "data": {
      "image/png": "[encoded data removed]",
      "text/plain": [
       "<Figure size 432x288 with 1 Axes>"
      ]
     },
     "metadata": {
      "needs_background": "light"
     },
     "output_type": "display_data"
    }
   ],
   "source": [
    "plot_accuracies(df_res.drop(columns=[\"model\"]), \"C-index in function of model\")"
   ]
  },
  {
   "cell_type": "code",
   "execution_count": 48,
   "metadata": {},
   "outputs": [],
   "source": [
    "index_best_model = np.argmax(df_res[\"val_cindex\"].values)\n",
    "best_val_cindex = df_res[\"val_cindex\"].values[index_best_model]\n",
    "best_train_cindex = df_res[\"train_cindex\"].values[index_best_model]\n",
    "best_model = df_res[\"model\"][index_best_model]"
   ]
  },
  {
   "cell_type": "code",
   "execution_count": 49,
   "metadata": {},
   "outputs": [
    {
     "data": {
      "text/plain": [
       "AutoSklearnRegressor(delete_output_folder_after_terminate=True,\n",
       "                     delete_tmp_folder_after_terminate=True,\n",
       "                     disable_evaluator_output=False, ensemble_memory_limit=1024,\n",
       "                     ensemble_nbest=50, ensemble_size=50,\n",
       "                     exclude_estimators=None, exclude_preprocessors=None,\n",
       "                     get_smac_object_callback=None, include_estimators=None,\n",
       "                     include_preprocessors=None,\n",
       "                     initial_configurations_...arning=25,\n",
       "                     logging_config=None, metadata_directory=None,\n",
       "                     ml_memory_limit=3072, n_jobs=None, output_folder=None,\n",
       "                     per_run_time_limit=30,\n",
       "                     resampling_strategy=<class '__main__.ShuffleSplit'>,\n",
       "                     resampling_strategy_arguments={'n_splits': 1,\n",
       "                                                    'random_state': 42,\n",
       "                                                    'test_size': 0.2},\n",
       "                     seed=1, shared_mode=False, smac_scenario_args=None,\n",
       "                     time_left_for_this_task=60, tmp_folder=None)"
      ]
     },
     "execution_count": 49,
     "metadata": {},
     "output_type": "execute_result"
    }
   ],
   "source": [
    "best_model"
   ]
  },
  {
   "cell_type": "markdown",
   "metadata": {},
   "source": [
    "### Test"
   ]
  },
  {
   "cell_type": "code",
   "execution_count": 50,
   "metadata": {},
   "outputs": [],
   "source": [
    "y_test_pred = best_model.predict(X_test)"
   ]
  },
  {
   "cell_type": "markdown",
   "metadata": {},
   "source": [
    "### Read random submission example"
   ]
  },
  {
   "cell_type": "code",
   "execution_count": 51,
   "metadata": {
    "scrolled": true
   },
   "outputs": [
    {
     "data": {
      "text/html": [
       "<div>\n",
       "<style scoped>\n",
       "    .dataframe tbody tr th:only-of-type {\n",
       "        vertical-align: middle;\n",
       "    }\n",
       "\n",
       "    .dataframe tbody tr th {\n",
       "        vertical-align: top;\n",
       "    }\n",
       "\n",
       "    .dataframe thead th {\n",
       "        text-align: right;\n",
       "    }\n",
       "</style>\n",
       "<table border=\"1\" class=\"dataframe\">\n",
       "  <thead>\n",
       "    <tr style=\"text-align: right;\">\n",
       "      <th></th>\n",
       "      <th>SurvivalTime</th>\n",
       "      <th>Event</th>\n",
       "    </tr>\n",
       "    <tr>\n",
       "      <th>PatientID</th>\n",
       "      <th></th>\n",
       "      <th></th>\n",
       "    </tr>\n",
       "  </thead>\n",
       "  <tbody>\n",
       "    <tr>\n",
       "      <th>13</th>\n",
       "      <td>788.417673</td>\n",
       "      <td>NaN</td>\n",
       "    </tr>\n",
       "    <tr>\n",
       "      <th>155</th>\n",
       "      <td>427.650092</td>\n",
       "      <td>NaN</td>\n",
       "    </tr>\n",
       "    <tr>\n",
       "      <th>404</th>\n",
       "      <td>173.587222</td>\n",
       "      <td>NaN</td>\n",
       "    </tr>\n",
       "    <tr>\n",
       "      <th>407</th>\n",
       "      <td>389.877973</td>\n",
       "      <td>NaN</td>\n",
       "    </tr>\n",
       "    <tr>\n",
       "      <th>9</th>\n",
       "      <td>1580.767244</td>\n",
       "      <td>NaN</td>\n",
       "    </tr>\n",
       "  </tbody>\n",
       "</table>\n",
       "</div>"
      ],
      "text/plain": [
       "           SurvivalTime  Event\n",
       "PatientID                     \n",
       "13           788.417673    NaN\n",
       "155          427.650092    NaN\n",
       "404          173.587222    NaN\n",
       "407          389.877973    NaN\n",
       "9           1580.767244    NaN"
      ]
     },
     "execution_count": 51,
     "metadata": {},
     "output_type": "execute_result"
    }
   ],
   "source": [
    "df_predicted_survival_time = pd.read_csv(os.path.join(submission_example_file_path, \"random_submission_0vhlEZN.csv\"), index_col=0)\n",
    "df_predicted_survival_time.head(5)"
   ]
  },
  {
   "cell_type": "markdown",
   "metadata": {},
   "source": [
    "### Write my test prediction to my submission file"
   ]
  },
  {
   "cell_type": "code",
   "execution_count": 52,
   "metadata": {},
   "outputs": [],
   "source": [
    "df_predicted_survival_time.index = df_test_clinical_data.index\n",
    "df_predicted_survival_time[\"SurvivalTime\"] = y_test_pred"
   ]
  },
  {
   "cell_type": "code",
   "execution_count": 53,
   "metadata": {},
   "outputs": [
    {
     "data": {
      "text/html": [
       "<div>\n",
       "<style scoped>\n",
       "    .dataframe tbody tr th:only-of-type {\n",
       "        vertical-align: middle;\n",
       "    }\n",
       "\n",
       "    .dataframe tbody tr th {\n",
       "        vertical-align: top;\n",
       "    }\n",
       "\n",
       "    .dataframe thead th {\n",
       "        text-align: right;\n",
       "    }\n",
       "</style>\n",
       "<table border=\"1\" class=\"dataframe\">\n",
       "  <thead>\n",
       "    <tr style=\"text-align: right;\">\n",
       "      <th></th>\n",
       "      <th>SurvivalTime</th>\n",
       "      <th>Event</th>\n",
       "    </tr>\n",
       "    <tr>\n",
       "      <th>PatientID</th>\n",
       "      <th></th>\n",
       "      <th></th>\n",
       "    </tr>\n",
       "  </thead>\n",
       "  <tbody>\n",
       "    <tr>\n",
       "      <th>13</th>\n",
       "      <td>821.954781</td>\n",
       "      <td>NaN</td>\n",
       "    </tr>\n",
       "    <tr>\n",
       "      <th>155</th>\n",
       "      <td>871.485964</td>\n",
       "      <td>NaN</td>\n",
       "    </tr>\n",
       "    <tr>\n",
       "      <th>404</th>\n",
       "      <td>829.352798</td>\n",
       "      <td>NaN</td>\n",
       "    </tr>\n",
       "    <tr>\n",
       "      <th>407</th>\n",
       "      <td>839.379711</td>\n",
       "      <td>NaN</td>\n",
       "    </tr>\n",
       "    <tr>\n",
       "      <th>9</th>\n",
       "      <td>864.013339</td>\n",
       "      <td>NaN</td>\n",
       "    </tr>\n",
       "  </tbody>\n",
       "</table>\n",
       "</div>"
      ],
      "text/plain": [
       "           SurvivalTime  Event\n",
       "PatientID                     \n",
       "13           821.954781    NaN\n",
       "155          871.485964    NaN\n",
       "404          829.352798    NaN\n",
       "407          839.379711    NaN\n",
       "9            864.013339    NaN"
      ]
     },
     "execution_count": 53,
     "metadata": {},
     "output_type": "execute_result"
    }
   ],
   "source": [
    "df_predicted_survival_time.head(5)"
   ]
  },
  {
   "cell_type": "code",
   "execution_count": 54,
   "metadata": {},
   "outputs": [],
   "source": [
    "df_predicted_survival_time.to_csv(os.path.join(my_submission_path, \"submission.csv\"))"
   ]
  },
  {
   "cell_type": "markdown",
   "metadata": {},
   "source": [
    "### Save model"
   ]
  },
  {
   "cell_type": "code",
   "execution_count": 55,
   "metadata": {},
   "outputs": [],
   "source": [
    "dict_pickle_res = {}\n",
    "dict_pickle_res[\"best_train_cindex\"] = best_train_cindex\n",
    "dict_pickle_res[\"best_val_cindex\"] = best_val_cindex\n",
    "dict_pickle_res[\"best_model\"] = best_model\n",
    "\n",
    "with open(os.path.join(best_model_path, best_model_name), 'wb') as f:\n",
    "    pickle.dump(dict_pickle_res, f)"
   ]
  },
  {
   "cell_type": "markdown",
   "metadata": {},
   "source": [
    "### Load model\n",
    "\n",
    "(to check if the model was saved properly)"
   ]
  },
  {
   "cell_type": "code",
   "execution_count": 56,
   "metadata": {},
   "outputs": [],
   "source": [
    "with open(os.path.join(best_model_path, best_model_name), 'rb') as f:\n",
    "    dict_pickle_res = pickle.load(f)"
   ]
  },
  {
   "cell_type": "code",
   "execution_count": 57,
   "metadata": {},
   "outputs": [
    {
     "name": "stdout",
     "output_type": "stream",
     "text": [
      "best_train_cindex nan\n",
      "best_val_cindex 0.7494348153673743\n",
      "best_model AutoSklearnRegressor(delete_output_folder_after_terminate=True,\n",
      "                     delete_tmp_folder_after_terminate=True,\n",
      "                     disable_evaluator_output=False, ensemble_memory_limit=1024,\n",
      "                     ensemble_nbest=50, ensemble_size=50,\n",
      "                     exclude_estimators=None, exclude_preprocessors=None,\n",
      "                     get_smac_object_callback=None, include_estimators=None,\n",
      "                     include_preprocessors=None,\n",
      "                     initial_configurations_...arning=25,\n",
      "                     logging_config=None, metadata_directory=None,\n",
      "                     ml_memory_limit=3072, n_jobs=None, output_folder=None,\n",
      "                     per_run_time_limit=30,\n",
      "                     resampling_strategy=<class '__main__.ShuffleSplit'>,\n",
      "                     resampling_strategy_arguments={'n_splits': 1,\n",
      "                                                    'random_state': 42,\n",
      "                                                    'test_size': 0.2},\n",
      "                     seed=1, shared_mode=False, smac_scenario_args=None,\n",
      "                     time_left_for_this_task=60, tmp_folder=None)\n"
     ]
    }
   ],
   "source": [
    "print(\"best_train_cindex\", dict_pickle_res[\"best_train_cindex\"])\n",
    "print(\"best_val_cindex\", dict_pickle_res[\"best_val_cindex\"])\n",
    "print(\"best_model\", dict_pickle_res[\"best_model\"])"
   ]
  },
  {
   "cell_type": "code",
   "execution_count": 58,
   "metadata": {},
   "outputs": [
    {
     "data": {
      "text/plain": [
       "[821.9547814941407,\n",
       " 871.4859643554688,\n",
       " 829.3527978515625,\n",
       " 839.3797106933594,\n",
       " 864.0133386230469]"
      ]
     },
     "execution_count": 58,
     "metadata": {},
     "output_type": "execute_result"
    }
   ],
   "source": [
    "y_test_pred = best_model.predict(X_test)\n",
    "list(y_test_pred[0:5])"
   ]
  },
  {
   "cell_type": "code",
   "execution_count": 59,
   "metadata": {},
   "outputs": [
    {
     "data": {
      "image/png": "[encoded data removed]",
      "text/plain": [
       "<Figure size 432x288 with 1 Axes>"
      ]
     },
     "metadata": {
      "needs_background": "light"
     },
     "output_type": "display_data"
    }
   ],
   "source": [
    "plt.figure()\n",
    "plt.scatter(np.arange(len(y_test_pred)), y_test_pred)\n",
    "plt.grid()\n",
    "plt.title(\"Predicted survival time on test set with best model\")\n",
    "plt.show()"
   ]
  },
  {
   "cell_type": "markdown",
   "metadata": {},
   "source": [
    "### Remark"
   ]
  },
  {
   "cell_type": "markdown",
   "metadata": {},
   "source": [
    "When looking at the plot above, we can see that all the survival times are located between 800 and 930 days which seems surprising. I wonder if the C-index score is a good performance metric."
   ]
  },
  {
   "cell_type": "markdown",
   "metadata": {},
   "source": [
    "### CNN for regression with CT scans"
   ]
  },
  {
   "cell_type": "markdown",
   "metadata": {},
   "source": [
    "[See code on Google Colab (for GPU purposes)]()"
   ]
  },
  {
   "cell_type": "markdown",
   "metadata": {},
   "source": [
    "### TO DO"
   ]
  },
  {
   "cell_type": "markdown",
   "metadata": {},
   "source": [
    "- Dense Neural Net for regression\n",
    "- Choose other variables in the data (clinical_data.csv, radiomics.csv) instead of the ones of the baseline\n",
    "- Regression on missing ages and histology and then take these variables into account"
   ]
  }
 ],
 "metadata": {
  "kernelspec": {
   "display_name": "Python 3",
   "language": "python",
   "name": "python3"
  },
  "language_info": {
   "codemirror_mode": {
    "name": "ipython",
    "version": 3
   },
   "file_extension": ".py",
   "mimetype": "text/x-python",
   "name": "python",
   "nbconvert_exporter": "python",
   "pygments_lexer": "ipython3",
   "version": "3.6.8"
  }
 },
 "nbformat": 4,
 "nbformat_minor": 2
}
